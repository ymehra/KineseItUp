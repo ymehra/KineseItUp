{
 "cells": [
  {
   "cell_type": "code",
   "execution_count": 202,
   "metadata": {},
   "outputs": [],
   "source": [
    "import pandas as pd\n",
    "import json\n",
    "import sklearn.svm as svm\n",
    "from sklearn.linear_model import Lasso, LassoCV\n",
    "from sklearn.feature_selection import SelectFromModel\n",
    "import numpy as np\n",
    "from sklearn.neural_network import MLPClassifier"
   ]
  },
  {
   "cell_type": "code",
   "execution_count": 236,
   "metadata": {},
   "outputs": [],
   "source": [
    "## Change the name to get your path\n",
    "user = 'Yash'\n",
    "file1 = 'AG04-01.csv'\n",
    "file2 = 'GTW04-01.csv'\n",
    "# file3 = 'GTA04-02.csv'\n",
    "startTimeWork = '2017-09-12 12:03:00'\n",
    "endTimeWork = '2017-09-12 14:03:00'\n",
    "# startTimeActive = '2017-09-17 14:16:00'\n",
    "# endTimeActive = '2017-09-17 16:16:00'\n",
    "file4 = 'AG01-01.csv'\n",
    "file5 = 'GTL01-02.csv'\n",
    "startTimeLeisure = '2017-10-03 18:46:00'\n",
    "endTimeLeisure = '2017-10-03 20:46:00'"
   ]
  },
  {
   "cell_type": "code",
   "execution_count": 213,
   "metadata": {},
   "outputs": [],
   "source": [
    "def load_Data(user, filename):\n",
    "   data = json.load(open('dir.json'))\n",
    "   dir = data[user] + filename\n",
    "#    data = pd.read_csv(dir, header=2)\n",
    "   return dir"
   ]
  },
  {
   "cell_type": "code",
   "execution_count": 214,
   "metadata": {},
   "outputs": [],
   "source": [
    "def useable_Data(data, gt, timeStart, timeEnd):\n",
    "    data['start.time'] = pd.to_datetime(data['start.time'])\n",
    "    observedData = data[(data['start.time'] >= timeStart) & (data['start.time'] <= timeEnd)]\n",
    "    observedData['index'] = range(len(observedData))\n",
    "    gt['index'] = gt['time']\n",
    "    observedData = pd.merge(observedData,gt[['index','coding']])\n",
    "    observedData.sort_index(inplace=True)\n",
    "    copy = observedData[['mean.vm','sd.vm','mean.ang','sd.ang','p625','dfreq','ratio.df']].copy(deep=True)\n",
    "    copy.loc[-1] = copy.loc[0]  # adding a row\n",
    "    copy.index = copy.index + 1  # shifting index\n",
    "    copy.sort_index(inplace=True)\n",
    "    copy.columns = 'last.' + copy.columns\n",
    "    observedData = pd.concat([observedData, copy], axis = 1)\n",
    "    observedData = observedData.drop(observedData.index[len(observedData)-1])\n",
    "    return observedData"
   ]
  },
  {
   "cell_type": "code",
   "execution_count": 215,
   "metadata": {},
   "outputs": [],
   "source": [
    "def select_features_from_lasso(X, y, alpha):\n",
    "    # fit lasso model and pass to select from model\n",
    "    lasso = LassoCV().fit(X, y)\n",
    "    model = SelectFromModel(lasso, prefit=True)\n",
    "\n",
    "    # new features\n",
    "    X_new = model.transform(X)\n",
    "    return X.columns[model.get_support()]"
   ]
  },
  {
   "cell_type": "code",
   "execution_count": 250,
   "metadata": {
    "scrolled": false
   },
   "outputs": [
    {
     "name": "stderr",
     "output_type": "stream",
     "text": [
      "/Users/yashmehra/anaconda3/lib/python3.6/site-packages/ipykernel_launcher.py:4: SettingWithCopyWarning: \n",
      "A value is trying to be set on a copy of a slice from a DataFrame.\n",
      "Try using .loc[row_indexer,col_indexer] = value instead\n",
      "\n",
      "See the caveats in the documentation: http://pandas.pydata.org/pandas-docs/stable/indexing.html#indexing-view-versus-copy\n",
      "  after removing the cwd from sys.path.\n"
     ]
    },
    {
     "data": {
      "text/html": [
       "<div>\n",
       "<style scoped>\n",
       "    .dataframe tbody tr th:only-of-type {\n",
       "        vertical-align: middle;\n",
       "    }\n",
       "\n",
       "    .dataframe tbody tr th {\n",
       "        vertical-align: top;\n",
       "    }\n",
       "\n",
       "    .dataframe thead th {\n",
       "        text-align: right;\n",
       "    }\n",
       "</style>\n",
       "<table border=\"1\" class=\"dataframe\">\n",
       "  <thead>\n",
       "    <tr style=\"text-align: right;\">\n",
       "      <th></th>\n",
       "      <th>Unnamed: 0</th>\n",
       "      <th>coding</th>\n",
       "      <th>dfreq</th>\n",
       "      <th>index</th>\n",
       "      <th>last.dfreq</th>\n",
       "      <th>last.mean.ang</th>\n",
       "      <th>last.mean.vm</th>\n",
       "      <th>last.p625</th>\n",
       "      <th>last.ratio.df</th>\n",
       "      <th>last.sd.ang</th>\n",
       "      <th>last.sd.vm</th>\n",
       "      <th>mean.ang</th>\n",
       "      <th>mean.vm</th>\n",
       "      <th>p625</th>\n",
       "      <th>ratio.df</th>\n",
       "      <th>sd.ang</th>\n",
       "      <th>sd.vm</th>\n",
       "      <th>start.time</th>\n",
       "      <th>type</th>\n",
       "    </tr>\n",
       "  </thead>\n",
       "  <tbody>\n",
       "    <tr>\n",
       "      <th>0</th>\n",
       "      <td>87481.0</td>\n",
       "      <td>non-sedentary</td>\n",
       "      <td>4.102564</td>\n",
       "      <td>0.0</td>\n",
       "      <td>4.102564</td>\n",
       "      <td>-17.691455</td>\n",
       "      <td>1.039847</td>\n",
       "      <td>0.0</td>\n",
       "      <td>0.0</td>\n",
       "      <td>0.0</td>\n",
       "      <td>0.0</td>\n",
       "      <td>-17.691455</td>\n",
       "      <td>1.039847</td>\n",
       "      <td>0.0</td>\n",
       "      <td>0.0</td>\n",
       "      <td>0.0</td>\n",
       "      <td>0.0</td>\n",
       "      <td>2017-09-12 12:03:00</td>\n",
       "      <td>W-04</td>\n",
       "    </tr>\n",
       "    <tr>\n",
       "      <th>1</th>\n",
       "      <td>87482.0</td>\n",
       "      <td>non-sedentary</td>\n",
       "      <td>4.102564</td>\n",
       "      <td>1.0</td>\n",
       "      <td>4.102564</td>\n",
       "      <td>-17.691455</td>\n",
       "      <td>1.039847</td>\n",
       "      <td>0.0</td>\n",
       "      <td>0.0</td>\n",
       "      <td>0.0</td>\n",
       "      <td>0.0</td>\n",
       "      <td>-17.691455</td>\n",
       "      <td>1.039847</td>\n",
       "      <td>0.0</td>\n",
       "      <td>0.0</td>\n",
       "      <td>0.0</td>\n",
       "      <td>0.0</td>\n",
       "      <td>2017-09-12 12:03:01</td>\n",
       "      <td>W-04</td>\n",
       "    </tr>\n",
       "    <tr>\n",
       "      <th>2</th>\n",
       "      <td>87483.0</td>\n",
       "      <td>non-sedentary</td>\n",
       "      <td>4.102564</td>\n",
       "      <td>2.0</td>\n",
       "      <td>4.102564</td>\n",
       "      <td>-17.691455</td>\n",
       "      <td>1.039847</td>\n",
       "      <td>0.0</td>\n",
       "      <td>0.0</td>\n",
       "      <td>0.0</td>\n",
       "      <td>0.0</td>\n",
       "      <td>-17.691455</td>\n",
       "      <td>1.039847</td>\n",
       "      <td>0.0</td>\n",
       "      <td>0.0</td>\n",
       "      <td>0.0</td>\n",
       "      <td>0.0</td>\n",
       "      <td>2017-09-12 12:03:02</td>\n",
       "      <td>W-04</td>\n",
       "    </tr>\n",
       "    <tr>\n",
       "      <th>3</th>\n",
       "      <td>87484.0</td>\n",
       "      <td>non-sedentary</td>\n",
       "      <td>4.102564</td>\n",
       "      <td>3.0</td>\n",
       "      <td>4.102564</td>\n",
       "      <td>-17.691455</td>\n",
       "      <td>1.039847</td>\n",
       "      <td>0.0</td>\n",
       "      <td>0.0</td>\n",
       "      <td>0.0</td>\n",
       "      <td>0.0</td>\n",
       "      <td>-17.691455</td>\n",
       "      <td>1.039847</td>\n",
       "      <td>0.0</td>\n",
       "      <td>0.0</td>\n",
       "      <td>0.0</td>\n",
       "      <td>0.0</td>\n",
       "      <td>2017-09-12 12:03:03</td>\n",
       "      <td>W-04</td>\n",
       "    </tr>\n",
       "    <tr>\n",
       "      <th>4</th>\n",
       "      <td>87485.0</td>\n",
       "      <td>non-sedentary</td>\n",
       "      <td>4.102564</td>\n",
       "      <td>4.0</td>\n",
       "      <td>4.102564</td>\n",
       "      <td>-17.691455</td>\n",
       "      <td>1.039847</td>\n",
       "      <td>0.0</td>\n",
       "      <td>0.0</td>\n",
       "      <td>0.0</td>\n",
       "      <td>0.0</td>\n",
       "      <td>-17.691455</td>\n",
       "      <td>1.039847</td>\n",
       "      <td>0.0</td>\n",
       "      <td>0.0</td>\n",
       "      <td>0.0</td>\n",
       "      <td>0.0</td>\n",
       "      <td>2017-09-12 12:03:04</td>\n",
       "      <td>W-04</td>\n",
       "    </tr>\n",
       "  </tbody>\n",
       "</table>\n",
       "</div>"
      ],
      "text/plain": [
       "   Unnamed: 0         coding     dfreq  index  last.dfreq  last.mean.ang  \\\n",
       "0     87481.0  non-sedentary  4.102564    0.0    4.102564     -17.691455   \n",
       "1     87482.0  non-sedentary  4.102564    1.0    4.102564     -17.691455   \n",
       "2     87483.0  non-sedentary  4.102564    2.0    4.102564     -17.691455   \n",
       "3     87484.0  non-sedentary  4.102564    3.0    4.102564     -17.691455   \n",
       "4     87485.0  non-sedentary  4.102564    4.0    4.102564     -17.691455   \n",
       "\n",
       "   last.mean.vm  last.p625  last.ratio.df  last.sd.ang  last.sd.vm   mean.ang  \\\n",
       "0      1.039847        0.0            0.0          0.0         0.0 -17.691455   \n",
       "1      1.039847        0.0            0.0          0.0         0.0 -17.691455   \n",
       "2      1.039847        0.0            0.0          0.0         0.0 -17.691455   \n",
       "3      1.039847        0.0            0.0          0.0         0.0 -17.691455   \n",
       "4      1.039847        0.0            0.0          0.0         0.0 -17.691455   \n",
       "\n",
       "    mean.vm  p625  ratio.df  sd.ang  sd.vm          start.time  type  \n",
       "0  1.039847   0.0       0.0     0.0    0.0 2017-09-12 12:03:00  W-04  \n",
       "1  1.039847   0.0       0.0     0.0    0.0 2017-09-12 12:03:01  W-04  \n",
       "2  1.039847   0.0       0.0     0.0    0.0 2017-09-12 12:03:02  W-04  \n",
       "3  1.039847   0.0       0.0     0.0    0.0 2017-09-12 12:03:03  W-04  \n",
       "4  1.039847   0.0       0.0     0.0    0.0 2017-09-12 12:03:04  W-04  "
      ]
     },
     "execution_count": 250,
     "metadata": {},
     "output_type": "execute_result"
    }
   ],
   "source": [
    "data = pd.read_csv(load_Data(user, file1), header=0)\n",
    "gt1 = pd.read_csv(load_Data(user, file2), header=0)\n",
    "data2 = pd.read_csv(load_Data(user, file4), header=0)\n",
    "gt2 = pd.read_csv(load_Data(user, file5), header=0)\n",
    "observedData = pd.DataFrame(useable_Data(data, gt1, startTimeWork, endTimeWork))\n",
    "observedData2 = pd.DataFrame(useable_Data(data2, gt2, startTimeLeisure, endTimeLeisure))\n",
    "observedData['type'] = 'W-04'\n",
    "observedData2['type'] = 'L-01'\n",
    "observedData = pd.concat([observedData, observedData2])\n",
    "observedData.head()"
   ]
  },
  {
   "cell_type": "code",
   "execution_count": 251,
   "metadata": {},
   "outputs": [
    {
     "data": {
      "text/plain": [
       "14462"
      ]
     },
     "execution_count": 251,
     "metadata": {},
     "output_type": "execute_result"
    }
   ],
   "source": [
    "len(observedData)"
   ]
  },
  {
   "cell_type": "code",
   "execution_count": 249,
   "metadata": {},
   "outputs": [
    {
     "data": {
      "text/plain": [
       "Index(['Unnamed: 0', 'mean.vm', 'sd.vm', 'mean.ang', 'sd.ang', 'p625', 'dfreq',\n",
       "       'ratio.df', 'start.time', 'index', 'coding', 'last.mean.vm',\n",
       "       'last.sd.vm', 'last.mean.ang', 'last.sd.ang', 'last.p625', 'last.dfreq',\n",
       "       'last.ratio.df', 'type', 'index', 'mean.vm', 'sd.vm', 'mean.ang',\n",
       "       'sd.ang', 'p625', 'dfreq', 'ratio.df', 'start.time', 'coding',\n",
       "       'last.mean.vm', 'last.sd.vm', 'last.mean.ang', 'last.sd.ang',\n",
       "       'last.p625', 'last.dfreq', 'last.ratio.df', 'type'],\n",
       "      dtype='object')"
      ]
     },
     "execution_count": 249,
     "metadata": {},
     "output_type": "execute_result"
    }
   ],
   "source": [
    "observedData.columns"
   ]
  },
  {
   "cell_type": "markdown",
   "metadata": {},
   "source": [
    "## Build test and train Datasets"
   ]
  },
  {
   "cell_type": "code",
   "execution_count": 252,
   "metadata": {},
   "outputs": [],
   "source": [
    "observedData = observedData.sample(frac = 1)\n",
    "\n",
    "train = observedData[:10800]\n",
    "test = observedData[10800:]\n",
    "\n",
    "## this might be an issue since there is ordinality and that makes things weird.  The later parts of this trial\n",
    "## were more likely to be sedentary.\n",
    "X = observedData[['mean.vm','sd.vm','mean.ang','sd.ang','p625','dfreq','ratio.df', 'last.mean.vm', 'last.sd.vm', 'last.mean.ang', 'last.sd.ang', 'last.p625', 'last.dfreq', 'last.ratio.df']]\n",
    "y = observedData['coding']\n",
    "\n",
    "trainX = train[['mean.vm','sd.vm','mean.ang','sd.ang','p625','dfreq','ratio.df', 'last.mean.vm', 'last.sd.vm', 'last.mean.ang', 'last.sd.ang', 'last.p625', 'last.dfreq', 'last.ratio.df']]\n",
    "trainY = train['coding']\n",
    "testX = test[['mean.vm','sd.vm','mean.ang','sd.ang','p625','dfreq','ratio.df', 'last.mean.vm', 'last.sd.vm', 'last.mean.ang', 'last.sd.ang', 'last.p625', 'last.dfreq', 'last.ratio.df']]\n",
    "testY = test['coding']"
   ]
  },
  {
   "cell_type": "markdown",
   "metadata": {},
   "source": [
    "## Lasso (Feature selection)"
   ]
  },
  {
   "cell_type": "code",
   "execution_count": 168,
   "metadata": {},
   "outputs": [],
   "source": [
    "# trainY = (trainY == 'sedentary').astype(int)\n",
    "# testY = (testY == 'sedentary').astype(int)"
   ]
  },
  {
   "cell_type": "code",
   "execution_count": 221,
   "metadata": {},
   "outputs": [
    {
     "ename": "ValueError",
     "evalue": "could not convert string to float: 'sedentary'",
     "output_type": "error",
     "traceback": [
      "\u001b[0;31m---------------------------------------------------------------------------\u001b[0m",
      "\u001b[0;31mValueError\u001b[0m                                Traceback (most recent call last)",
      "\u001b[0;32m<ipython-input-221-531a8d50e77f>\u001b[0m in \u001b[0;36m<module>\u001b[0;34m()\u001b[0m\n\u001b[0;32m----> 1\u001b[0;31m \u001b[0mfeatures\u001b[0m \u001b[0;34m=\u001b[0m \u001b[0mselect_features_from_lasso\u001b[0m\u001b[0;34m(\u001b[0m\u001b[0mtrainX\u001b[0m\u001b[0;34m,\u001b[0m \u001b[0mtrainY\u001b[0m\u001b[0;34m,\u001b[0m \u001b[0;36m0.001\u001b[0m\u001b[0;34m)\u001b[0m\u001b[0;34m\u001b[0m\u001b[0m\n\u001b[0m",
      "\u001b[0;32m<ipython-input-215-d798dfbc0581>\u001b[0m in \u001b[0;36mselect_features_from_lasso\u001b[0;34m(X, y, alpha)\u001b[0m\n\u001b[1;32m      1\u001b[0m \u001b[0;32mdef\u001b[0m \u001b[0mselect_features_from_lasso\u001b[0m\u001b[0;34m(\u001b[0m\u001b[0mX\u001b[0m\u001b[0;34m,\u001b[0m \u001b[0my\u001b[0m\u001b[0;34m,\u001b[0m \u001b[0malpha\u001b[0m\u001b[0;34m)\u001b[0m\u001b[0;34m:\u001b[0m\u001b[0;34m\u001b[0m\u001b[0m\n\u001b[1;32m      2\u001b[0m     \u001b[0;31m# fit lasso model and pass to select from model\u001b[0m\u001b[0;34m\u001b[0m\u001b[0;34m\u001b[0m\u001b[0m\n\u001b[0;32m----> 3\u001b[0;31m     \u001b[0mlasso\u001b[0m \u001b[0;34m=\u001b[0m \u001b[0mLassoCV\u001b[0m\u001b[0;34m(\u001b[0m\u001b[0;34m)\u001b[0m\u001b[0;34m.\u001b[0m\u001b[0mfit\u001b[0m\u001b[0;34m(\u001b[0m\u001b[0mX\u001b[0m\u001b[0;34m,\u001b[0m \u001b[0my\u001b[0m\u001b[0;34m)\u001b[0m\u001b[0;34m\u001b[0m\u001b[0m\n\u001b[0m\u001b[1;32m      4\u001b[0m     \u001b[0mmodel\u001b[0m \u001b[0;34m=\u001b[0m \u001b[0mSelectFromModel\u001b[0m\u001b[0;34m(\u001b[0m\u001b[0mlasso\u001b[0m\u001b[0;34m,\u001b[0m \u001b[0mprefit\u001b[0m\u001b[0;34m=\u001b[0m\u001b[0;32mTrue\u001b[0m\u001b[0;34m)\u001b[0m\u001b[0;34m\u001b[0m\u001b[0m\n\u001b[1;32m      5\u001b[0m \u001b[0;34m\u001b[0m\u001b[0m\n",
      "\u001b[0;32m~/anaconda3/lib/python3.6/site-packages/sklearn/linear_model/coordinate_descent.py\u001b[0m in \u001b[0;36mfit\u001b[0;34m(self, X, y)\u001b[0m\n\u001b[1;32m   1075\u001b[0m         \"\"\"\n\u001b[1;32m   1076\u001b[0m         y = check_array(y, copy=False, dtype=[np.float64, np.float32],\n\u001b[0;32m-> 1077\u001b[0;31m                         ensure_2d=False)\n\u001b[0m\u001b[1;32m   1078\u001b[0m         \u001b[0;32mif\u001b[0m \u001b[0my\u001b[0m\u001b[0;34m.\u001b[0m\u001b[0mshape\u001b[0m\u001b[0;34m[\u001b[0m\u001b[0;36m0\u001b[0m\u001b[0;34m]\u001b[0m \u001b[0;34m==\u001b[0m \u001b[0;36m0\u001b[0m\u001b[0;34m:\u001b[0m\u001b[0;34m\u001b[0m\u001b[0m\n\u001b[1;32m   1079\u001b[0m             \u001b[0;32mraise\u001b[0m \u001b[0mValueError\u001b[0m\u001b[0;34m(\u001b[0m\u001b[0;34m\"y has 0 samples: %r\"\u001b[0m \u001b[0;34m%\u001b[0m \u001b[0my\u001b[0m\u001b[0;34m)\u001b[0m\u001b[0;34m\u001b[0m\u001b[0m\n",
      "\u001b[0;32m~/anaconda3/lib/python3.6/site-packages/sklearn/utils/validation.py\u001b[0m in \u001b[0;36mcheck_array\u001b[0;34m(array, accept_sparse, dtype, order, copy, force_all_finite, ensure_2d, allow_nd, ensure_min_samples, ensure_min_features, warn_on_dtype, estimator)\u001b[0m\n\u001b[1;32m    431\u001b[0m                                       force_all_finite)\n\u001b[1;32m    432\u001b[0m     \u001b[0;32melse\u001b[0m\u001b[0;34m:\u001b[0m\u001b[0;34m\u001b[0m\u001b[0m\n\u001b[0;32m--> 433\u001b[0;31m         \u001b[0marray\u001b[0m \u001b[0;34m=\u001b[0m \u001b[0mnp\u001b[0m\u001b[0;34m.\u001b[0m\u001b[0marray\u001b[0m\u001b[0;34m(\u001b[0m\u001b[0marray\u001b[0m\u001b[0;34m,\u001b[0m \u001b[0mdtype\u001b[0m\u001b[0;34m=\u001b[0m\u001b[0mdtype\u001b[0m\u001b[0;34m,\u001b[0m \u001b[0morder\u001b[0m\u001b[0;34m=\u001b[0m\u001b[0morder\u001b[0m\u001b[0;34m,\u001b[0m \u001b[0mcopy\u001b[0m\u001b[0;34m=\u001b[0m\u001b[0mcopy\u001b[0m\u001b[0;34m)\u001b[0m\u001b[0;34m\u001b[0m\u001b[0m\n\u001b[0m\u001b[1;32m    434\u001b[0m \u001b[0;34m\u001b[0m\u001b[0m\n\u001b[1;32m    435\u001b[0m         \u001b[0;32mif\u001b[0m \u001b[0mensure_2d\u001b[0m\u001b[0;34m:\u001b[0m\u001b[0;34m\u001b[0m\u001b[0m\n",
      "\u001b[0;31mValueError\u001b[0m: could not convert string to float: 'sedentary'"
     ]
    }
   ],
   "source": [
    "features = select_features_from_lasso(trainX, trainY, 0.001)"
   ]
  },
  {
   "cell_type": "code",
   "execution_count": 187,
   "metadata": {},
   "outputs": [
    {
     "data": {
      "text/plain": [
       "Index(['sd.vm', 'mean.ang', 'sd.ang', 'p625', 'dfreq', 'last.sd.vm',\n",
       "       'last.mean.ang', 'last.sd.ang', 'last.p625', 'last.dfreq',\n",
       "       'last.ratio.df'],\n",
       "      dtype='object')"
      ]
     },
     "execution_count": 187,
     "metadata": {},
     "output_type": "execute_result"
    }
   ],
   "source": [
    "features"
   ]
  },
  {
   "cell_type": "code",
   "execution_count": 188,
   "metadata": {},
   "outputs": [],
   "source": [
    "trainX = trainX[features]\n",
    "testX = testX[features]"
   ]
  },
  {
   "cell_type": "markdown",
   "metadata": {},
   "source": [
    "## SVM"
   ]
  },
  {
   "cell_type": "code",
   "execution_count": 253,
   "metadata": {},
   "outputs": [
    {
     "data": {
      "text/plain": [
       "SVC(C=1.0, cache_size=7000, class_weight=None, coef0=0.0,\n",
       "  decision_function_shape='ovr', degree=3, gamma='auto', kernel='rbf',\n",
       "  max_iter=-1, probability=False, random_state=None, shrinking=True,\n",
       "  tol=0.001, verbose=False)"
      ]
     },
     "execution_count": 253,
     "metadata": {},
     "output_type": "execute_result"
    }
   ],
   "source": [
    "clf = svm.SVC(cache_size=7000)\n",
    "clf.fit(trainX, trainY)"
   ]
  },
  {
   "cell_type": "code",
   "execution_count": 256,
   "metadata": {},
   "outputs": [
    {
     "data": {
      "text/plain": [
       "0.8143091206990716"
      ]
     },
     "execution_count": 256,
     "metadata": {},
     "output_type": "execute_result"
    }
   ],
   "source": [
    "clf.score(testX,testY)"
   ]
  },
  {
   "cell_type": "markdown",
   "metadata": {},
   "source": [
    "## Neural Network"
   ]
  },
  {
   "cell_type": "code",
   "execution_count": 257,
   "metadata": {},
   "outputs": [
    {
     "data": {
      "text/plain": [
       "MLPClassifier(activation='relu', alpha=1e-05, batch_size='auto', beta_1=0.9,\n",
       "       beta_2=0.999, early_stopping=False, epsilon=1e-08,\n",
       "       hidden_layer_sizes=(2000, 1000), learning_rate='constant',\n",
       "       learning_rate_init=0.001, max_iter=200, momentum=0.9,\n",
       "       nesterovs_momentum=True, power_t=0.5, random_state=1, shuffle=True,\n",
       "       solver='lbfgs', tol=0.0001, validation_fraction=0.1, verbose=False,\n",
       "       warm_start=False)"
      ]
     },
     "execution_count": 257,
     "metadata": {},
     "output_type": "execute_result"
    }
   ],
   "source": [
    "n_net = MLPClassifier(solver='lbfgs', alpha=1e-5,hidden_layer_sizes=(2000, 1000), random_state=1)\n",
    "n_net.fit(trainX,trainY)"
   ]
  },
  {
   "cell_type": "code",
   "execution_count": 258,
   "metadata": {},
   "outputs": [
    {
     "data": {
      "text/plain": [
       "0.8350628072091754"
      ]
     },
     "execution_count": 258,
     "metadata": {},
     "output_type": "execute_result"
    }
   ],
   "source": [
    "np.sum(n_net.predict(testX) == testY) / len(testX)"
   ]
  }
 ],
 "metadata": {
  "kernelspec": {
   "display_name": "Python 3",
   "language": "python",
   "name": "python3"
  },
  "language_info": {
   "codemirror_mode": {
    "name": "ipython",
    "version": 3
   },
   "file_extension": ".py",
   "mimetype": "text/x-python",
   "name": "python",
   "nbconvert_exporter": "python",
   "pygments_lexer": "ipython3",
   "version": "3.6.4"
  }
 },
 "nbformat": 4,
 "nbformat_minor": 2
}
