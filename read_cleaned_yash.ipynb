{
 "cells": [
  {
   "cell_type": "code",
   "execution_count": 38,
   "metadata": {},
   "outputs": [],
   "source": [
    "import pandas as pd\n",
    "import json\n",
    "import sklearn.svm as svm\n",
    "import numpy as np\n",
    "from sklearn.neural_network import MLPClassifier"
   ]
  },
  {
   "cell_type": "code",
   "execution_count": 27,
   "metadata": {},
   "outputs": [],
   "source": [
    "## Change the name to get your path\n",
    "user = 'Yash'\n",
    "file1 = 'AG01-01.csv'\n",
    "file2 = 'GTH01-01.csv'"
   ]
  },
  {
   "cell_type": "code",
   "execution_count": 28,
   "metadata": {},
   "outputs": [],
   "source": [
    "def load_Data(user, filename):\n",
    "   data = json.load(open('dir.json'))\n",
    "   dir = data[user] + filename\n",
    "#    data = pd.read_csv(dir, header=2)\n",
    "   return dir"
   ]
  },
  {
   "cell_type": "code",
   "execution_count": 112,
   "metadata": {},
   "outputs": [],
   "source": [
    "def useable_Data(data, gt):\n",
    "    data['start.time'] = pd.to_datetime(data['start.time'])\n",
    "    observedData = data[(data['start.time'] >= '2017-10-03 16:44:00') & (data['start.time'] <= '2017-10-03 18:44:00')]\n",
    "    observedData['index'] = range(len(observedData))\n",
    "    gt['index'] = gt['time']\n",
    "    observedData = pd.merge(observedData,gt[['index','coding']])\n",
    "    observedData.sort_index(inplace=True)\n",
    "    copy = observedData[['mean.vm','sd.vm','mean.ang','sd.ang','p625','dfreq','ratio.df']].copy()\n",
    "    copy.loc[-1] = copy.loc[0]  # adding a row\n",
    "    copy.index = copy.index + 1  # shifting index\n",
    "    copy.sort_index(inplace=True)\n",
    "    copy.columns = 'last.' + copy.columns\n",
    "    observedData = pd.concat([observedData, copy], axis = 1)\n",
    "    observedData = observedData.drop(observedData.index[len(observedData)-1])\n",
    "    return observedData\n",
    "#     return copy"
   ]
  },
  {
   "cell_type": "code",
   "execution_count": 113,
   "metadata": {
    "scrolled": false
   },
   "outputs": [
    {
     "name": "stderr",
     "output_type": "stream",
     "text": [
      "/Users/yashmehra/anaconda3/lib/python3.6/site-packages/ipykernel_launcher.py:4: SettingWithCopyWarning: \n",
      "A value is trying to be set on a copy of a slice from a DataFrame.\n",
      "Try using .loc[row_indexer,col_indexer] = value instead\n",
      "\n",
      "See the caveats in the documentation: http://pandas.pydata.org/pandas-docs/stable/indexing.html#indexing-view-versus-copy\n",
      "  after removing the cwd from sys.path.\n"
     ]
    },
    {
     "data": {
      "text/html": [
       "<div>\n",
       "<style scoped>\n",
       "    .dataframe tbody tr th:only-of-type {\n",
       "        vertical-align: middle;\n",
       "    }\n",
       "\n",
       "    .dataframe tbody tr th {\n",
       "        vertical-align: top;\n",
       "    }\n",
       "\n",
       "    .dataframe thead th {\n",
       "        text-align: right;\n",
       "    }\n",
       "</style>\n",
       "<table border=\"1\" class=\"dataframe\">\n",
       "  <thead>\n",
       "    <tr style=\"text-align: right;\">\n",
       "      <th></th>\n",
       "      <th>index</th>\n",
       "      <th>mean.vm</th>\n",
       "      <th>sd.vm</th>\n",
       "      <th>mean.ang</th>\n",
       "      <th>sd.ang</th>\n",
       "      <th>p625</th>\n",
       "      <th>dfreq</th>\n",
       "      <th>ratio.df</th>\n",
       "      <th>start.time</th>\n",
       "      <th>coding</th>\n",
       "      <th>last.mean.vm</th>\n",
       "      <th>last.sd.vm</th>\n",
       "      <th>last.mean.ang</th>\n",
       "      <th>last.sd.ang</th>\n",
       "      <th>last.p625</th>\n",
       "      <th>last.dfreq</th>\n",
       "      <th>last.ratio.df</th>\n",
       "    </tr>\n",
       "  </thead>\n",
       "  <tbody>\n",
       "    <tr>\n",
       "      <th>0</th>\n",
       "      <td>0.0</td>\n",
       "      <td>1.009207</td>\n",
       "      <td>0.008657</td>\n",
       "      <td>-49.775885</td>\n",
       "      <td>0.842458</td>\n",
       "      <td>0.147968</td>\n",
       "      <td>9.230769</td>\n",
       "      <td>0.091802</td>\n",
       "      <td>2017-10-03 16:44:00</td>\n",
       "      <td>non-sedentary</td>\n",
       "      <td>1.009207</td>\n",
       "      <td>0.008657</td>\n",
       "      <td>-49.775885</td>\n",
       "      <td>0.842458</td>\n",
       "      <td>0.147968</td>\n",
       "      <td>9.230769</td>\n",
       "      <td>0.091802</td>\n",
       "    </tr>\n",
       "    <tr>\n",
       "      <th>1</th>\n",
       "      <td>1.0</td>\n",
       "      <td>1.007030</td>\n",
       "      <td>0.012245</td>\n",
       "      <td>-47.654547</td>\n",
       "      <td>1.862073</td>\n",
       "      <td>0.074857</td>\n",
       "      <td>3.076923</td>\n",
       "      <td>0.106718</td>\n",
       "      <td>2017-10-03 16:44:00</td>\n",
       "      <td>non-sedentary</td>\n",
       "      <td>1.009207</td>\n",
       "      <td>0.008657</td>\n",
       "      <td>-49.775885</td>\n",
       "      <td>0.842458</td>\n",
       "      <td>0.147968</td>\n",
       "      <td>9.230769</td>\n",
       "      <td>0.091802</td>\n",
       "    </tr>\n",
       "    <tr>\n",
       "      <th>2</th>\n",
       "      <td>2.0</td>\n",
       "      <td>1.008842</td>\n",
       "      <td>0.009694</td>\n",
       "      <td>-46.577448</td>\n",
       "      <td>0.651607</td>\n",
       "      <td>0.146617</td>\n",
       "      <td>8.205128</td>\n",
       "      <td>0.109818</td>\n",
       "      <td>2017-10-03 16:44:00</td>\n",
       "      <td>non-sedentary</td>\n",
       "      <td>1.007030</td>\n",
       "      <td>0.012245</td>\n",
       "      <td>-47.654547</td>\n",
       "      <td>1.862073</td>\n",
       "      <td>0.074857</td>\n",
       "      <td>3.076923</td>\n",
       "      <td>0.106718</td>\n",
       "    </tr>\n",
       "    <tr>\n",
       "      <th>3</th>\n",
       "      <td>3.0</td>\n",
       "      <td>1.007484</td>\n",
       "      <td>0.013547</td>\n",
       "      <td>-47.424062</td>\n",
       "      <td>0.790202</td>\n",
       "      <td>0.129838</td>\n",
       "      <td>2.051282</td>\n",
       "      <td>0.107984</td>\n",
       "      <td>2017-10-03 16:44:00</td>\n",
       "      <td>non-sedentary</td>\n",
       "      <td>1.008842</td>\n",
       "      <td>0.009694</td>\n",
       "      <td>-46.577448</td>\n",
       "      <td>0.651607</td>\n",
       "      <td>0.146617</td>\n",
       "      <td>8.205128</td>\n",
       "      <td>0.109818</td>\n",
       "    </tr>\n",
       "    <tr>\n",
       "      <th>4</th>\n",
       "      <td>4.0</td>\n",
       "      <td>1.009535</td>\n",
       "      <td>0.006776</td>\n",
       "      <td>-47.288191</td>\n",
       "      <td>0.558104</td>\n",
       "      <td>0.064207</td>\n",
       "      <td>8.205128</td>\n",
       "      <td>0.119769</td>\n",
       "      <td>2017-10-03 16:44:00</td>\n",
       "      <td>non-sedentary</td>\n",
       "      <td>1.007484</td>\n",
       "      <td>0.013547</td>\n",
       "      <td>-47.424062</td>\n",
       "      <td>0.790202</td>\n",
       "      <td>0.129838</td>\n",
       "      <td>2.051282</td>\n",
       "      <td>0.107984</td>\n",
       "    </tr>\n",
       "  </tbody>\n",
       "</table>\n",
       "</div>"
      ],
      "text/plain": [
       "   index   mean.vm     sd.vm   mean.ang    sd.ang      p625     dfreq  \\\n",
       "0    0.0  1.009207  0.008657 -49.775885  0.842458  0.147968  9.230769   \n",
       "1    1.0  1.007030  0.012245 -47.654547  1.862073  0.074857  3.076923   \n",
       "2    2.0  1.008842  0.009694 -46.577448  0.651607  0.146617  8.205128   \n",
       "3    3.0  1.007484  0.013547 -47.424062  0.790202  0.129838  2.051282   \n",
       "4    4.0  1.009535  0.006776 -47.288191  0.558104  0.064207  8.205128   \n",
       "\n",
       "   ratio.df          start.time         coding  last.mean.vm  last.sd.vm  \\\n",
       "0  0.091802 2017-10-03 16:44:00  non-sedentary      1.009207    0.008657   \n",
       "1  0.106718 2017-10-03 16:44:00  non-sedentary      1.009207    0.008657   \n",
       "2  0.109818 2017-10-03 16:44:00  non-sedentary      1.007030    0.012245   \n",
       "3  0.107984 2017-10-03 16:44:00  non-sedentary      1.008842    0.009694   \n",
       "4  0.119769 2017-10-03 16:44:00  non-sedentary      1.007484    0.013547   \n",
       "\n",
       "   last.mean.ang  last.sd.ang  last.p625  last.dfreq  last.ratio.df  \n",
       "0     -49.775885     0.842458   0.147968    9.230769       0.091802  \n",
       "1     -49.775885     0.842458   0.147968    9.230769       0.091802  \n",
       "2     -47.654547     1.862073   0.074857    3.076923       0.106718  \n",
       "3     -46.577448     0.651607   0.146617    8.205128       0.109818  \n",
       "4     -47.424062     0.790202   0.129838    2.051282       0.107984  "
      ]
     },
     "execution_count": 113,
     "metadata": {},
     "output_type": "execute_result"
    }
   ],
   "source": [
    "data = pd.read_csv(load_Data(user, file1), header=0)\n",
    "gt = pd.read_csv(load_Data(user, file2), header=0)\n",
    "observedData = pd.DataFrame(useable_Data(data, gt))\n",
    "observedData.head()"
   ]
  },
  {
   "cell_type": "code",
   "execution_count": 114,
   "metadata": {},
   "outputs": [],
   "source": [
    "observedData = observedData.sample(frac = 1)\n",
    "\n",
    "train = observedData[:5000]\n",
    "test = observedData[5000:]\n",
    "\n",
    "## this might be an issue since there is ordinality and that makes things weird.  The later parts of this trial\n",
    "## were more likely to be sedentary.\n",
    "X = observedData[['mean.vm','sd.vm','mean.ang','sd.ang','p625','dfreq','ratio.df', 'last.mean.vm', 'last.sd.vm', 'last.mean.ang', 'last.sd.ang', 'last.p625', 'last.dfreq', 'last.ratio.df']]\n",
    "y = observedData['coding']\n",
    "\n",
    "trainX = train[['mean.vm','sd.vm','mean.ang','sd.ang','p625','dfreq','ratio.df', 'last.mean.vm', 'last.sd.vm', 'last.mean.ang', 'last.sd.ang', 'last.p625', 'last.dfreq', 'last.ratio.df']]\n",
    "trainY = train['coding']\n",
    "testX = test[['mean.vm','sd.vm','mean.ang','sd.ang','p625','dfreq','ratio.df', 'last.mean.vm', 'last.sd.vm', 'last.mean.ang', 'last.sd.ang', 'last.p625', 'last.dfreq', 'last.ratio.df']]\n",
    "testY = test['coding']"
   ]
  },
  {
   "cell_type": "markdown",
   "metadata": {},
   "source": [
    "## SVM"
   ]
  },
  {
   "cell_type": "code",
   "execution_count": 115,
   "metadata": {},
   "outputs": [
    {
     "data": {
      "text/plain": [
       "SVC(C=1.0, cache_size=7000, class_weight=None, coef0=0.0,\n",
       "  decision_function_shape='ovr', degree=3, gamma='auto', kernel='rbf',\n",
       "  max_iter=-1, probability=False, random_state=None, shrinking=True,\n",
       "  tol=0.001, verbose=False)"
      ]
     },
     "execution_count": 115,
     "metadata": {},
     "output_type": "execute_result"
    }
   ],
   "source": [
    "clf = svm.SVC(cache_size=7000)\n",
    "clf.fit(trainX, trainY)"
   ]
  },
  {
   "cell_type": "code",
   "execution_count": 117,
   "metadata": {},
   "outputs": [
    {
     "data": {
      "text/plain": [
       "0.7288810260946483"
      ]
     },
     "execution_count": 117,
     "metadata": {},
     "output_type": "execute_result"
    }
   ],
   "source": [
    "clf.score(testX,testY)"
   ]
  },
  {
   "cell_type": "markdown",
   "metadata": {},
   "source": [
    "## Neural Network"
   ]
  },
  {
   "cell_type": "code",
   "execution_count": null,
   "metadata": {},
   "outputs": [],
   "source": [
    "n_net = MLPClassifier(solver='lbfgs', alpha=1e-5,hidden_layer_sizes=(2000, 1000), random_state=1)\n",
    "n_net.fit(X,y)"
   ]
  }
 ],
 "metadata": {
  "kernelspec": {
   "display_name": "Python 3",
   "language": "python",
   "name": "python3"
  },
  "language_info": {
   "codemirror_mode": {
    "name": "ipython",
    "version": 3
   },
   "file_extension": ".py",
   "mimetype": "text/x-python",
   "name": "python",
   "nbconvert_exporter": "python",
   "pygments_lexer": "ipython3",
   "version": "3.6.4"
  }
 },
 "nbformat": 4,
 "nbformat_minor": 2
}
