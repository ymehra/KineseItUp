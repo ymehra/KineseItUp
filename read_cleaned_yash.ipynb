{
 "cells": [
  {
   "cell_type": "code",
   "execution_count": 2,
   "metadata": {},
   "outputs": [],
   "source": [
    "import pandas as pd\n",
    "import json"
   ]
  },
  {
   "cell_type": "code",
   "execution_count": 35,
   "metadata": {},
   "outputs": [],
   "source": [
    "def load_Data(user, filename):\n",
    "   data = json.load(open('dir.json'))\n",
    "   dir = data[user] + filename\n",
    "#    data = pd.read_csv(dir, header=2)\n",
    "   return dir"
   ]
  },
  {
   "cell_type": "code",
   "execution_count": 37,
   "metadata": {},
   "outputs": [
    {
     "data": {
      "text/html": [
       "<div>\n",
       "<style scoped>\n",
       "    .dataframe tbody tr th:only-of-type {\n",
       "        vertical-align: middle;\n",
       "    }\n",
       "\n",
       "    .dataframe tbody tr th {\n",
       "        vertical-align: top;\n",
       "    }\n",
       "\n",
       "    .dataframe thead th {\n",
       "        text-align: right;\n",
       "    }\n",
       "</style>\n",
       "<table border=\"1\" class=\"dataframe\">\n",
       "  <thead>\n",
       "    <tr style=\"text-align: right;\">\n",
       "      <th></th>\n",
       "      <th>Unnamed: 0</th>\n",
       "      <th>mean.vm</th>\n",
       "      <th>sd.vm</th>\n",
       "      <th>mean.ang</th>\n",
       "      <th>sd.ang</th>\n",
       "      <th>p625</th>\n",
       "      <th>dfreq</th>\n",
       "      <th>ratio.df</th>\n",
       "      <th>start.time</th>\n",
       "    </tr>\n",
       "  </thead>\n",
       "  <tbody>\n",
       "    <tr>\n",
       "      <th>0</th>\n",
       "      <td>1</td>\n",
       "      <td>1.008720</td>\n",
       "      <td>0.005388</td>\n",
       "      <td>14.405906</td>\n",
       "      <td>0.178485</td>\n",
       "      <td>0.073094</td>\n",
       "      <td>6.153846</td>\n",
       "      <td>0.079059</td>\n",
       "      <td>10/2/2017 10:15</td>\n",
       "    </tr>\n",
       "    <tr>\n",
       "      <th>1</th>\n",
       "      <td>2</td>\n",
       "      <td>1.008625</td>\n",
       "      <td>0.006601</td>\n",
       "      <td>14.444647</td>\n",
       "      <td>0.234531</td>\n",
       "      <td>0.074642</td>\n",
       "      <td>4.102564</td>\n",
       "      <td>0.174183</td>\n",
       "      <td>10/2/2017 10:15</td>\n",
       "    </tr>\n",
       "    <tr>\n",
       "      <th>2</th>\n",
       "      <td>3</td>\n",
       "      <td>1.018935</td>\n",
       "      <td>0.023567</td>\n",
       "      <td>12.862005</td>\n",
       "      <td>2.996361</td>\n",
       "      <td>0.309095</td>\n",
       "      <td>1.025641</td>\n",
       "      <td>0.158892</td>\n",
       "      <td>10/2/2017 10:15</td>\n",
       "    </tr>\n",
       "    <tr>\n",
       "      <th>3</th>\n",
       "      <td>4</td>\n",
       "      <td>1.019761</td>\n",
       "      <td>0.066683</td>\n",
       "      <td>-1.952166</td>\n",
       "      <td>12.679718</td>\n",
       "      <td>0.114479</td>\n",
       "      <td>2.051282</td>\n",
       "      <td>0.101853</td>\n",
       "      <td>10/2/2017 10:15</td>\n",
       "    </tr>\n",
       "    <tr>\n",
       "      <th>4</th>\n",
       "      <td>5</td>\n",
       "      <td>1.043682</td>\n",
       "      <td>0.056193</td>\n",
       "      <td>-16.001678</td>\n",
       "      <td>5.775647</td>\n",
       "      <td>0.217691</td>\n",
       "      <td>1.025641</td>\n",
       "      <td>0.149609</td>\n",
       "      <td>10/2/2017 10:15</td>\n",
       "    </tr>\n",
       "  </tbody>\n",
       "</table>\n",
       "</div>"
      ],
      "text/plain": [
       "   Unnamed: 0   mean.vm     sd.vm   mean.ang     sd.ang      p625     dfreq  \\\n",
       "0           1  1.008720  0.005388  14.405906   0.178485  0.073094  6.153846   \n",
       "1           2  1.008625  0.006601  14.444647   0.234531  0.074642  4.102564   \n",
       "2           3  1.018935  0.023567  12.862005   2.996361  0.309095  1.025641   \n",
       "3           4  1.019761  0.066683  -1.952166  12.679718  0.114479  2.051282   \n",
       "4           5  1.043682  0.056193 -16.001678   5.775647  0.217691  1.025641   \n",
       "\n",
       "   ratio.df       start.time  \n",
       "0  0.079059  10/2/2017 10:15  \n",
       "1  0.174183  10/2/2017 10:15  \n",
       "2  0.158892  10/2/2017 10:15  \n",
       "3  0.101853  10/2/2017 10:15  \n",
       "4  0.149609  10/2/2017 10:15  "
      ]
     },
     "execution_count": 37,
     "metadata": {},
     "output_type": "execute_result"
    }
   ],
   "source": [
    "data = pd.read_csv(load_Data('Yash', 'AG01-01.csv'), header=0)\n",
    "data.head()"
   ]
  }
 ],
 "metadata": {
  "kernelspec": {
   "display_name": "Python 3",
   "language": "python",
   "name": "python3"
  },
  "language_info": {
   "codemirror_mode": {
    "name": "ipython",
    "version": 3
   },
   "file_extension": ".py",
   "mimetype": "text/x-python",
   "name": "python",
   "nbconvert_exporter": "python",
   "pygments_lexer": "ipython3",
   "version": "3.6.4"
  }
 },
 "nbformat": 4,
 "nbformat_minor": 2
}
