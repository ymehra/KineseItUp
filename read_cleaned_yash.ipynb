{
 "cells": [
  {
   "cell_type": "code",
   "execution_count": 1,
   "metadata": {},
   "outputs": [],
   "source": [
    "import pandas as pd\n",
    "import json\n",
    "import sklearn.svm as svm\n",
    "import numpy as np"
   ]
  },
  {
   "cell_type": "code",
   "execution_count": 2,
   "metadata": {},
   "outputs": [],
   "source": [
    "## Change the name to get your path\n",
    "user = 'Yash'\n",
    "file1 = 'AG01-01.csv'\n",
    "file2 = 'GTH01-01.csv'"
   ]
  },
  {
   "cell_type": "code",
   "execution_count": 3,
   "metadata": {},
   "outputs": [],
   "source": [
    "def load_Data(user, filename):\n",
    "   data = json.load(open('dir.json'))\n",
    "   dir = data[user] + filename\n",
    "#    data = pd.read_csv(dir, header=2)\n",
    "   return dir"
   ]
  },
  {
   "cell_type": "code",
   "execution_count": 23,
   "metadata": {},
   "outputs": [
    {
     "data": {
      "text/plain": [
       "(array([116940, 116941, 116942, 116943, 116944, 116945, 116946, 116947,\n",
       "        116948, 116949, 116950, 116951, 116952, 116953, 116954, 116955,\n",
       "        116956, 116957, 116958, 116959, 116960, 116961, 116962, 116963,\n",
       "        116964, 116965, 116966, 116967, 116968, 116969, 116970, 116971,\n",
       "        116972, 116973, 116974, 116975, 116976, 116977, 116978, 116979,\n",
       "        116980, 116981, 116982, 116983, 116984, 116985, 116986, 116987,\n",
       "        116988, 116989, 116990, 116991, 116992, 116993, 116994, 116995,\n",
       "        116996, 116997, 116998, 116999]),)"
      ]
     },
     "execution_count": 23,
     "metadata": {},
     "output_type": "execute_result"
    }
   ],
   "source": [
    "data = pd.read_csv(load_Data(user, file1), header=0)\n",
    "data['Class'] = np.random.randint(2, size=len(data))\n",
    "np.where(data['start.time'] == '10/3/17 16:44')\n",
    "np.where(data['start.time'] == '10/3/17 18:44')"
   ]
  },
  {
   "cell_type": "code",
   "execution_count": 24,
   "metadata": {},
   "outputs": [
    {
     "data": {
      "text/plain": [
       "7259"
      ]
     },
     "execution_count": 24,
     "metadata": {},
     "output_type": "execute_result"
    }
   ],
   "source": [
    "116999 - 109740"
   ]
  },
  {
   "cell_type": "code",
   "execution_count": 5,
   "metadata": {},
   "outputs": [
    {
     "data": {
      "text/html": [
       "<div>\n",
       "<style scoped>\n",
       "    .dataframe tbody tr th:only-of-type {\n",
       "        vertical-align: middle;\n",
       "    }\n",
       "\n",
       "    .dataframe tbody tr th {\n",
       "        vertical-align: top;\n",
       "    }\n",
       "\n",
       "    .dataframe thead th {\n",
       "        text-align: right;\n",
       "    }\n",
       "</style>\n",
       "<table border=\"1\" class=\"dataframe\">\n",
       "  <thead>\n",
       "    <tr style=\"text-align: right;\">\n",
       "      <th></th>\n",
       "      <th>Unnamed: 0</th>\n",
       "      <th>observation</th>\n",
       "      <th>date</th>\n",
       "      <th>coding</th>\n",
       "      <th>time</th>\n",
       "    </tr>\n",
       "  </thead>\n",
       "  <tbody>\n",
       "    <tr>\n",
       "      <th>0</th>\n",
       "      <td>1</td>\n",
       "      <td>H_AM01DO1_M</td>\n",
       "      <td>13-01-2018</td>\n",
       "      <td>non-sedentary</td>\n",
       "      <td>0</td>\n",
       "    </tr>\n",
       "    <tr>\n",
       "      <th>1</th>\n",
       "      <td>2</td>\n",
       "      <td>H_AM01DO1_M</td>\n",
       "      <td>13-01-2018</td>\n",
       "      <td>non-sedentary</td>\n",
       "      <td>1</td>\n",
       "    </tr>\n",
       "    <tr>\n",
       "      <th>2</th>\n",
       "      <td>3</td>\n",
       "      <td>H_AM01DO1_M</td>\n",
       "      <td>13-01-2018</td>\n",
       "      <td>non-sedentary</td>\n",
       "      <td>2</td>\n",
       "    </tr>\n",
       "    <tr>\n",
       "      <th>3</th>\n",
       "      <td>4</td>\n",
       "      <td>H_AM01DO1_M</td>\n",
       "      <td>13-01-2018</td>\n",
       "      <td>non-sedentary</td>\n",
       "      <td>3</td>\n",
       "    </tr>\n",
       "    <tr>\n",
       "      <th>4</th>\n",
       "      <td>5</td>\n",
       "      <td>H_AM01DO1_M</td>\n",
       "      <td>13-01-2018</td>\n",
       "      <td>non-sedentary</td>\n",
       "      <td>4</td>\n",
       "    </tr>\n",
       "  </tbody>\n",
       "</table>\n",
       "</div>"
      ],
      "text/plain": [
       "   Unnamed: 0  observation        date         coding  time\n",
       "0           1  H_AM01DO1_M  13-01-2018  non-sedentary     0\n",
       "1           2  H_AM01DO1_M  13-01-2018  non-sedentary     1\n",
       "2           3  H_AM01DO1_M  13-01-2018  non-sedentary     2\n",
       "3           4  H_AM01DO1_M  13-01-2018  non-sedentary     3\n",
       "4           5  H_AM01DO1_M  13-01-2018  non-sedentary     4"
      ]
     },
     "execution_count": 5,
     "metadata": {},
     "output_type": "execute_result"
    }
   ],
   "source": [
    "gt = pd.read_csv(load_Data(user, file2), header=0)\n",
    "gt.head()"
   ]
  },
  {
   "cell_type": "code",
   "execution_count": 7,
   "metadata": {},
   "outputs": [
    {
     "data": {
      "text/plain": [
       "(7265, 259140)"
      ]
     },
     "execution_count": 7,
     "metadata": {},
     "output_type": "execute_result"
    }
   ],
   "source": [
    "len(gt), len(data)"
   ]
  },
  {
   "cell_type": "code",
   "execution_count": 8,
   "metadata": {},
   "outputs": [],
   "source": [
    "clf = svm.SVC(cache_size=7000)"
   ]
  },
  {
   "cell_type": "code",
   "execution_count": 9,
   "metadata": {},
   "outputs": [],
   "source": [
    "X = [[1.01,.005,14.41],[1.01,.006,13],[1.02,.023,12.86]]\n",
    "y = [1,1,0]"
   ]
  },
  {
   "cell_type": "code",
   "execution_count": 10,
   "metadata": {},
   "outputs": [
    {
     "data": {
      "text/plain": [
       "SVC(C=1.0, cache_size=7000, class_weight=None, coef0=0.0,\n",
       "  decision_function_shape='ovr', degree=3, gamma='auto', kernel='rbf',\n",
       "  max_iter=-1, probability=False, random_state=None, shrinking=True,\n",
       "  tol=0.001, verbose=False)"
      ]
     },
     "execution_count": 10,
     "metadata": {},
     "output_type": "execute_result"
    }
   ],
   "source": [
    "clf.fit(X, y)"
   ]
  },
  {
   "cell_type": "code",
   "execution_count": null,
   "metadata": {},
   "outputs": [],
   "source": [
    "X = data[['mean.vm','sd.vm']]\n",
    "clf.fit(X, data['Class'])"
   ]
  },
  {
   "cell_type": "code",
   "execution_count": 55,
   "metadata": {},
   "outputs": [],
   "source": [
    "clf.predict()"
   ]
  }
 ],
 "metadata": {
  "kernelspec": {
   "display_name": "Python 2",
   "language": "python",
   "name": "python2"
  },
  "language_info": {
   "codemirror_mode": {
    "name": "ipython",
    "version": 2
   },
   "file_extension": ".py",
   "mimetype": "text/x-python",
   "name": "python",
   "nbconvert_exporter": "python",
   "pygments_lexer": "ipython2",
   "version": "2.7.14"
  }
 },
 "nbformat": 4,
 "nbformat_minor": 2
}
