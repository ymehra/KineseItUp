{
 "cells": [
  {
   "cell_type": "code",
   "execution_count": 45,
   "metadata": {
    "collapsed": true
   },
   "outputs": [],
   "source": [
    "import pandas as pd\n",
    "import json\n",
    "import sklearn.svm as svm\n",
    "import numpy as np\n",
    "from sklearn.metrics import confusion_matrix\n",
    "from sklearn.metrics import f1_score\n",
    "import matplotlib.pyplot as plt\n",
    "%matplotlib inline\n"
   ]
  },
  {
   "cell_type": "code",
   "execution_count": 3,
   "metadata": {
    "collapsed": true
   },
   "outputs": [],
   "source": [
    "## Change the name to get your path\n",
    "user = 'Hans'\n",
    "\n",
    "file1 = 'AG01-01.csv'\n",
    "file1a = 'GTH01-01.csv'\n",
    "file1b = 'GTL01-02.csv'\n",
    "\n",
    "file2 = 'AG04-01.csv'\n",
    "file2a = 'GTW04-01.csv'\n",
    "file2b = 'GTA04-02.csv'\n",
    "\n",
    "file3 = 'AG13-01.csv'\n",
    "file3a = 'GTW13-01.csv'\n",
    "\n",
    "file4 = 'AG14-01.csv'\n",
    "file4a = 'GTE14-02.csv'"
   ]
  },
  {
   "cell_type": "code",
   "execution_count": 4,
   "metadata": {
    "collapsed": true
   },
   "outputs": [],
   "source": [
    "def load_Data(user, filename):\n",
    "   data = json.load(open('dir.json'))\n",
    "   dir = data[user] + filename\n",
    "   return dir"
   ]
  },
  {
   "cell_type": "code",
   "execution_count": 54,
   "metadata": {},
   "outputs": [
    {
     "name": "stderr",
     "output_type": "stream",
     "text": [
      "C:\\Users\\Hans\\Anaconda3\\lib\\site-packages\\ipykernel_launcher.py:4: SettingWithCopyWarning: \n",
      "A value is trying to be set on a copy of a slice from a DataFrame.\n",
      "Try using .loc[row_indexer,col_indexer] = value instead\n",
      "\n",
      "See the caveats in the documentation: http://pandas.pydata.org/pandas-docs/stable/indexing.html#indexing-view-versus-copy\n",
      "  after removing the cwd from sys.path.\n"
     ]
    }
   ],
   "source": [
    "data1 = pd.read_csv(load_Data(user, file1), header=0)\n",
    "data1['start.time'] = pd.to_datetime(data1['start.time'])\n",
    "observedData1 = data1[(data1['start.time'] >= '2017-10-03 18:45:15') & (data1['start.time'] <= '2017-10-03 20:47:15')]\n",
    "observedData1['index'] = range(len(observedData1))\n",
    "gt1a = pd.read_csv(load_Data(user, file1a), header=0)\n",
    "gt1a['index'] = gt1a['time']\n",
    "observedData1 = pd.merge(observedData1,gt1a[['index','coding']])"
   ]
  },
  {
   "cell_type": "code",
   "execution_count": 55,
   "metadata": {},
   "outputs": [
    {
     "name": "stderr",
     "output_type": "stream",
     "text": [
      "C:\\Users\\Hans\\Anaconda3\\lib\\site-packages\\ipykernel_launcher.py:2: SettingWithCopyWarning: \n",
      "A value is trying to be set on a copy of a slice from a DataFrame.\n",
      "Try using .loc[row_indexer,col_indexer] = value instead\n",
      "\n",
      "See the caveats in the documentation: http://pandas.pydata.org/pandas-docs/stable/indexing.html#indexing-view-versus-copy\n",
      "  \n"
     ]
    }
   ],
   "source": [
    "observedData2 = data1[(data1['start.time'] >= '2017-10-06 16:44:06') & (data1['start.time'] <= '2017-10-06 18:45:06')]\n",
    "observedData2['index'] = range(len(observedData2))\n",
    "gt1b = pd.read_csv(load_Data(user, file1b), header=0)\n",
    "gt1b['index'] = gt1b['time']\n",
    "observedData2 = pd.merge(observedData1,gt1b[['index','coding']])"
   ]
  },
  {
   "cell_type": "code",
   "execution_count": 56,
   "metadata": {},
   "outputs": [
    {
     "name": "stderr",
     "output_type": "stream",
     "text": [
      "C:\\Users\\Hans\\Anaconda3\\lib\\site-packages\\ipykernel_launcher.py:4: SettingWithCopyWarning: \n",
      "A value is trying to be set on a copy of a slice from a DataFrame.\n",
      "Try using .loc[row_indexer,col_indexer] = value instead\n",
      "\n",
      "See the caveats in the documentation: http://pandas.pydata.org/pandas-docs/stable/indexing.html#indexing-view-versus-copy\n",
      "  after removing the cwd from sys.path.\n"
     ]
    }
   ],
   "source": [
    "data2 = pd.read_csv(load_Data(user, file2), header=0)\n",
    "data2['start.time'] = pd.to_datetime(data2['start.time'])\n",
    "observedData3 = data2[(data2['start.time'] >= '2017-09-12 12:02:56') & (data2['start.time'] <= '2017-09-12 14:03:56')]\n",
    "observedData3['index'] = range(len(observedData3))\n",
    "gt2a = pd.read_csv(load_Data(user, file2a), header=0)\n",
    "gt2a['index'] = gt2a['time']\n",
    "observedData3 = pd.merge(observedData3,gt2a[['index','coding']])"
   ]
  },
  {
   "cell_type": "code",
   "execution_count": 57,
   "metadata": {
    "collapsed": true
   },
   "outputs": [],
   "source": [
    "observedData4 = data2[(data2['start.time'] >= '2017-09-17 14:15:51') & (data1['start.time'] <= '2017-09-17 16:15:51')]\n",
    "observedData4['index'] = range(len(observedData4))\n",
    "gt2b = pd.read_csv(load_Data(user, file2b), header=0)\n",
    "gt2b['index'] = gt2b['time']\n",
    "observedData4 = pd.merge(observedData4,gt2b[['index','coding']])"
   ]
  },
  {
   "cell_type": "code",
   "execution_count": 58,
   "metadata": {},
   "outputs": [
    {
     "name": "stderr",
     "output_type": "stream",
     "text": [
      "C:\\Users\\Hans\\Anaconda3\\lib\\site-packages\\ipykernel_launcher.py:4: SettingWithCopyWarning: \n",
      "A value is trying to be set on a copy of a slice from a DataFrame.\n",
      "Try using .loc[row_indexer,col_indexer] = value instead\n",
      "\n",
      "See the caveats in the documentation: http://pandas.pydata.org/pandas-docs/stable/indexing.html#indexing-view-versus-copy\n",
      "  after removing the cwd from sys.path.\n"
     ]
    }
   ],
   "source": [
    "data3 = pd.read_csv(load_Data(user, file3), header=0)\n",
    "data3['start.time'] = pd.to_datetime(data3['start.time'])\n",
    "observedData5 = data3[(data3['start.time'] >= '2017-09-20 10:36:44') & (data3['start.time'] <= '2017-09-20 12:37:44')]\n",
    "observedData5['index'] = range(len(observedData5))\n",
    "gt3a = pd.read_csv(load_Data(user, file3a), header=0)\n",
    "gt3a['index'] = gt3a['time']\n",
    "observedData5 = pd.merge(observedData5,gt3a[['index','coding']])"
   ]
  },
  {
   "cell_type": "code",
   "execution_count": 59,
   "metadata": {},
   "outputs": [
    {
     "name": "stderr",
     "output_type": "stream",
     "text": [
      "C:\\Users\\Hans\\Anaconda3\\lib\\site-packages\\ipykernel_launcher.py:4: SettingWithCopyWarning: \n",
      "A value is trying to be set on a copy of a slice from a DataFrame.\n",
      "Try using .loc[row_indexer,col_indexer] = value instead\n",
      "\n",
      "See the caveats in the documentation: http://pandas.pydata.org/pandas-docs/stable/indexing.html#indexing-view-versus-copy\n",
      "  after removing the cwd from sys.path.\n"
     ]
    }
   ],
   "source": [
    "data4 = pd.read_csv(load_Data(user, file4), header=0)\n",
    "data4['start.time'] = pd.to_datetime(data4['start.time'])\n",
    "observedData6 = data4[(data4['start.time'] >= '2017-09-23 09:12:59') & (data4['start.time'] <= '2017-09-23 11:12:59')]\n",
    "observedData6['index'] = range(len(observedData6))\n",
    "gt4a = pd.read_csv(load_Data(user, file4a), header=0)\n",
    "gt4a['index'] = gt4a['time']\n",
    "observedData6 = pd.merge(observedData6,gt4a[['index','coding']])"
   ]
  },
  {
   "cell_type": "code",
   "execution_count": 60,
   "metadata": {
    "collapsed": true
   },
   "outputs": [],
   "source": [
    "observedData = pd.concat([observedData1,observedData2])\n",
    "observedData = pd.concat([observedData,observedData3])\n",
    "observedData = pd.concat([observedData,observedData4])\n",
    "observedData = pd.concat([observedData,observedData5])\n",
    "observedData = pd.concat([observedData,observedData6])"
   ]
  },
  {
   "cell_type": "code",
   "execution_count": 61,
   "metadata": {
    "collapsed": true
   },
   "outputs": [],
   "source": [
    "# observedData = pd.merge(observedData,gt[['index','coding']])\n",
    "## shuffle the data (for training and testing)\n",
    "observedData = observedData.sample(frac = 1)\n",
    "\n",
    "n = int(0.75 * len(observedData))\n",
    "\n",
    "train = observedData[:n]\n",
    "test = observedData[n:]\n",
    "## this might be an issue since there is ordinality and that makes things weird.  The later parts of this trial\n",
    "## were more likely to be sedentary.\n",
    "trainX = train[['mean.vm','sd.vm','mean.ang','sd.ang','p625','dfreq','ratio.df']]\n",
    "trainY = train['coding']\n",
    "testX = test[['mean.vm','sd.vm','mean.ang','sd.ang','p625','dfreq','ratio.df']]\n",
    "testY = test['coding']"
   ]
  },
  {
   "cell_type": "code",
   "execution_count": 62,
   "metadata": {},
   "outputs": [
    {
     "data": {
      "text/plain": [
       "SVC(C=1.0, cache_size=7000, class_weight=None, coef0=0.0,\n",
       "  decision_function_shape='ovr', degree=3, gamma='auto', kernel='rbf',\n",
       "  max_iter=-1, probability=False, random_state=None, shrinking=True,\n",
       "  tol=0.001, verbose=False)"
      ]
     },
     "execution_count": 62,
     "metadata": {},
     "output_type": "execute_result"
    }
   ],
   "source": [
    "clf = svm.SVC(cache_size=7000)\n",
    "clf.fit(trainX, trainY)"
   ]
  },
  {
   "cell_type": "code",
   "execution_count": 63,
   "metadata": {},
   "outputs": [
    {
     "data": {
      "text/plain": [
       "0.7514829461196243"
      ]
     },
     "execution_count": 63,
     "metadata": {},
     "output_type": "execute_result"
    }
   ],
   "source": [
    "## get accuracy of the svm\n",
    "clf.score(testX,testY)"
   ]
  },
  {
   "cell_type": "code",
   "execution_count": null,
   "metadata": {
    "collapsed": true
   },
   "outputs": [],
   "source": []
  },
  {
   "cell_type": "code",
   "execution_count": null,
   "metadata": {
    "collapsed": true
   },
   "outputs": [],
   "source": [
    "\n",
    "    "
   ]
  },
  {
   "cell_type": "code",
   "execution_count": null,
   "metadata": {},
   "outputs": [],
   "source": []
  },
  {
   "cell_type": "code",
   "execution_count": null,
   "metadata": {
    "collapsed": true
   },
   "outputs": [],
   "source": []
  },
  {
   "cell_type": "code",
   "execution_count": 75,
   "metadata": {},
   "outputs": [
    {
     "data": {
      "text/plain": [
       "MLPClassifier(activation='relu', alpha=1e-05, batch_size='auto', beta_1=0.9,\n",
       "       beta_2=0.999, early_stopping=False, epsilon=1e-08,\n",
       "       hidden_layer_sizes=(2000, 1000), learning_rate='constant',\n",
       "       learning_rate_init=0.001, max_iter=200, momentum=0.9,\n",
       "       nesterovs_momentum=True, power_t=0.5, random_state=1, shuffle=True,\n",
       "       solver='lbfgs', tol=0.0001, validation_fraction=0.1, verbose=False,\n",
       "       warm_start=False)"
      ]
     },
     "execution_count": 75,
     "metadata": {},
     "output_type": "execute_result"
    }
   ],
   "source": [
    "## what if we tried a neural net for fun?\n",
    "from sklearn.neural_network import MLPClassifier\n",
    "n_net = MLPClassifier(solver='lbfgs', alpha=1e-5,hidden_layer_sizes=(1000,500,200,100), random_state=1)\n",
    "n_net.fit(trainX,trainY)"
   ]
  },
  {
   "cell_type": "code",
   "execution_count": 76,
   "metadata": {},
   "outputs": [
    {
     "data": {
      "text/plain": [
       "0.72207695181172959"
      ]
     },
     "execution_count": 76,
     "metadata": {},
     "output_type": "execute_result"
    }
   ],
   "source": [
    "## test accuracy of neural net\n",
    "np.sum(n_net.predict(testX) == testY) / len(testX)"
   ]
  },
  {
   "cell_type": "code",
   "execution_count": null,
   "metadata": {
    "collapsed": true
   },
   "outputs": [],
   "source": []
  },
  {
   "cell_type": "code",
   "execution_count": 64,
   "metadata": {},
   "outputs": [
    {
     "data": {
      "text/plain": [
       "KNeighborsClassifier(algorithm='auto', leaf_size=30, metric='minkowski',\n",
       "           metric_params=None, n_jobs=1, n_neighbors=1000, p=2,\n",
       "           weights='distance')"
      ]
     },
     "execution_count": 64,
     "metadata": {},
     "output_type": "execute_result"
    }
   ],
   "source": [
    "## a KNN approach\n",
    "from sklearn.neighbors import KNeighborsClassifier\n",
    "neigh1 = KNeighborsClassifier(n_neighbors=100,weights = 'uniform')\n",
    "neigh2 = KNeighborsClassifier(n_neighbors=1000,weights = 'distance')\n",
    "neigh1.fit(trainX, trainY)\n",
    "neigh2.fit(trainX,trainY)"
   ]
  },
  {
   "cell_type": "code",
   "execution_count": 65,
   "metadata": {},
   "outputs": [
    {
     "data": {
      "text/plain": [
       "(0.74616905585763715, 0.77792881858625806)"
      ]
     },
     "execution_count": 65,
     "metadata": {},
     "output_type": "execute_result"
    }
   ],
   "source": [
    "neigh1.score(testX,testY),neigh2.score(testX,testY)"
   ]
  },
  {
   "cell_type": "code",
   "execution_count": 31,
   "metadata": {},
   "outputs": [
    {
     "data": {
      "text/plain": [
       "array([[3451,  591],\n",
       "       [ 997, 2992]], dtype=int64)"
      ]
     },
     "execution_count": 31,
     "metadata": {},
     "output_type": "execute_result"
    }
   ],
   "source": [
    "predictedVals = neigh2.predict(testX)\n",
    "confusion_matrix(testY,predictedVals,labels = ['sedentary','non-sedentary'])"
   ]
  },
  {
   "cell_type": "code",
   "execution_count": 51,
   "metadata": {},
   "outputs": [],
   "source": [
    "# np.array(testY)\n",
    "# f1_score(np.array(testY),np.array(predictedVals),labels = ['sedentary','non-sedentary'])"
   ]
  },
  {
   "cell_type": "code",
   "execution_count": 52,
   "metadata": {},
   "outputs": [],
   "source": [
    "acc = []\n",
    "for i in range(50,1000,100):\n",
    "    neigh = KNeighborsClassifier(n_neighbors=i,weights = 'distance')\n",
    "    neigh.fit(trainX,trainY)\n",
    "    acc.append([i,neigh.score(testX,testY)])\n",
    "acc = np.array(acc)"
   ]
  },
  {
   "cell_type": "code",
   "execution_count": 53,
   "metadata": {},
   "outputs": [
    {
     "data": {
      "text/plain": [
       "[<matplotlib.lines.Line2D at 0x1608109a828>]"
      ]
     },
     "execution_count": 53,
     "metadata": {},
     "output_type": "execute_result"
    },
    {
     "data": {
      "image/png": "[encoded data removed]",
      "text/plain": [
       "<matplotlib.figure.Figure at 0x16080bbef98>"
      ]
     },
     "metadata": {},
     "output_type": "display_data"
    }
   ],
   "source": [
    "acc = np.array(acc)\n",
    "plt.plot(acc[:,0],acc[:,1])"
   ]
  },
  {
   "cell_type": "code",
   "execution_count": null,
   "metadata": {},
   "outputs": [],
   "source": []
  },
  {
   "cell_type": "code",
   "execution_count": null,
   "metadata": {
    "collapsed": true
   },
   "outputs": [],
   "source": []
  }
 ],
 "metadata": {
  "kernelspec": {
   "display_name": "Python 3",
   "language": "python",
   "name": "python3"
  },
  "language_info": {
   "codemirror_mode": {
    "name": "ipython",
    "version": 3
   },
   "file_extension": ".py",
   "mimetype": "text/x-python",
   "name": "python",
   "nbconvert_exporter": "python",
   "pygments_lexer": "ipython3",
   "version": "3.6.3"
  }
 },
 "nbformat": 4,
 "nbformat_minor": 2
}
