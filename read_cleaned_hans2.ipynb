{
 "cells": [
  {
   "cell_type": "code",
   "execution_count": 2,
   "metadata": {},
   "outputs": [],
   "source": [
    "import pandas as pd\n",
    "import json\n",
    "import sklearn.svm as svm\n",
    "from sklearn.linear_model import Lasso, LassoCV\n",
    "from sklearn.feature_selection import SelectFromModel\n",
    "import numpy as np\n",
    "from sklearn.neural_network import MLPClassifier\n",
    "import script as sc\n",
    "from sklearn import preprocessing\n",
    "from sklearn.metrics import confusion_matrix\n",
    "from sklearn.metrics import f1_score"
   ]
  },
  {
   "cell_type": "code",
   "execution_count": 3,
   "metadata": {},
   "outputs": [],
   "source": [
    "## Change the name to get your path\n",
    "user = 'Andrew'"
   ]
  },
  {
   "cell_type": "markdown",
   "metadata": {},
   "source": [
    "## Build test and train Datasets"
   ]
  },
  {
   "cell_type": "code",
   "execution_count": 3,
   "metadata": {},
   "outputs": [
    {
     "name": "stderr",
     "output_type": "stream",
     "text": [
      "C:\\Users\\Andrew\\Documents\\CalPoly\\DataCapstone\\KineseItUp\\script.py:18: SettingWithCopyWarning: \n",
      "A value is trying to be set on a copy of a slice from a DataFrame.\n",
      "Try using .loc[row_indexer,col_indexer] = value instead\n",
      "\n",
      "See the caveats in the documentation: http://pandas.pydata.org/pandas-docs/stable/indexing.html#indexing-view-versus-copy\n",
      "  observedData['index'] = range(len(observedData))\n"
     ]
    }
   ],
   "source": [
    "# Rebuild complete dataset if necessary\n",
    "sc.update_complete(user)"
   ]
  },
  {
   "cell_type": "code",
   "execution_count": null,
   "metadata": {},
   "outputs": [],
   "source": [
    "data = pd.DataFrame(sc.get_complete(user))"
   ]
  },
  {
   "cell_type": "code",
   "execution_count": 7,
   "metadata": {},
   "outputs": [
    {
     "data": {
      "text/html": [
       "<div>\n",
       "<style scoped>\n",
       "    .dataframe tbody tr th:only-of-type {\n",
       "        vertical-align: middle;\n",
       "    }\n",
       "\n",
       "    .dataframe tbody tr th {\n",
       "        vertical-align: top;\n",
       "    }\n",
       "\n",
       "    .dataframe thead th {\n",
       "        text-align: right;\n",
       "    }\n",
       "</style>\n",
       "<table border=\"1\" class=\"dataframe\">\n",
       "  <thead>\n",
       "    <tr style=\"text-align: right;\">\n",
       "      <th></th>\n",
       "      <th>Unnamed: 0</th>\n",
       "      <th>Unnamed: 0.1</th>\n",
       "      <th>mean.vm</th>\n",
       "      <th>sd.vm</th>\n",
       "      <th>mean.ang</th>\n",
       "      <th>sd.ang</th>\n",
       "      <th>p625</th>\n",
       "      <th>dfreq</th>\n",
       "      <th>ratio.df</th>\n",
       "      <th>start.time</th>\n",
       "      <th>...</th>\n",
       "      <th>activity</th>\n",
       "      <th>coding</th>\n",
       "      <th>type</th>\n",
       "      <th>last.1.mean.vm</th>\n",
       "      <th>last.1.sd.vm</th>\n",
       "      <th>last.1.mean.ang</th>\n",
       "      <th>last.1.sd.ang</th>\n",
       "      <th>last.1.p625</th>\n",
       "      <th>last.1.dfreq</th>\n",
       "      <th>last.1.ratio.df</th>\n",
       "    </tr>\n",
       "  </thead>\n",
       "  <tbody>\n",
       "    <tr>\n",
       "      <th>0</th>\n",
       "      <td>0.0</td>\n",
       "      <td>368941.0</td>\n",
       "      <td>1.025459</td>\n",
       "      <td>0.052283</td>\n",
       "      <td>-13.663296</td>\n",
       "      <td>3.477743</td>\n",
       "      <td>0.072835</td>\n",
       "      <td>12.307692</td>\n",
       "      <td>0.072342</td>\n",
       "      <td>2017-10-06 16:44:00</td>\n",
       "      <td>...</td>\n",
       "      <td>active</td>\n",
       "      <td>non-sedentary</td>\n",
       "      <td>H-1</td>\n",
       "      <td>1.025459</td>\n",
       "      <td>0.052283</td>\n",
       "      <td>-13.663296</td>\n",
       "      <td>3.477743</td>\n",
       "      <td>0.072835</td>\n",
       "      <td>12.307692</td>\n",
       "      <td>0.072342</td>\n",
       "    </tr>\n",
       "    <tr>\n",
       "      <th>1</th>\n",
       "      <td>1.0</td>\n",
       "      <td>368942.0</td>\n",
       "      <td>1.019744</td>\n",
       "      <td>0.028089</td>\n",
       "      <td>-16.673945</td>\n",
       "      <td>2.361258</td>\n",
       "      <td>0.059919</td>\n",
       "      <td>9.230769</td>\n",
       "      <td>0.095085</td>\n",
       "      <td>2017-10-06 16:44:01</td>\n",
       "      <td>...</td>\n",
       "      <td>active</td>\n",
       "      <td>non-sedentary</td>\n",
       "      <td>H-1</td>\n",
       "      <td>1.025459</td>\n",
       "      <td>0.052283</td>\n",
       "      <td>-13.663296</td>\n",
       "      <td>3.477743</td>\n",
       "      <td>0.072835</td>\n",
       "      <td>12.307692</td>\n",
       "      <td>0.072342</td>\n",
       "    </tr>\n",
       "    <tr>\n",
       "      <th>2</th>\n",
       "      <td>2.0</td>\n",
       "      <td>368943.0</td>\n",
       "      <td>1.027147</td>\n",
       "      <td>0.026020</td>\n",
       "      <td>-6.451596</td>\n",
       "      <td>5.413729</td>\n",
       "      <td>0.216824</td>\n",
       "      <td>2.051282</td>\n",
       "      <td>0.179074</td>\n",
       "      <td>2017-10-06 16:44:02</td>\n",
       "      <td>...</td>\n",
       "      <td>active</td>\n",
       "      <td>non-sedentary</td>\n",
       "      <td>H-1</td>\n",
       "      <td>1.019744</td>\n",
       "      <td>0.028089</td>\n",
       "      <td>-16.673945</td>\n",
       "      <td>2.361258</td>\n",
       "      <td>0.059919</td>\n",
       "      <td>9.230769</td>\n",
       "      <td>0.095085</td>\n",
       "    </tr>\n",
       "    <tr>\n",
       "      <th>3</th>\n",
       "      <td>3.0</td>\n",
       "      <td>368944.0</td>\n",
       "      <td>1.049957</td>\n",
       "      <td>0.119535</td>\n",
       "      <td>-21.404693</td>\n",
       "      <td>23.206850</td>\n",
       "      <td>0.299554</td>\n",
       "      <td>2.051282</td>\n",
       "      <td>0.172340</td>\n",
       "      <td>2017-10-06 16:44:03</td>\n",
       "      <td>...</td>\n",
       "      <td>active</td>\n",
       "      <td>non-sedentary</td>\n",
       "      <td>H-1</td>\n",
       "      <td>1.027147</td>\n",
       "      <td>0.026020</td>\n",
       "      <td>-6.451596</td>\n",
       "      <td>5.413729</td>\n",
       "      <td>0.216824</td>\n",
       "      <td>2.051282</td>\n",
       "      <td>0.179074</td>\n",
       "    </tr>\n",
       "    <tr>\n",
       "      <th>4</th>\n",
       "      <td>4.0</td>\n",
       "      <td>368945.0</td>\n",
       "      <td>1.028554</td>\n",
       "      <td>0.049378</td>\n",
       "      <td>-69.353741</td>\n",
       "      <td>1.962348</td>\n",
       "      <td>0.130182</td>\n",
       "      <td>4.102564</td>\n",
       "      <td>0.067698</td>\n",
       "      <td>2017-10-06 16:44:04</td>\n",
       "      <td>...</td>\n",
       "      <td>active</td>\n",
       "      <td>non-sedentary</td>\n",
       "      <td>H-1</td>\n",
       "      <td>1.049957</td>\n",
       "      <td>0.119535</td>\n",
       "      <td>-21.404693</td>\n",
       "      <td>23.206850</td>\n",
       "      <td>0.299554</td>\n",
       "      <td>2.051282</td>\n",
       "      <td>0.172340</td>\n",
       "    </tr>\n",
       "  </tbody>\n",
       "</table>\n",
       "<p>5 rows × 21 columns</p>\n",
       "</div>"
      ],
      "text/plain": [
       "   Unnamed: 0  Unnamed: 0.1   mean.vm     sd.vm   mean.ang     sd.ang  \\\n",
       "0         0.0      368941.0  1.025459  0.052283 -13.663296   3.477743   \n",
       "1         1.0      368942.0  1.019744  0.028089 -16.673945   2.361258   \n",
       "2         2.0      368943.0  1.027147  0.026020  -6.451596   5.413729   \n",
       "3         3.0      368944.0  1.049957  0.119535 -21.404693  23.206850   \n",
       "4         4.0      368945.0  1.028554  0.049378 -69.353741   1.962348   \n",
       "\n",
       "       p625      dfreq  ratio.df           start.time       ...         \\\n",
       "0  0.072835  12.307692  0.072342  2017-10-06 16:44:00       ...          \n",
       "1  0.059919   9.230769  0.095085  2017-10-06 16:44:01       ...          \n",
       "2  0.216824   2.051282  0.179074  2017-10-06 16:44:02       ...          \n",
       "3  0.299554   2.051282  0.172340  2017-10-06 16:44:03       ...          \n",
       "4  0.130182   4.102564  0.067698  2017-10-06 16:44:04       ...          \n",
       "\n",
       "   activity         coding type last.1.mean.vm  last.1.sd.vm  last.1.mean.ang  \\\n",
       "0    active  non-sedentary  H-1       1.025459      0.052283       -13.663296   \n",
       "1    active  non-sedentary  H-1       1.025459      0.052283       -13.663296   \n",
       "2    active  non-sedentary  H-1       1.019744      0.028089       -16.673945   \n",
       "3    active  non-sedentary  H-1       1.027147      0.026020        -6.451596   \n",
       "4    active  non-sedentary  H-1       1.049957      0.119535       -21.404693   \n",
       "\n",
       "   last.1.sd.ang  last.1.p625  last.1.dfreq  last.1.ratio.df  \n",
       "0       3.477743     0.072835     12.307692         0.072342  \n",
       "1       3.477743     0.072835     12.307692         0.072342  \n",
       "2       2.361258     0.059919      9.230769         0.095085  \n",
       "3       5.413729     0.216824      2.051282         0.179074  \n",
       "4      23.206850     0.299554      2.051282         0.172340  \n",
       "\n",
       "[5 rows x 21 columns]"
      ]
     },
     "execution_count": 7,
     "metadata": {},
     "output_type": "execute_result"
    }
   ],
   "source": [
    "data.head()"
   ]
  },
  {
   "cell_type": "code",
   "execution_count": null,
   "metadata": {},
   "outputs": [],
   "source": [
    "# copy = data[['mean.vm','sd.vm','mean.ang','sd.ang','p625','dfreq','ratio.df']].copy(deep=True)\n",
    "# copy.loc[-1] = copy.loc[0]  # adding a row\n",
    "# copy.index = copy.index + 1  # shifting index\n",
    "# copy.sort_index(inplace=True)\n",
    "# copy.columns = 'last.' + copy.columns\n",
    "# data = pd.concat([data, copy], axis = 1)\n",
    "# data = data.drop(data.index[len(data)-1])\n",
    "data = sc.get_lags(data, 1)"
   ]
  },
  {
   "cell_type": "code",
   "execution_count": null,
   "metadata": {},
   "outputs": [],
   "source": [
    "trainX, trainY, testX, testY = sc.get_test_train(data,1)"
   ]
  },
  {
   "cell_type": "code",
   "execution_count": 9,
   "metadata": {
    "collapsed": true
   },
   "outputs": [],
   "source": [
    "dataH = data[data['type'].str.contains(\"H\")]\n",
    "dataE = data[data['type'].str.contains(\"E\")]\n",
    "dataL = data[data['type'].str.contains(\"L\")]\n",
    "dataA = data[data['type'].str.contains(\"A\")]\n",
    "dataW = data[data['type'].str.contains(\"W\")]"
   ]
  },
  {
   "cell_type": "code",
   "execution_count": 10,
   "metadata": {
    "collapsed": true
   },
   "outputs": [],
   "source": [
    "trainXH, trainYH, testXH, testYH = sc.get_test_train(dataH, 0)\n",
    "trainXE, trainYE, testXE, testYE = sc.get_test_train(dataE, 0)\n",
    "trainXL, trainYL, testXL, testYL = sc.get_test_train(dataL, 0)\n",
    "trainXA, trainYA, testXA, testYA = sc.get_test_train(dataA, 0)\n",
    "trainXW, trainYW, testXW, testYW = sc.get_test_train(dataW, 0)"
   ]
  },
  {
   "cell_type": "markdown",
   "metadata": {},
   "source": [
    "## Angle Cut Point Method"
   ]
  },
  {
   "cell_type": "code",
   "execution_count": 25,
   "metadata": {
    "collapsed": true
   },
   "outputs": [],
   "source": [
    "## create the cut point\n",
    "def cut_point_classify(angle):\n",
    "    if angle > -15 and angle < 15:\n",
    "        return 'sedentary'\n",
    "    else:\n",
    "        return 'non-sedentary'"
   ]
  },
  {
   "cell_type": "code",
   "execution_count": 67,
   "metadata": {},
   "outputs": [
    {
     "data": {
      "text/plain": [
       "0.51798949632894087"
      ]
     },
     "execution_count": 67,
     "metadata": {},
     "output_type": "execute_result"
    }
   ],
   "source": [
    "## use the cut point\n",
    "pred = data['mean.ang'].apply(cut_point_classify)\n",
    "## find accuracy\n",
    "np.mean(pred == data['coding'])"
   ]
  },
  {
   "cell_type": "code",
   "execution_count": 71,
   "metadata": {},
   "outputs": [
    {
     "data": {
      "text/plain": [
       "0.74814402375649591"
      ]
     },
     "execution_count": 71,
     "metadata": {},
     "output_type": "execute_result"
    }
   ],
   "source": [
    "## use the cut point\n",
    "predH = dataH['mean.ang'].apply(cut_point_classify)\n",
    "## find accuracy\n",
    "np.mean(predH == dataH['coding'])"
   ]
  },
  {
   "cell_type": "code",
   "execution_count": 72,
   "metadata": {},
   "outputs": [
    {
     "data": {
      "text/plain": [
       "0.61997719655875339"
      ]
     },
     "execution_count": 72,
     "metadata": {},
     "output_type": "execute_result"
    }
   ],
   "source": [
    "## use the cut point\n",
    "predE = dataE['mean.ang'].apply(cut_point_classify)\n",
    "## find accuracy\n",
    "np.mean(predE == dataE['coding'])"
   ]
  },
  {
   "cell_type": "code",
   "execution_count": 74,
   "metadata": {},
   "outputs": [
    {
     "data": {
      "text/plain": [
       "0.2467454528667713"
      ]
     },
     "execution_count": 74,
     "metadata": {},
     "output_type": "execute_result"
    }
   ],
   "source": [
    "## use the cut point\n",
    "predL = dataL['mean.ang'].apply(cut_point_classify)\n",
    "## find accuracy\n",
    "np.mean(predL == dataL['coding'])"
   ]
  },
  {
   "cell_type": "code",
   "execution_count": 73,
   "metadata": {},
   "outputs": [
    {
     "data": {
      "text/plain": [
       "0.61755601755601752"
      ]
     },
     "execution_count": 73,
     "metadata": {},
     "output_type": "execute_result"
    }
   ],
   "source": [
    "## use the cut point\n",
    "predA = dataA['mean.ang'].apply(cut_point_classify)\n",
    "## find accuracy\n",
    "np.mean(predA == dataA['coding'])"
   ]
  },
  {
   "cell_type": "code",
   "execution_count": 75,
   "metadata": {},
   "outputs": [
    {
     "data": {
      "text/plain": [
       "0.31853438020461577"
      ]
     },
     "execution_count": 75,
     "metadata": {},
     "output_type": "execute_result"
    }
   ],
   "source": [
    "## use the cut point\n",
    "predW = dataW['mean.ang'].apply(cut_point_classify)\n",
    "## find accuracy\n",
    "np.mean(predW == dataW['coding'])"
   ]
  },
  {
   "cell_type": "markdown",
   "metadata": {},
   "source": [
    "## SVM"
   ]
  },
  {
   "cell_type": "code",
   "execution_count": 9,
   "metadata": {},
   "outputs": [],
   "source": [
    "clf = svm.SVC(cache_size=7000)"
   ]
  },
  {
   "cell_type": "code",
   "execution_count": 10,
   "metadata": {},
   "outputs": [
    {
     "data": {
      "text/plain": [
       "SVC(C=1.0, cache_size=7000, class_weight=None, coef0=0.0,\n",
       "  decision_function_shape='ovr', degree=3, gamma='auto', kernel='rbf',\n",
       "  max_iter=-1, probability=False, random_state=None, shrinking=True,\n",
       "  tol=0.001, verbose=False)"
      ]
     },
     "execution_count": 10,
     "metadata": {},
     "output_type": "execute_result"
    }
   ],
   "source": [
    "clf.fit(trainX,trainY)"
   ]
  },
  {
   "cell_type": "code",
   "execution_count": 10,
   "metadata": {},
   "outputs": [
    {
     "data": {
      "text/plain": [
       "0.76466221232368226"
      ]
     },
     "execution_count": 10,
     "metadata": {},
     "output_type": "execute_result"
    }
   ],
   "source": [
    "clf.score(testXH,testYH)"
   ]
  },
  {
   "cell_type": "code",
   "execution_count": 11,
   "metadata": {},
   "outputs": [
    {
     "data": {
      "text/plain": [
       "0.66155334438916524"
      ]
     },
     "execution_count": 11,
     "metadata": {},
     "output_type": "execute_result"
    }
   ],
   "source": [
    "clf.score(testXE,testYE)"
   ]
  },
  {
   "cell_type": "code",
   "execution_count": 12,
   "metadata": {},
   "outputs": [
    {
     "data": {
      "text/plain": [
       "0.57034711964549478"
      ]
     },
     "execution_count": 12,
     "metadata": {},
     "output_type": "execute_result"
    }
   ],
   "source": [
    "clf.score(testXL,testYL)"
   ]
  },
  {
   "cell_type": "code",
   "execution_count": 13,
   "metadata": {},
   "outputs": [
    {
     "data": {
      "text/plain": [
       "0.81892091648189214"
      ]
     },
     "execution_count": 13,
     "metadata": {},
     "output_type": "execute_result"
    }
   ],
   "source": [
    "clf.score(testXA,testYA)"
   ]
  },
  {
   "cell_type": "code",
   "execution_count": 14,
   "metadata": {},
   "outputs": [
    {
     "data": {
      "text/plain": [
       "0.59935287400076132"
      ]
     },
     "execution_count": 14,
     "metadata": {},
     "output_type": "execute_result"
    }
   ],
   "source": [
    "clf.score(testXW,testYW)"
   ]
  },
  {
   "cell_type": "code",
   "execution_count": 11,
   "metadata": {},
   "outputs": [
    {
     "data": {
      "text/plain": [
       "0.7117851473679695"
      ]
     },
     "execution_count": 11,
     "metadata": {},
     "output_type": "execute_result"
    }
   ],
   "source": [
    "clf.score(testX,testY)"
   ]
  },
  {
   "cell_type": "code",
   "execution_count": 12,
   "metadata": {},
   "outputs": [
    {
     "data": {
      "text/plain": [
       "array([[    0,   160,     0,     0,     3,    14,     0],\n",
       "       [    0, 10571,     0,    89,   216,   855,     3],\n",
       "       [    0,    98,     0,     2,     4,     3,     0],\n",
       "       [    0,   196,     0,  1080,    64,   103,     0],\n",
       "       [    0,   492,     0,   103,  1830,   322,     2],\n",
       "       [    0,  1693,     0,   176,   358,  2953,    25],\n",
       "       [    0,  1424,     0,     9,    94,   210,   157]], dtype=int64)"
      ]
     },
     "execution_count": 12,
     "metadata": {},
     "output_type": "execute_result"
    }
   ],
   "source": [
    "confusion_matrix(testY, clf.predict(testX))"
   ]
  },
  {
   "cell_type": "markdown",
   "metadata": {},
   "source": [
    "## Neural Network"
   ]
  },
  {
   "cell_type": "code",
   "execution_count": 11,
   "metadata": {},
   "outputs": [
    {
     "data": {
      "text/plain": [
       "MLPClassifier(activation='relu', alpha=1e-05, batch_size='auto', beta_1=0.9,\n",
       "       beta_2=0.999, early_stopping=False, epsilon=1e-08,\n",
       "       hidden_layer_sizes=(1000, 500, 250, 125), learning_rate='constant',\n",
       "       learning_rate_init=0.001, max_iter=200, momentum=0.9,\n",
       "       nesterovs_momentum=True, power_t=0.5, random_state=1, shuffle=True,\n",
       "       solver='lbfgs', tol=0.0001, validation_fraction=0.1, verbose=True,\n",
       "       warm_start=False)"
      ]
     },
     "execution_count": 11,
     "metadata": {},
     "output_type": "execute_result"
    }
   ],
   "source": [
    "n_net = MLPClassifier(solver='lbfgs', alpha=1e-5,hidden_layer_sizes=(1000, 500, 250, 125), \n",
    "                      random_state=1, verbose = True)\n",
    "n_net.fit(trainX,trainY)"
   ]
  },
  {
   "cell_type": "code",
   "execution_count": 28,
   "metadata": {},
   "outputs": [
    {
     "data": {
      "text/plain": [
       "0.67427616926503342"
      ]
     },
     "execution_count": 28,
     "metadata": {},
     "output_type": "execute_result"
    }
   ],
   "source": [
    "np.sum(n_net.predict(testXH) == testYH) / len(testXH)"
   ]
  },
  {
   "cell_type": "code",
   "execution_count": 30,
   "metadata": {},
   "outputs": [
    {
     "data": {
      "text/plain": [
       "0.57144831398562745"
      ]
     },
     "execution_count": 30,
     "metadata": {},
     "output_type": "execute_result"
    }
   ],
   "source": [
    "np.sum(n_net.predict(testXE) == testYE) / len(testXE)"
   ]
  },
  {
   "cell_type": "code",
   "execution_count": 32,
   "metadata": {},
   "outputs": [
    {
     "data": {
      "text/plain": [
       "0.18537666174298376"
      ]
     },
     "execution_count": 32,
     "metadata": {},
     "output_type": "execute_result"
    }
   ],
   "source": [
    "np.sum(n_net.predict(testXL) == testYL) / len(testXL)"
   ]
  },
  {
   "cell_type": "code",
   "execution_count": 33,
   "metadata": {},
   "outputs": [
    {
     "data": {
      "text/plain": [
       "0.69401330376940129"
      ]
     },
     "execution_count": 33,
     "metadata": {},
     "output_type": "execute_result"
    }
   ],
   "source": [
    "np.sum(n_net.predict(testXA) == testYA) / len(testXA)"
   ]
  },
  {
   "cell_type": "code",
   "execution_count": 35,
   "metadata": {},
   "outputs": [
    {
     "data": {
      "text/plain": [
       "0.36676817662733158"
      ]
     },
     "execution_count": 35,
     "metadata": {},
     "output_type": "execute_result"
    }
   ],
   "source": [
    "np.sum(n_net.predict(testXW) == testYW) / len(testXW)"
   ]
  },
  {
   "cell_type": "code",
   "execution_count": 18,
   "metadata": {},
   "outputs": [
    {
     "data": {
      "text/plain": [
       "0.73638738895662781"
      ]
     },
     "execution_count": 18,
     "metadata": {},
     "output_type": "execute_result"
    }
   ],
   "source": [
    "predictedVals = n_net.predict(testX)\n",
    "n_net.score(testX,testY)\n",
    "# f1_score(testY, predictedVals)"
   ]
  },
  {
   "cell_type": "code",
   "execution_count": 21,
   "metadata": {},
   "outputs": [],
   "source": [
    "conf_mat = confusion_matrix(testY,predictedVals,testY.unique())"
   ]
  },
  {
   "cell_type": "code",
   "execution_count": 37,
   "metadata": {},
   "outputs": [
    {
     "name": "stderr",
     "output_type": "stream",
     "text": [
      "C:\\Users\\Hans\\Anaconda3\\lib\\site-packages\\sklearn\\metrics\\classification.py:1135: UndefinedMetricWarning: F-score is ill-defined and being set to 0.0 in labels with no predicted samples.\n",
      "  'precision', 'predicted', average, warn_for)\n"
     ]
    },
    {
     "data": {
      "text/plain": [
       "0.70974126423006312"
      ]
     },
     "execution_count": 37,
     "metadata": {},
     "output_type": "execute_result"
    }
   ],
   "source": [
    "f1_score(testY,predictedVals,average='weighted')"
   ]
  },
  {
   "cell_type": "code",
   "execution_count": 27,
   "metadata": {},
   "outputs": [
    {
     "name": "stdout",
     "output_type": "stream",
     "text": [
      "0.918856356356 active\n",
      "0.574349775785 sitting still\n",
      "0.127197039778 sitting with upper body movement\n",
      "0.737987987988 lying\n",
      "0.592735933313 sitting and typing\n",
      "0.0 kneeling\n",
      "0.0 Private / Not Coded\n"
     ]
    }
   ],
   "source": [
    "for i in range(7):\n",
    "    print (conf_mat[i][i] / np.sum(conf_mat[i]),testY.unique()[i])"
   ]
  },
  {
   "cell_type": "code",
   "execution_count": 22,
   "metadata": {},
   "outputs": [
    {
     "data": {
      "text/plain": [
       "(array([[14687,   967,    64,    68,   198,     0,     0],\n",
       "        [ 1773,  3202,    66,   161,   373,     0,     0],\n",
       "        [ 1449,   305,   275,    48,    85,     0,     0],\n",
       "        [  176,   123,     5,   983,    45,     0,     0],\n",
       "        [  613,   648,    26,    81,  1991,     0,     0],\n",
       "        [  109,     2,     1,     1,     3,     0,     0],\n",
       "        [  165,    11,     0,     0,     1,     0,     0]], dtype=int64),\n",
       " array(['active', 'sitting still', 'sitting with upper body movement',\n",
       "        'lying', 'sitting and typing', 'kneeling', 'Private / Not Coded'], dtype=object))"
      ]
     },
     "execution_count": 22,
     "metadata": {},
     "output_type": "execute_result"
    }
   ],
   "source": [
    "conf_mat,testY.unique()"
   ]
  },
  {
   "cell_type": "markdown",
   "metadata": {},
   "source": [
    "## Random Forest"
   ]
  },
  {
   "cell_type": "code",
   "execution_count": 13,
   "metadata": {},
   "outputs": [
    {
     "data": {
      "text/plain": [
       "RandomForestClassifier(bootstrap=True, class_weight=None, criterion='gini',\n",
       "            max_depth=5, max_features='auto', max_leaf_nodes=None,\n",
       "            min_impurity_decrease=0.0, min_impurity_split=None,\n",
       "            min_samples_leaf=1, min_samples_split=2,\n",
       "            min_weight_fraction_leaf=0.0, n_estimators=10, n_jobs=1,\n",
       "            oob_score=False, random_state=0, verbose=0, warm_start=False)"
      ]
     },
     "execution_count": 13,
     "metadata": {},
     "output_type": "execute_result"
    }
   ],
   "source": [
    "from sklearn.ensemble import RandomForestClassifier\n",
    "rf = RandomForestClassifier(max_depth=5, random_state=0)\n",
    "rf.fit(trainX,trainY)"
   ]
  },
  {
   "cell_type": "code",
   "execution_count": 17,
   "metadata": {},
   "outputs": [
    {
     "data": {
      "text/plain": [
       "0.7548255382331106"
      ]
     },
     "execution_count": 17,
     "metadata": {},
     "output_type": "execute_result"
    }
   ],
   "source": [
    "rf.score(testXH,testYH)"
   ]
  },
  {
   "cell_type": "code",
   "execution_count": 18,
   "metadata": {},
   "outputs": [
    {
     "data": {
      "text/plain": [
       "0.66680486456605859"
      ]
     },
     "execution_count": 18,
     "metadata": {},
     "output_type": "execute_result"
    }
   ],
   "source": [
    "rf.score(testXE,testYE)"
   ]
  },
  {
   "cell_type": "code",
   "execution_count": 19,
   "metadata": {},
   "outputs": [
    {
     "data": {
      "text/plain": [
       "0.34490398818316098"
      ]
     },
     "execution_count": 19,
     "metadata": {},
     "output_type": "execute_result"
    }
   ],
   "source": [
    "rf.score(testXL,testYL)"
   ]
  },
  {
   "cell_type": "code",
   "execution_count": 20,
   "metadata": {},
   "outputs": [
    {
     "data": {
      "text/plain": [
       "0.7889874353288987"
      ]
     },
     "execution_count": 20,
     "metadata": {},
     "output_type": "execute_result"
    }
   ],
   "source": [
    "rf.score(testXA,testYA)"
   ]
  },
  {
   "cell_type": "code",
   "execution_count": 21,
   "metadata": {},
   "outputs": [
    {
     "data": {
      "text/plain": [
       "0.59326227636086792"
      ]
     },
     "execution_count": 21,
     "metadata": {},
     "output_type": "execute_result"
    }
   ],
   "source": [
    "rf.score(testXW,testYW)"
   ]
  },
  {
   "cell_type": "code",
   "execution_count": 14,
   "metadata": {},
   "outputs": [
    {
     "data": {
      "text/plain": [
       "0.67222961087991762"
      ]
     },
     "execution_count": 14,
     "metadata": {},
     "output_type": "execute_result"
    }
   ],
   "source": [
    "rf.score(testX,testY)"
   ]
  },
  {
   "cell_type": "markdown",
   "metadata": {},
   "source": [
    "## KNN"
   ]
  },
  {
   "cell_type": "code",
   "execution_count": 20,
   "metadata": {},
   "outputs": [
    {
     "data": {
      "text/plain": [
       "KNeighborsClassifier(algorithm='auto', leaf_size=30, metric='minkowski',\n",
       "           metric_params=None, n_jobs=1, n_neighbors=15, p=2,\n",
       "           weights='uniform')"
      ]
     },
     "execution_count": 20,
     "metadata": {},
     "output_type": "execute_result"
    }
   ],
   "source": [
    "from sklearn.neighbors import KNeighborsClassifier\n",
    "knn = KNeighborsClassifier(n_neighbors=15)\n",
    "knn.fit(trainX,trainY)"
   ]
  },
  {
   "cell_type": "code",
   "execution_count": 24,
   "metadata": {},
   "outputs": [
    {
     "data": {
      "text/plain": [
       "0.75668151447661469"
      ]
     },
     "execution_count": 24,
     "metadata": {},
     "output_type": "execute_result"
    }
   ],
   "source": [
    "knn.score(testXH,testYH)"
   ]
  },
  {
   "cell_type": "code",
   "execution_count": 25,
   "metadata": {},
   "outputs": [
    {
     "data": {
      "text/plain": [
       "0.65823659480375896"
      ]
     },
     "execution_count": 25,
     "metadata": {},
     "output_type": "execute_result"
    }
   ],
   "source": [
    "knn.score(testXE,testYE)"
   ]
  },
  {
   "cell_type": "code",
   "execution_count": 26,
   "metadata": {},
   "outputs": [
    {
     "data": {
      "text/plain": [
       "0.61983013293943867"
      ]
     },
     "execution_count": 26,
     "metadata": {},
     "output_type": "execute_result"
    }
   ],
   "source": [
    "knn.score(testXL,testYL)"
   ]
  },
  {
   "cell_type": "code",
   "execution_count": 27,
   "metadata": {},
   "outputs": [
    {
     "data": {
      "text/plain": [
       "0.81596452328159641"
      ]
     },
     "execution_count": 27,
     "metadata": {},
     "output_type": "execute_result"
    }
   ],
   "source": [
    "knn.score(testXA,testYA)"
   ]
  },
  {
   "cell_type": "code",
   "execution_count": 28,
   "metadata": {},
   "outputs": [
    {
     "data": {
      "text/plain": [
       "0.57689379520365436"
      ]
     },
     "execution_count": 28,
     "metadata": {},
     "output_type": "execute_result"
    }
   ],
   "source": [
    "knn.score(testXW,testYW)"
   ]
  },
  {
   "cell_type": "code",
   "execution_count": 21,
   "metadata": {},
   "outputs": [
    {
     "data": {
      "text/plain": [
       "0.72671500278862244"
      ]
     },
     "execution_count": 21,
     "metadata": {},
     "output_type": "execute_result"
    }
   ],
   "source": [
    "knn.score(testX,testY)"
   ]
  },
  {
   "cell_type": "code",
   "execution_count": 17,
   "metadata": {},
   "outputs": [],
   "source": [
    "## determining the optimal k value\n",
    "acc = []\n",
    "for i in range(5,100,5):\n",
    "    neigh = KNeighborsClassifier(n_neighbors=i,weights = 'distance')\n",
    "    neigh.fit(trainX,trainY)\n",
    "    acc.append([i,neigh.score(testX,testY)])\n",
    "acc = np.array(acc)"
   ]
  },
  {
   "cell_type": "code",
   "execution_count": 19,
   "metadata": {
    "scrolled": true
   },
   "outputs": [
    {
     "data": {
      "text/plain": [
       "[<matplotlib.lines.Line2D at 0x1f004cb12b0>]"
      ]
     },
     "execution_count": 19,
     "metadata": {},
     "output_type": "execute_result"
    },
    {
     "data": {
      "image/png": "[encoded data removed]",
      "text/plain": [
       "<Figure size 432x288 with 1 Axes>"
      ]
     },
     "metadata": {},
     "output_type": "display_data"
    }
   ],
   "source": [
    "import matplotlib.pyplot as plt\n",
    "%matplotlib inline\n",
    "\n",
    "plt.plot(acc[:,0],acc[:,1])"
   ]
  },
  {
   "cell_type": "code",
   "execution_count": 31,
   "metadata": {},
   "outputs": [],
   "source": [
    "conf_mat = confusion_matrix(testY, knn.predict(testX), testY.unique())"
   ]
  },
  {
   "cell_type": "code",
   "execution_count": 37,
   "metadata": {
    "scrolled": true
   },
   "outputs": [
    {
     "name": "stdout",
     "output_type": "stream",
     "text": [
      "0.744634412514 sitting and typing\n",
      "0.889722174876 active\n",
      "0.584822286263 sitting still\n",
      "0.164202745512 sitting with upper body movement\n",
      "0.760221760222 lying\n",
      "0.0 Private / Not Coded\n",
      "0.0 kneeling\n"
     ]
    }
   ],
   "source": [
    "for i in range(7):\n",
    "    print (conf_mat[i][i] / np.sum(conf_mat[i]),testY.unique()[i])"
   ]
  },
  {
   "cell_type": "code",
   "execution_count": 30,
   "metadata": {},
   "outputs": [
    {
     "data": {
      "text/plain": [
       "(array([[ 2047,   369,   275,    10,    48,     0,     0],\n",
       "        [  303, 10440,   866,    50,    75,     0,     0],\n",
       "        [  363,  1603,  3044,    58,   137,     0,     0],\n",
       "        [  109,  1241,   209,   311,    24,     0,     0],\n",
       "        [   92,   190,    63,     1,  1097,     0,     0],\n",
       "        [    4,   162,    10,     1,     0,     0,     0],\n",
       "        [    2,    97,     6,     0,     2,     0,     0]], dtype=int64),\n",
       " array(['sitting and typing', 'active', 'sitting still',\n",
       "        'sitting with upper body movement', 'lying', 'Private / Not Coded',\n",
       "        'kneeling'], dtype=object))"
      ]
     },
     "execution_count": 30,
     "metadata": {},
     "output_type": "execute_result"
    }
   ],
   "source": [
    "confusion_matrix(testY, knn.predict(testX), testY.unique()),testY.unique()"
   ]
  },
  {
   "cell_type": "code",
   "execution_count": 35,
   "metadata": {},
   "outputs": [
    {
     "data": {
      "text/plain": [
       "KNeighborsClassifier(algorithm='auto', leaf_size=30, metric='minkowski',\n",
       "           metric_params=None, n_jobs=1, n_neighbors=15, p=2,\n",
       "           weights='distance')"
      ]
     },
     "execution_count": 35,
     "metadata": {},
     "output_type": "execute_result"
    }
   ],
   "source": [
    "knn_dist = KNeighborsClassifier(n_neighbors=15, weights='distance')\n",
    "knn_dist.fit(trainX,trainY)"
   ]
  },
  {
   "cell_type": "code",
   "execution_count": 36,
   "metadata": {},
   "outputs": [],
   "source": [
    "conf_mat2 = confusion_matrix(testY, knn_dist.predict(testX), testY.unique())"
   ]
  },
  {
   "cell_type": "code",
   "execution_count": null,
   "metadata": {},
   "outputs": [],
   "source": [
    "conf_mat2at2"
   ]
  },
  {
   "cell_type": "code",
   "execution_count": 38,
   "metadata": {},
   "outputs": [
    {
     "name": "stdout",
     "output_type": "stream",
     "text": [
      "0.748635867588 sitting and typing\n",
      "0.881881711266 active\n",
      "0.606916426513 sitting still\n",
      "0.179514255544 sitting with upper body movement\n",
      "0.767844767845 lying\n",
      "0.0 Private / Not Coded\n",
      "0.0 kneeling\n"
     ]
    }
   ],
   "source": [
    "for i in range(7):\n",
    "    print (conf_mat2[i][i] / np.sum(conf_mat2[i]),testY.unique()[i])"
   ]
  },
  {
   "cell_type": "code",
   "execution_count": 39,
   "metadata": {},
   "outputs": [
    {
     "data": {
      "text/plain": [
       "0.72988974215968083"
      ]
     },
     "execution_count": 39,
     "metadata": {},
     "output_type": "execute_result"
    }
   ],
   "source": [
    "knn_dist.score(testX, testY)"
   ]
  },
  {
   "cell_type": "code",
   "execution_count": 41,
   "metadata": {},
   "outputs": [
    {
     "name": "stderr",
     "output_type": "stream",
     "text": [
      "c:\\users\\andrew\\appdata\\local\\programs\\python\\python36\\lib\\site-packages\\sklearn\\metrics\\classification.py:1135: UndefinedMetricWarning: F-score is ill-defined and being set to 0.0 in labels with no predicted samples.\n",
      "  'precision', 'predicted', average, warn_for)\n"
     ]
    },
    {
     "data": {
      "text/plain": [
       "0.70753265212438199"
      ]
     },
     "execution_count": 41,
     "metadata": {},
     "output_type": "execute_result"
    }
   ],
   "source": [
    "f1_score(testY, knn_dist.predict(testX), average='weighted')"
   ]
  },
  {
   "cell_type": "markdown",
   "metadata": {},
   "source": [
    "## Boosting!"
   ]
  },
  {
   "cell_type": "code",
   "execution_count": 1,
   "metadata": {},
   "outputs": [],
   "source": [
    "from sklearn.ensemble import AdaBoostClassifier"
   ]
  },
  {
   "cell_type": "code",
   "execution_count": 19,
   "metadata": {},
   "outputs": [
    {
     "data": {
      "text/plain": [
       "AdaBoostClassifier(algorithm='SAMME.R', base_estimator=None,\n",
       "          learning_rate=1.0, n_estimators=200, random_state=None)"
      ]
     },
     "execution_count": 19,
     "metadata": {},
     "output_type": "execute_result"
    }
   ],
   "source": [
    "adaboost = AdaBoostClassifier(n_estimators=200)\n",
    "adaboost.fit(trainX, trainY)"
   ]
  },
  {
   "cell_type": "code",
   "execution_count": 20,
   "metadata": {},
   "outputs": [
    {
     "data": {
      "text/plain": [
       "0.63735037968166808"
      ]
     },
     "execution_count": 20,
     "metadata": {},
     "output_type": "execute_result"
    }
   ],
   "source": [
    "adaboost.score(testX, testY)"
   ]
  },
  {
   "cell_type": "code",
   "execution_count": 21,
   "metadata": {
    "scrolled": true
   },
   "outputs": [
    {
     "name": "stdout",
     "output_type": "stream",
     "text": [
      "0.849096258932 active\n",
      "0.4316982607 sitting still\n",
      "0.635669673838 lying\n",
      "0.560644924881 sitting and typing\n",
      "0.0519693654267 sitting with upper body movement\n",
      "0.00877192982456 kneeling\n",
      "0.027027027027 Private / Not Coded\n"
     ]
    }
   ],
   "source": [
    "conf_mat2 = confusion_matrix(testY, adaboost.predict(testX), testY.unique())\n",
    "for i in range(7):\n",
    "    print (conf_mat2[i][i] / np.sum(conf_mat2[i]),testY.unique()[i])"
   ]
  },
  {
   "cell_type": "code",
   "execution_count": 22,
   "metadata": {},
   "outputs": [
    {
     "data": {
      "text/plain": [
       "0.60955350678233555"
      ]
     },
     "execution_count": 22,
     "metadata": {},
     "output_type": "execute_result"
    }
   ],
   "source": [
    "f1_score(testY, adaboost.predict(testX), average='weighted')"
   ]
  },
  {
   "cell_type": "code",
   "execution_count": 23,
   "metadata": {},
   "outputs": [
    {
     "data": {
      "text/plain": [
       "array([[10100,   957,   102,   322,   142,   243,    29],\n",
       "       [ 2064,  2209,   469,   308,    53,    12,     2],\n",
       "       [  267,   159,   916,    98,     0,     1,     0],\n",
       "       [  426,   500,   257,  1530,    13,     3,     0],\n",
       "       [ 1275,   256,    12,   168,    95,    20,     2],\n",
       "       [  107,     1,     2,     3,     0,     1,     0],\n",
       "       [  153,    18,     0,     4,     1,     4,     5]], dtype=int64)"
      ]
     },
     "execution_count": 23,
     "metadata": {},
     "output_type": "execute_result"
    }
   ],
   "source": [
    "conf_mat2"
   ]
  },
  {
   "cell_type": "markdown",
   "metadata": {},
   "source": [
    "## Gradient Boosting"
   ]
  },
  {
   "cell_type": "code",
   "execution_count": 25,
   "metadata": {},
   "outputs": [],
   "source": [
    "from sklearn.ensemble import GradientBoostingClassifier\n",
    "grad_boost = GradientBoostingClassifier(n_estimators = 200,max_depth = 7)"
   ]
  },
  {
   "cell_type": "code",
   "execution_count": 26,
   "metadata": {},
   "outputs": [
    {
     "data": {
      "text/plain": [
       "GradientBoostingClassifier(criterion='friedman_mse', init=None,\n",
       "              learning_rate=0.1, loss='deviance', max_depth=7,\n",
       "              max_features=None, max_leaf_nodes=None,\n",
       "              min_impurity_decrease=0.0, min_impurity_split=None,\n",
       "              min_samples_leaf=1, min_samples_split=2,\n",
       "              min_weight_fraction_leaf=0.0, n_estimators=200,\n",
       "              presort='auto', random_state=None, subsample=1.0, verbose=0,\n",
       "              warm_start=False)"
      ]
     },
     "execution_count": 26,
     "metadata": {},
     "output_type": "execute_result"
    }
   ],
   "source": [
    "grad_boost.fit(trainX, trainY)"
   ]
  },
  {
   "cell_type": "code",
   "execution_count": 27,
   "metadata": {
    "scrolled": true
   },
   "outputs": [
    {
     "name": "stdout",
     "output_type": "stream",
     "text": [
      "0.917108028583 active\n",
      "0.675004885675 sitting still\n",
      "0.834836918806 lying\n",
      "0.78930010993 sitting and typing\n",
      "0.310175054705 sitting with upper body movement\n",
      "0.0 kneeling\n",
      "0.00540540540541 Private / Not Coded\n"
     ]
    }
   ],
   "source": [
    "conf_mat2 = confusion_matrix(testY, grad_boost.predict(testX), testY.unique())\n",
    "for i in range(7):\n",
    "    print (conf_mat2[i][i] / np.sum(conf_mat2[i]),testY.unique()[i])"
   ]
  },
  {
   "cell_type": "code",
   "execution_count": 29,
   "metadata": {},
   "outputs": [
    {
     "data": {
      "text/plain": [
       "0.76959799300646581"
      ]
     },
     "execution_count": 29,
     "metadata": {},
     "output_type": "execute_result"
    }
   ],
   "source": [
    "f1_score(testY, grad_boost.predict(testX), average='weighted')"
   ]
  },
  {
   "cell_type": "code",
   "execution_count": 30,
   "metadata": {},
   "outputs": [
    {
     "data": {
      "text/plain": [
       "array([[10909,   659,    37,   118,   148,    12,    12],\n",
       "       [ 1326,  3454,    52,   169,   111,     2,     3],\n",
       "       [  123,    89,  1203,    21,     2,     3,     0],\n",
       "       [  284,   245,    27,  2154,    18,     0,     1],\n",
       "       [ 1027,   181,     8,    43,   567,     2,     0],\n",
       "       [  106,     5,     1,     1,     1,     0,     0],\n",
       "       [  168,    13,     0,     1,     2,     0,     1]], dtype=int64)"
      ]
     },
     "execution_count": 30,
     "metadata": {},
     "output_type": "execute_result"
    }
   ],
   "source": [
    "conf_mat2"
   ]
  },
  {
   "cell_type": "code",
   "execution_count": null,
   "metadata": {},
   "outputs": [],
   "source": []
  }
 ],
 "metadata": {
  "kernelspec": {
   "display_name": "Python 3",
   "language": "python",
   "name": "python3"
  },
  "language_info": {
   "codemirror_mode": {
    "name": "ipython",
    "version": 3
   },
   "file_extension": ".py",
   "mimetype": "text/x-python",
   "name": "python",
   "nbconvert_exporter": "python",
   "pygments_lexer": "ipython3",
   "version": "3.6.3"
  }
 },
 "nbformat": 4,
 "nbformat_minor": 2
}
