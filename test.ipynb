{
 "cells": [
  {
   "cell_type": "code",
   "execution_count": 1,
   "metadata": {},
   "outputs": [],
   "source": [
    "import script as sc\n",
    "import pandas as pd\n",
    "user = 'Yash'"
   ]
  },
  {
   "cell_type": "code",
   "execution_count": 2,
   "metadata": {},
   "outputs": [
    {
     "name": "stderr",
     "output_type": "stream",
     "text": [
      "/Users/yashmehra/Google Drive/DATA 451/KineseItUp/script.py:16: SettingWithCopyWarning: \n",
      "A value is trying to be set on a copy of a slice from a DataFrame.\n",
      "Try using .loc[row_indexer,col_indexer] = value instead\n",
      "\n",
      "See the caveats in the documentation: http://pandas.pydata.org/pandas-docs/stable/indexing.html#indexing-view-versus-copy\n",
      "  observedData['index'] = range(len(observedData))\n"
     ]
    }
   ],
   "source": [
    "sc.update_complete(user)"
   ]
  },
  {
   "cell_type": "code",
   "execution_count": 3,
   "metadata": {},
   "outputs": [
    {
     "data": {
      "text/html": [
       "<div>\n",
       "<style scoped>\n",
       "    .dataframe tbody tr th:only-of-type {\n",
       "        vertical-align: middle;\n",
       "    }\n",
       "\n",
       "    .dataframe tbody tr th {\n",
       "        vertical-align: top;\n",
       "    }\n",
       "\n",
       "    .dataframe thead th {\n",
       "        text-align: right;\n",
       "    }\n",
       "</style>\n",
       "<table border=\"1\" class=\"dataframe\">\n",
       "  <thead>\n",
       "    <tr style=\"text-align: right;\">\n",
       "      <th></th>\n",
       "      <th>Unnamed: 0</th>\n",
       "      <th>Unnamed: 0.1</th>\n",
       "      <th>mean.vm</th>\n",
       "      <th>sd.vm</th>\n",
       "      <th>mean.ang</th>\n",
       "      <th>sd.ang</th>\n",
       "      <th>p625</th>\n",
       "      <th>dfreq</th>\n",
       "      <th>ratio.df</th>\n",
       "      <th>start.time</th>\n",
       "      <th>index</th>\n",
       "      <th>coding</th>\n",
       "      <th>type</th>\n",
       "    </tr>\n",
       "  </thead>\n",
       "  <tbody>\n",
       "    <tr>\n",
       "      <th>0</th>\n",
       "      <td>0</td>\n",
       "      <td>368941</td>\n",
       "      <td>1.025459</td>\n",
       "      <td>0.052283</td>\n",
       "      <td>-13.663296</td>\n",
       "      <td>3.477743</td>\n",
       "      <td>0.072835</td>\n",
       "      <td>12.307692</td>\n",
       "      <td>0.072342</td>\n",
       "      <td>2017-10-06 16:44:00</td>\n",
       "      <td>0</td>\n",
       "      <td>non-sedentary</td>\n",
       "      <td>H-1</td>\n",
       "    </tr>\n",
       "    <tr>\n",
       "      <th>1</th>\n",
       "      <td>1</td>\n",
       "      <td>368942</td>\n",
       "      <td>1.019744</td>\n",
       "      <td>0.028089</td>\n",
       "      <td>-16.673945</td>\n",
       "      <td>2.361258</td>\n",
       "      <td>0.059919</td>\n",
       "      <td>9.230769</td>\n",
       "      <td>0.095085</td>\n",
       "      <td>2017-10-06 16:44:01</td>\n",
       "      <td>1</td>\n",
       "      <td>non-sedentary</td>\n",
       "      <td>H-1</td>\n",
       "    </tr>\n",
       "    <tr>\n",
       "      <th>2</th>\n",
       "      <td>2</td>\n",
       "      <td>368943</td>\n",
       "      <td>1.027147</td>\n",
       "      <td>0.026020</td>\n",
       "      <td>-6.451596</td>\n",
       "      <td>5.413729</td>\n",
       "      <td>0.216824</td>\n",
       "      <td>2.051282</td>\n",
       "      <td>0.179074</td>\n",
       "      <td>2017-10-06 16:44:02</td>\n",
       "      <td>2</td>\n",
       "      <td>non-sedentary</td>\n",
       "      <td>H-1</td>\n",
       "    </tr>\n",
       "    <tr>\n",
       "      <th>3</th>\n",
       "      <td>3</td>\n",
       "      <td>368944</td>\n",
       "      <td>1.049957</td>\n",
       "      <td>0.119535</td>\n",
       "      <td>-21.404693</td>\n",
       "      <td>23.206850</td>\n",
       "      <td>0.299554</td>\n",
       "      <td>2.051282</td>\n",
       "      <td>0.172340</td>\n",
       "      <td>2017-10-06 16:44:03</td>\n",
       "      <td>3</td>\n",
       "      <td>non-sedentary</td>\n",
       "      <td>H-1</td>\n",
       "    </tr>\n",
       "    <tr>\n",
       "      <th>4</th>\n",
       "      <td>4</td>\n",
       "      <td>368945</td>\n",
       "      <td>1.028554</td>\n",
       "      <td>0.049378</td>\n",
       "      <td>-69.353741</td>\n",
       "      <td>1.962348</td>\n",
       "      <td>0.130182</td>\n",
       "      <td>4.102564</td>\n",
       "      <td>0.067698</td>\n",
       "      <td>2017-10-06 16:44:04</td>\n",
       "      <td>4</td>\n",
       "      <td>non-sedentary</td>\n",
       "      <td>H-1</td>\n",
       "    </tr>\n",
       "  </tbody>\n",
       "</table>\n",
       "</div>"
      ],
      "text/plain": [
       "   Unnamed: 0  Unnamed: 0.1   mean.vm     sd.vm   mean.ang     sd.ang  \\\n",
       "0           0        368941  1.025459  0.052283 -13.663296   3.477743   \n",
       "1           1        368942  1.019744  0.028089 -16.673945   2.361258   \n",
       "2           2        368943  1.027147  0.026020  -6.451596   5.413729   \n",
       "3           3        368944  1.049957  0.119535 -21.404693  23.206850   \n",
       "4           4        368945  1.028554  0.049378 -69.353741   1.962348   \n",
       "\n",
       "       p625      dfreq  ratio.df           start.time  index         coding  \\\n",
       "0  0.072835  12.307692  0.072342  2017-10-06 16:44:00      0  non-sedentary   \n",
       "1  0.059919   9.230769  0.095085  2017-10-06 16:44:01      1  non-sedentary   \n",
       "2  0.216824   2.051282  0.179074  2017-10-06 16:44:02      2  non-sedentary   \n",
       "3  0.299554   2.051282  0.172340  2017-10-06 16:44:03      3  non-sedentary   \n",
       "4  0.130182   4.102564  0.067698  2017-10-06 16:44:04      4  non-sedentary   \n",
       "\n",
       "  type  \n",
       "0  H-1  \n",
       "1  H-1  \n",
       "2  H-1  \n",
       "3  H-1  \n",
       "4  H-1  "
      ]
     },
     "execution_count": 3,
     "metadata": {},
     "output_type": "execute_result"
    }
   ],
   "source": [
    "data = pd.DataFrame(sc.get_complete(user))\n",
    "data.head()"
   ]
  },
  {
   "cell_type": "code",
   "execution_count": 5,
   "metadata": {},
   "outputs": [
    {
     "data": {
      "text/plain": [
       "(28807, 13)"
      ]
     },
     "execution_count": 5,
     "metadata": {},
     "output_type": "execute_result"
    }
   ],
   "source": [
    "data.shape"
   ]
  }
 ],
 "metadata": {
  "kernelspec": {
   "display_name": "Python 3",
   "language": "python",
   "name": "python3"
  },
  "language_info": {
   "codemirror_mode": {
    "name": "ipython",
    "version": 3
   },
   "file_extension": ".py",
   "mimetype": "text/x-python",
   "name": "python",
   "nbconvert_exporter": "python",
   "pygments_lexer": "ipython3",
   "version": "3.6.4"
  }
 },
 "nbformat": 4,
 "nbformat_minor": 2
}
