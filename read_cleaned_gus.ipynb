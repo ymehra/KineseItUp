{
 "cells": [
  {
   "cell_type": "code",
   "execution_count": 1,
   "metadata": {},
   "outputs": [],
   "source": [
    "import pandas as pd\n",
    "import json\n",
    "import sklearn.svm as svm\n",
    "import numpy as np"
   ]
  },
  {
   "cell_type": "code",
   "execution_count": 54,
   "metadata": {},
   "outputs": [],
   "source": [
    "## Change the name to get your path\n",
    "user = 'Gus'\n",
    "file1 = 'AG01-01.csv'\n",
    "file2 = 'GTH01-01.csv'"
   ]
  },
  {
   "cell_type": "code",
   "execution_count": 55,
   "metadata": {},
   "outputs": [],
   "source": [
    "def load_Data(user, filename):\n",
    "   data = json.load(open('dir.json'))\n",
    "   dir = data[user] + filename\n",
    "#    data = pd.read_csv(dir, header=2)\n",
    "   return dir"
   ]
  },
  {
   "cell_type": "code",
   "execution_count": 148,
   "metadata": {},
   "outputs": [
    {
     "name": "stderr",
     "output_type": "stream",
     "text": [
      "/Users/gusmoir/anaconda3/lib/python3.6/site-packages/ipykernel_launcher.py:6: SettingWithCopyWarning: \n",
      "A value is trying to be set on a copy of a slice from a DataFrame.\n",
      "Try using .loc[row_indexer,col_indexer] = value instead\n",
      "\n",
      "See the caveats in the documentation: http://pandas.pydata.org/pandas-docs/stable/indexing.html#indexing-view-versus-copy\n",
      "  \n"
     ]
    }
   ],
   "source": [
    "data = pd.read_csv(load_Data(user, file1), header=0)\n",
    "data['start.time'] = pd.to_datetime(data['start.time'])\n",
    "data['Class'] = np.random.randint(2, size=len(data))\n",
    "## selecting the times when the ground truth was observed\n",
    "observedData = data[(data['start.time'] >= '2017-10-03 18:45:00') & (data['start.time'] <= '2017-10-03 20:47:00')]\n",
    "observedData['index'] = range(len(observedData))"
   ]
  },
  {
   "cell_type": "code",
   "execution_count": 149,
   "metadata": {},
   "outputs": [],
   "source": [
    "gt = pd.read_csv(load_Data(user, file2), header=0)\n",
    "gt['index'] = gt['time']\n",
    "# gt.head()"
   ]
  },
  {
   "cell_type": "code",
   "execution_count": 150,
   "metadata": {},
   "outputs": [],
   "source": [
    "observedData = pd.merge(observedData,gt[['index','coding']])"
   ]
  },
  {
   "cell_type": "code",
   "execution_count": null,
   "metadata": {},
   "outputs": [],
   "source": []
  },
  {
   "cell_type": "code",
   "execution_count": 157,
   "metadata": {},
   "outputs": [],
   "source": [
    "test = observedData[6000:]\n",
    "train = observedData[:6000]\n",
    "## this might be an issue since there is ordinality and that makes things weird.  The later parts of this trial\n",
    "## were more likely to be sedentary.\n",
    "X = train[['mean.vm','sd.vm','mean.ang','sd.ang','p625','dfreq','ratio.df']]\n",
    "y = train['coding']"
   ]
  },
  {
   "cell_type": "code",
   "execution_count": 158,
   "metadata": {},
   "outputs": [
    {
     "data": {
      "text/plain": [
       "SVC(C=1.0, cache_size=7000, class_weight=None, coef0=0.0,\n",
       "  decision_function_shape='ovr', degree=3, gamma='auto', kernel='rbf',\n",
       "  max_iter=-1, probability=False, random_state=None, shrinking=True,\n",
       "  tol=0.001, verbose=False)"
      ]
     },
     "execution_count": 158,
     "metadata": {},
     "output_type": "execute_result"
    }
   ],
   "source": [
    "clf = svm.SVC(cache_size=7000)\n",
    "clf.fit(X, y)"
   ]
  },
  {
   "cell_type": "code",
   "execution_count": 159,
   "metadata": {},
   "outputs": [
    {
     "data": {
      "text/plain": [
       "array(['non-sedentary', 'non-sedentary'], dtype=object)"
      ]
     },
     "execution_count": 159,
     "metadata": {},
     "output_type": "execute_result"
    }
   ],
   "source": [
    "clf.predict([[1,.0004,1,1,1,9,1],[.5,.002,.1,3,1,.5,1]])"
   ]
  },
  {
   "cell_type": "code",
   "execution_count": 160,
   "metadata": {},
   "outputs": [],
   "source": [
    "X = test[['mean.vm','sd.vm','mean.ang','sd.ang','p625','dfreq','ratio.df']]\n",
    "y = test['coding']"
   ]
  },
  {
   "cell_type": "code",
   "execution_count": 161,
   "metadata": {},
   "outputs": [
    {
     "data": {
      "text/plain": [
       "0.31225296442687744"
      ]
     },
     "execution_count": 161,
     "metadata": {},
     "output_type": "execute_result"
    }
   ],
   "source": [
    "## get accuracy of the svm\n",
    "clf.score(X,y)"
   ]
  },
  {
   "cell_type": "code",
   "execution_count": 146,
   "metadata": {},
   "outputs": [
    {
     "name": "stdout",
     "output_type": "stream",
     "text": [
      " Predicted  sedentary \n",
      " Actual  non-sedentary\n"
     ]
    }
   ],
   "source": [
    "loc = 3\n",
    "a = [test.iloc[loc][\"mean.vm\"],test.iloc[loc][\"sd.vm\"],test.iloc[loc][\"mean.ang\"],test.iloc[loc][\"sd.ang\"],test.iloc[loc][\"p625\"],test.iloc[loc][\"dfreq\"],test.iloc[loc][\"ratio.df\"]]\n",
    "print(\" Predicted \", clf.predict([a])[0],'\\n',\"Actual \",test.iloc[loc][\"coding\"])"
   ]
  },
  {
   "cell_type": "code",
   "execution_count": 12,
   "metadata": {},
   "outputs": [
    {
     "data": {
      "text/html": [
       "<div>\n",
       "<style scoped>\n",
       "    .dataframe tbody tr th:only-of-type {\n",
       "        vertical-align: middle;\n",
       "    }\n",
       "\n",
       "    .dataframe tbody tr th {\n",
       "        vertical-align: top;\n",
       "    }\n",
       "\n",
       "    .dataframe thead th {\n",
       "        text-align: right;\n",
       "    }\n",
       "</style>\n",
       "<table border=\"1\" class=\"dataframe\">\n",
       "  <thead>\n",
       "    <tr style=\"text-align: right;\">\n",
       "      <th></th>\n",
       "      <th>index</th>\n",
       "      <th>mean.vm</th>\n",
       "      <th>sd.vm</th>\n",
       "      <th>mean.ang</th>\n",
       "      <th>sd.ang</th>\n",
       "      <th>p625</th>\n",
       "      <th>dfreq</th>\n",
       "      <th>ratio.df</th>\n",
       "      <th>start.time</th>\n",
       "      <th>Class</th>\n",
       "      <th>coding</th>\n",
       "    </tr>\n",
       "  </thead>\n",
       "  <tbody>\n",
       "    <tr>\n",
       "      <th>0</th>\n",
       "      <td>0</td>\n",
       "      <td>0.987755</td>\n",
       "      <td>0.005804</td>\n",
       "      <td>-23.779800</td>\n",
       "      <td>0.654577</td>\n",
       "      <td>0.165556</td>\n",
       "      <td>2.051282</td>\n",
       "      <td>0.141226</td>\n",
       "      <td>2017-10-03 18:45:00</td>\n",
       "      <td>0</td>\n",
       "      <td>non-sedentary</td>\n",
       "    </tr>\n",
       "    <tr>\n",
       "      <th>1</th>\n",
       "      <td>1</td>\n",
       "      <td>0.985573</td>\n",
       "      <td>0.004706</td>\n",
       "      <td>-23.380848</td>\n",
       "      <td>0.455990</td>\n",
       "      <td>0.122440</td>\n",
       "      <td>1.025641</td>\n",
       "      <td>0.106751</td>\n",
       "      <td>2017-10-03 18:45:00</td>\n",
       "      <td>1</td>\n",
       "      <td>non-sedentary</td>\n",
       "    </tr>\n",
       "    <tr>\n",
       "      <th>2</th>\n",
       "      <td>2</td>\n",
       "      <td>1.011537</td>\n",
       "      <td>0.111933</td>\n",
       "      <td>-23.051432</td>\n",
       "      <td>8.022191</td>\n",
       "      <td>0.110025</td>\n",
       "      <td>4.102564</td>\n",
       "      <td>0.081356</td>\n",
       "      <td>2017-10-03 18:45:00</td>\n",
       "      <td>1</td>\n",
       "      <td>non-sedentary</td>\n",
       "    </tr>\n",
       "    <tr>\n",
       "      <th>3</th>\n",
       "      <td>3</td>\n",
       "      <td>0.992961</td>\n",
       "      <td>0.141553</td>\n",
       "      <td>-24.960066</td>\n",
       "      <td>7.597464</td>\n",
       "      <td>0.137500</td>\n",
       "      <td>2.051282</td>\n",
       "      <td>0.095910</td>\n",
       "      <td>2017-10-03 18:45:00</td>\n",
       "      <td>0</td>\n",
       "      <td>non-sedentary</td>\n",
       "    </tr>\n",
       "    <tr>\n",
       "      <th>4</th>\n",
       "      <td>4</td>\n",
       "      <td>0.995071</td>\n",
       "      <td>0.035139</td>\n",
       "      <td>-23.534394</td>\n",
       "      <td>2.397515</td>\n",
       "      <td>0.281809</td>\n",
       "      <td>1.025641</td>\n",
       "      <td>0.178779</td>\n",
       "      <td>2017-10-03 18:45:00</td>\n",
       "      <td>1</td>\n",
       "      <td>non-sedentary</td>\n",
       "    </tr>\n",
       "    <tr>\n",
       "      <th>5</th>\n",
       "      <td>5</td>\n",
       "      <td>0.995704</td>\n",
       "      <td>0.019732</td>\n",
       "      <td>-24.957561</td>\n",
       "      <td>1.152612</td>\n",
       "      <td>0.174133</td>\n",
       "      <td>2.051282</td>\n",
       "      <td>0.106816</td>\n",
       "      <td>2017-10-03 18:45:00</td>\n",
       "      <td>1</td>\n",
       "      <td>non-sedentary</td>\n",
       "    </tr>\n",
       "    <tr>\n",
       "      <th>6</th>\n",
       "      <td>6</td>\n",
       "      <td>1.092518</td>\n",
       "      <td>0.515226</td>\n",
       "      <td>-22.976681</td>\n",
       "      <td>11.143662</td>\n",
       "      <td>0.126769</td>\n",
       "      <td>3.076923</td>\n",
       "      <td>0.081500</td>\n",
       "      <td>2017-10-03 18:45:00</td>\n",
       "      <td>0</td>\n",
       "      <td>non-sedentary</td>\n",
       "    </tr>\n",
       "    <tr>\n",
       "      <th>7</th>\n",
       "      <td>7</td>\n",
       "      <td>1.001879</td>\n",
       "      <td>0.124899</td>\n",
       "      <td>-45.539832</td>\n",
       "      <td>19.231341</td>\n",
       "      <td>0.359780</td>\n",
       "      <td>2.051282</td>\n",
       "      <td>0.234417</td>\n",
       "      <td>2017-10-03 18:45:00</td>\n",
       "      <td>1</td>\n",
       "      <td>non-sedentary</td>\n",
       "    </tr>\n",
       "    <tr>\n",
       "      <th>8</th>\n",
       "      <td>8</td>\n",
       "      <td>1.233121</td>\n",
       "      <td>0.513984</td>\n",
       "      <td>-41.604872</td>\n",
       "      <td>21.224018</td>\n",
       "      <td>0.315810</td>\n",
       "      <td>2.051282</td>\n",
       "      <td>0.177017</td>\n",
       "      <td>2017-10-03 18:45:00</td>\n",
       "      <td>0</td>\n",
       "      <td>non-sedentary</td>\n",
       "    </tr>\n",
       "    <tr>\n",
       "      <th>9</th>\n",
       "      <td>9</td>\n",
       "      <td>0.982744</td>\n",
       "      <td>0.113845</td>\n",
       "      <td>-25.492668</td>\n",
       "      <td>11.009674</td>\n",
       "      <td>0.120192</td>\n",
       "      <td>2.051282</td>\n",
       "      <td>0.111920</td>\n",
       "      <td>2017-10-03 18:45:00</td>\n",
       "      <td>0</td>\n",
       "      <td>non-sedentary</td>\n",
       "    </tr>\n",
       "  </tbody>\n",
       "</table>\n",
       "</div>"
      ],
      "text/plain": [
       "   index   mean.vm     sd.vm   mean.ang     sd.ang      p625     dfreq  \\\n",
       "0      0  0.987755  0.005804 -23.779800   0.654577  0.165556  2.051282   \n",
       "1      1  0.985573  0.004706 -23.380848   0.455990  0.122440  1.025641   \n",
       "2      2  1.011537  0.111933 -23.051432   8.022191  0.110025  4.102564   \n",
       "3      3  0.992961  0.141553 -24.960066   7.597464  0.137500  2.051282   \n",
       "4      4  0.995071  0.035139 -23.534394   2.397515  0.281809  1.025641   \n",
       "5      5  0.995704  0.019732 -24.957561   1.152612  0.174133  2.051282   \n",
       "6      6  1.092518  0.515226 -22.976681  11.143662  0.126769  3.076923   \n",
       "7      7  1.001879  0.124899 -45.539832  19.231341  0.359780  2.051282   \n",
       "8      8  1.233121  0.513984 -41.604872  21.224018  0.315810  2.051282   \n",
       "9      9  0.982744  0.113845 -25.492668  11.009674  0.120192  2.051282   \n",
       "\n",
       "   ratio.df          start.time  Class         coding  \n",
       "0  0.141226 2017-10-03 18:45:00      0  non-sedentary  \n",
       "1  0.106751 2017-10-03 18:45:00      1  non-sedentary  \n",
       "2  0.081356 2017-10-03 18:45:00      1  non-sedentary  \n",
       "3  0.095910 2017-10-03 18:45:00      0  non-sedentary  \n",
       "4  0.178779 2017-10-03 18:45:00      1  non-sedentary  \n",
       "5  0.106816 2017-10-03 18:45:00      1  non-sedentary  \n",
       "6  0.081500 2017-10-03 18:45:00      0  non-sedentary  \n",
       "7  0.234417 2017-10-03 18:45:00      1  non-sedentary  \n",
       "8  0.177017 2017-10-03 18:45:00      0  non-sedentary  \n",
       "9  0.111920 2017-10-03 18:45:00      0  non-sedentary  "
      ]
     },
     "execution_count": 12,
     "metadata": {},
     "output_type": "execute_result"
    }
   ],
   "source": [
    "observedData.head(10)\n"
   ]
  },
  {
   "cell_type": "code",
   "execution_count": null,
   "metadata": {
    "collapsed": true
   },
   "outputs": [],
   "source": []
  },
  {
   "cell_type": "code",
   "execution_count": 92,
   "metadata": {
    "collapsed": true
   },
   "outputs": [],
   "source": [
    "## what if we tried a neural net for fun?\n",
    "from sklearn.neural_network import MLPClassifier\n",
    "n_net = MLPClassifier(solver='lbfgs', alpha=1e-5,hidden_layer_sizes=(2000, 1000), random_state=1)\n",
    "n_net.fit(X,y)"
   ]
  },
  {
   "cell_type": "code",
   "execution_count": 93,
   "metadata": {},
   "outputs": [
    {
     "data": {
      "text/plain": [
       "MLPClassifier(activation='relu', alpha=1e-05, batch_size='auto', beta_1=0.9,\n",
       "       beta_2=0.999, early_stopping=False, epsilon=1e-08,\n",
       "       hidden_layer_sizes=(2000, 1000), learning_rate='constant',\n",
       "       learning_rate_init=0.001, max_iter=200, momentum=0.9,\n",
       "       nesterovs_momentum=True, power_t=0.5, random_state=1, shuffle=True,\n",
       "       solver='lbfgs', tol=0.0001, validation_fraction=0.1, verbose=False,\n",
       "       warm_start=False)"
      ]
     },
     "execution_count": 93,
     "metadata": {},
     "output_type": "execute_result"
    }
   ],
   "source": [
    "n_net.fit(X,y)"
   ]
  },
  {
   "cell_type": "code",
   "execution_count": 94,
   "metadata": {},
   "outputs": [
    {
     "data": {
      "text/plain": [
       "0.6799338934031125"
      ]
     },
     "execution_count": 94,
     "metadata": {},
     "output_type": "execute_result"
    }
   ],
   "source": [
    "## test accuracy of neural net\n",
    "np.sum(n_net.predict(X) == y) / len(X)"
   ]
  },
  {
   "cell_type": "code",
   "execution_count": null,
   "metadata": {
    "collapsed": true
   },
   "outputs": [],
   "source": []
  }
 ],
 "metadata": {
  "kernelspec": {
   "display_name": "Python 3",
   "language": "python",
   "name": "python3"
  },
  "language_info": {
   "codemirror_mode": {
    "name": "ipython",
    "version": 3
   },
   "file_extension": ".py",
   "mimetype": "text/x-python",
   "name": "python",
   "nbconvert_exporter": "python",
   "pygments_lexer": "ipython3",
   "version": "3.6.4"
  }
 },
 "nbformat": 4,
 "nbformat_minor": 2
}
