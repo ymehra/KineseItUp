{
 "cells": [
  {
   "cell_type": "code",
   "execution_count": 1,
   "metadata": {},
   "outputs": [],
   "source": [
    "import script as sc\n",
    "import pandas as pd\n",
    "import datetime as dt\n",
    "from datetime import timedelta\n",
    "import numpy as np\n",
    "user = 'Yash'"
   ]
  },
  {
   "cell_type": "code",
   "execution_count": 50,
   "metadata": {},
   "outputs": [
    {
     "name": "stderr",
     "output_type": "stream",
     "text": [
      "/Users/yashmehra/Google Drive/DATA 451/KineseItUp/script.py:23: SettingWithCopyWarning: \n",
      "A value is trying to be set on a copy of a slice from a DataFrame.\n",
      "Try using .loc[row_indexer,col_indexer] = value instead\n",
      "\n",
      "See the caveats in the documentation: http://pandas.pydata.org/pandas-docs/stable/indexing.html#indexing-view-versus-copy\n",
      "  observedData['index'] = range(len(observedData))\n"
     ]
    }
   ],
   "source": [
    "sc.update_complete(user)"
   ]
  },
  {
   "cell_type": "code",
   "execution_count": 51,
   "metadata": {},
   "outputs": [
    {
     "data": {
      "text/html": [
       "<div>\n",
       "<style scoped>\n",
       "    .dataframe tbody tr th:only-of-type {\n",
       "        vertical-align: middle;\n",
       "    }\n",
       "\n",
       "    .dataframe tbody tr th {\n",
       "        vertical-align: top;\n",
       "    }\n",
       "\n",
       "    .dataframe thead th {\n",
       "        text-align: right;\n",
       "    }\n",
       "</style>\n",
       "<table border=\"1\" class=\"dataframe\">\n",
       "  <thead>\n",
       "    <tr style=\"text-align: right;\">\n",
       "      <th></th>\n",
       "      <th>Unnamed: 0</th>\n",
       "      <th>Unnamed: 0.1</th>\n",
       "      <th>mean.vm</th>\n",
       "      <th>sd.vm</th>\n",
       "      <th>mean.ang</th>\n",
       "      <th>sd.ang</th>\n",
       "      <th>p625</th>\n",
       "      <th>dfreq</th>\n",
       "      <th>ratio.df</th>\n",
       "      <th>start.time</th>\n",
       "      <th>index</th>\n",
       "      <th>activity</th>\n",
       "      <th>coding</th>\n",
       "      <th>type</th>\n",
       "    </tr>\n",
       "  </thead>\n",
       "  <tbody>\n",
       "    <tr>\n",
       "      <th>0</th>\n",
       "      <td>0</td>\n",
       "      <td>368947</td>\n",
       "      <td>1.027036</td>\n",
       "      <td>0.065807</td>\n",
       "      <td>-32.179828</td>\n",
       "      <td>8.090852</td>\n",
       "      <td>0.188766</td>\n",
       "      <td>4.102564</td>\n",
       "      <td>0.126940</td>\n",
       "      <td>2017-10-06 16:44:06</td>\n",
       "      <td>0</td>\n",
       "      <td>active</td>\n",
       "      <td>non-sedentary</td>\n",
       "      <td>H-1</td>\n",
       "    </tr>\n",
       "    <tr>\n",
       "      <th>1</th>\n",
       "      <td>1</td>\n",
       "      <td>368948</td>\n",
       "      <td>1.029727</td>\n",
       "      <td>0.136367</td>\n",
       "      <td>-32.955579</td>\n",
       "      <td>8.908046</td>\n",
       "      <td>0.222211</td>\n",
       "      <td>3.076923</td>\n",
       "      <td>0.174922</td>\n",
       "      <td>2017-10-06 16:44:07</td>\n",
       "      <td>1</td>\n",
       "      <td>active</td>\n",
       "      <td>non-sedentary</td>\n",
       "      <td>H-1</td>\n",
       "    </tr>\n",
       "    <tr>\n",
       "      <th>2</th>\n",
       "      <td>2</td>\n",
       "      <td>368949</td>\n",
       "      <td>1.003435</td>\n",
       "      <td>0.056664</td>\n",
       "      <td>-47.568056</td>\n",
       "      <td>6.244429</td>\n",
       "      <td>0.235925</td>\n",
       "      <td>3.076923</td>\n",
       "      <td>0.245706</td>\n",
       "      <td>2017-10-06 16:44:08</td>\n",
       "      <td>2</td>\n",
       "      <td>active</td>\n",
       "      <td>non-sedentary</td>\n",
       "      <td>H-1</td>\n",
       "    </tr>\n",
       "    <tr>\n",
       "      <th>3</th>\n",
       "      <td>3</td>\n",
       "      <td>368950</td>\n",
       "      <td>1.020198</td>\n",
       "      <td>0.070674</td>\n",
       "      <td>-54.486552</td>\n",
       "      <td>4.062847</td>\n",
       "      <td>0.479812</td>\n",
       "      <td>2.051282</td>\n",
       "      <td>0.241239</td>\n",
       "      <td>2017-10-06 16:44:09</td>\n",
       "      <td>3</td>\n",
       "      <td>active</td>\n",
       "      <td>non-sedentary</td>\n",
       "      <td>H-1</td>\n",
       "    </tr>\n",
       "    <tr>\n",
       "      <th>4</th>\n",
       "      <td>4</td>\n",
       "      <td>368951</td>\n",
       "      <td>1.003209</td>\n",
       "      <td>0.031647</td>\n",
       "      <td>-52.630436</td>\n",
       "      <td>2.084940</td>\n",
       "      <td>0.443848</td>\n",
       "      <td>2.051282</td>\n",
       "      <td>0.291673</td>\n",
       "      <td>2017-10-06 16:44:10</td>\n",
       "      <td>4</td>\n",
       "      <td>active</td>\n",
       "      <td>non-sedentary</td>\n",
       "      <td>H-1</td>\n",
       "    </tr>\n",
       "  </tbody>\n",
       "</table>\n",
       "</div>"
      ],
      "text/plain": [
       "   Unnamed: 0  Unnamed: 0.1   mean.vm     sd.vm   mean.ang    sd.ang  \\\n",
       "0           0        368947  1.027036  0.065807 -32.179828  8.090852   \n",
       "1           1        368948  1.029727  0.136367 -32.955579  8.908046   \n",
       "2           2        368949  1.003435  0.056664 -47.568056  6.244429   \n",
       "3           3        368950  1.020198  0.070674 -54.486552  4.062847   \n",
       "4           4        368951  1.003209  0.031647 -52.630436  2.084940   \n",
       "\n",
       "       p625     dfreq  ratio.df           start.time  index activity  \\\n",
       "0  0.188766  4.102564  0.126940  2017-10-06 16:44:06      0   active   \n",
       "1  0.222211  3.076923  0.174922  2017-10-06 16:44:07      1   active   \n",
       "2  0.235925  3.076923  0.245706  2017-10-06 16:44:08      2   active   \n",
       "3  0.479812  2.051282  0.241239  2017-10-06 16:44:09      3   active   \n",
       "4  0.443848  2.051282  0.291673  2017-10-06 16:44:10      4   active   \n",
       "\n",
       "          coding type  \n",
       "0  non-sedentary  H-1  \n",
       "1  non-sedentary  H-1  \n",
       "2  non-sedentary  H-1  \n",
       "3  non-sedentary  H-1  \n",
       "4  non-sedentary  H-1  "
      ]
     },
     "execution_count": 51,
     "metadata": {},
     "output_type": "execute_result"
    }
   ],
   "source": [
    "data = pd.DataFrame(sc.get_complete(user))\n",
    "data.head()"
   ]
  },
  {
   "cell_type": "code",
   "execution_count": 52,
   "metadata": {},
   "outputs": [
    {
     "data": {
      "text/plain": [
       "(114227, 14)"
      ]
     },
     "execution_count": 52,
     "metadata": {},
     "output_type": "execute_result"
    }
   ],
   "source": [
    "data.shape"
   ]
  },
  {
   "cell_type": "code",
   "execution_count": 53,
   "metadata": {},
   "outputs": [
    {
     "data": {
      "text/plain": [
       "active                              63856\n",
       "sitting still                       22444\n",
       "sitting and typing                  13311\n",
       "sitting with upper body movement     8550\n",
       "lying                                5639\n",
       "kneeling                              427\n",
       "Name: activity, dtype: int64"
      ]
     },
     "execution_count": 53,
     "metadata": {},
     "output_type": "execute_result"
    }
   ],
   "source": [
    "data['activity'].value_counts()"
   ]
  },
  {
   "cell_type": "code",
   "execution_count": 83,
   "metadata": {},
   "outputs": [
    {
     "data": {
      "text/plain": [
       "L-1     7321\n",
       "E-8     7300\n",
       "W-4     7244\n",
       "A-6     7242\n",
       "E-6     7241\n",
       "H-2     7202\n",
       "A-4     7202\n",
       "E-14    7201\n",
       "H-3     7139\n",
       "L-3     7128\n",
       "H-7     7119\n",
       "H-1     7117\n",
       "W-13    7111\n",
       "E-7     7107\n",
       "L-5     7107\n",
       "A-8     7102\n",
       "L-11    7053\n",
       "W-9     6554\n",
       "A-2     3061\n",
       "Name: type, dtype: int64"
      ]
     },
     "execution_count": 83,
     "metadata": {},
     "output_type": "execute_result"
    }
   ],
   "source": [
    "data['type'].value_counts()"
   ]
  },
  {
   "cell_type": "code",
   "execution_count": 2,
   "metadata": {},
   "outputs": [
    {
     "data": {
      "text/plain": [
       "{'AG': 'AG01-01.csv',\n",
       " 'EndTime1': '2017-10-06 18:45:06',\n",
       " 'EndTime2': '2017-10-03 20:47:15',\n",
       " 'GT1': 'GTH01-01.csv',\n",
       " 'GT2': 'GTL01-02.csv',\n",
       " 'Raw': 'AG_AM01WRT (2017-10-02)RAW.csv',\n",
       " 'StartTime1': '2017-10-06 16:44:06',\n",
       " 'StartTime2': '2017-10-03 18:45:15',\n",
       " 'WIDE': 'WIDE-01-01.csv',\n",
       " 'skiplines1': '29515680',\n",
       " 'skiplines2': '9946800'}"
      ]
     },
     "execution_count": 2,
     "metadata": {},
     "output_type": "execute_result"
    }
   ],
   "source": [
    "struct = sc.load_struct()\n",
    "struct['1']"
   ]
  },
  {
   "cell_type": "code",
   "execution_count": 8,
   "metadata": {},
   "outputs": [],
   "source": [
    "wide1 = pd.read_csv(sc.load_Data(\"AGG-Yash\", \"Wide01-01H.csv\"))\n",
    "gt1 = pd.read_csv(sc.load_Data(user, struct['1']['GT1']))\n",
    "ag = pd.read_csv(sc.load_Data(user, struct['1']['AG']))"
   ]
  },
  {
   "cell_type": "code",
   "execution_count": 9,
   "metadata": {},
   "outputs": [
    {
     "data": {
      "text/plain": [
       "('2017-10-06 16:44:06', '2017-10-06 18:45:06')"
      ]
     },
     "execution_count": 9,
     "metadata": {},
     "output_type": "execute_result"
    }
   ],
   "source": [
    "startTime1 = struct['1']['StartTime1']\n",
    "endTime1 = struct['1']['EndTime1']\n",
    "startTime1, endTime1"
   ]
  },
  {
   "cell_type": "code",
   "execution_count": 10,
   "metadata": {},
   "outputs": [],
   "source": [
    "wide1 = wide1[wide1.X1 <= endTime1]\n",
    "wide1 = wide1[wide1.X1 >= startTime1]\n",
    "ag = ag[ag['start.time'] >= startTime1]\n",
    "ag = ag[ag['start.time'] <= endTime1]"
   ]
  },
  {
   "cell_type": "code",
   "execution_count": 11,
   "metadata": {},
   "outputs": [
    {
     "data": {
      "text/plain": [
       "(7194, 7265, 7261)"
      ]
     },
     "execution_count": 11,
     "metadata": {},
     "output_type": "execute_result"
    }
   ],
   "source": [
    "len(wide1), len(gt1), len(ag)"
   ]
  },
  {
   "cell_type": "code",
   "execution_count": 65,
   "metadata": {},
   "outputs": [],
   "source": [
    "raw = pd.read_csv(sc.load_Data('fun', 'AG_AM01WRT (2017-10-02)RAW.csv'), skiprows=10, header=0)"
   ]
  },
  {
   "cell_type": "code",
   "execution_count": 19,
   "metadata": {},
   "outputs": [],
   "source": [
    "raw_startTime = '2017-10-02 10:15:00'"
   ]
  },
  {
   "cell_type": "code",
   "execution_count": 27,
   "metadata": {},
   "outputs": [
    {
     "data": {
      "text/plain": [
       "('2017-10-02 10:15:00', '2017-10-06 16:44:06')"
      ]
     },
     "execution_count": 27,
     "metadata": {},
     "output_type": "execute_result"
    }
   ],
   "source": [
    "raw_startTime, startTime1"
   ]
  },
  {
   "cell_type": "code",
   "execution_count": 91,
   "metadata": {},
   "outputs": [],
   "source": [
    "skiplines = 368946*80 \n",
    "num_lines = 7265 * 80"
   ]
  },
  {
   "cell_type": "code",
   "execution_count": 72,
   "metadata": {},
   "outputs": [],
   "source": [
    "raw = raw[raw.index > skiplines - 1]\n",
    "raw = raw[raw.index < skiplines+num_lines]"
   ]
  },
  {
   "cell_type": "code",
   "execution_count": 73,
   "metadata": {},
   "outputs": [
    {
     "data": {
      "text/plain": [
       "(581200, 3)"
      ]
     },
     "execution_count": 73,
     "metadata": {},
     "output_type": "execute_result"
    }
   ],
   "source": [
    "raw.shape"
   ]
  },
  {
   "cell_type": "code",
   "execution_count": 93,
   "metadata": {},
   "outputs": [
    {
     "data": {
      "text/plain": [
       "29515680"
      ]
     },
     "execution_count": 93,
     "metadata": {},
     "output_type": "execute_result"
    }
   ],
   "source": [
    "skiplines"
   ]
  },
  {
   "cell_type": "code",
   "execution_count": 3,
   "metadata": {},
   "outputs": [],
   "source": [
    "def subject_wide(subject, gt_num):\n",
    "    raw = pd.read_csv(sc.load_Data(\"fun\", subject[\"Raw\"]), skiprows=10, header=0)\n",
    "    print(\"Read raw\")\n",
    "    gt = pd.read_csv(sc.load_Data(\"Yash\", subject['GT' + gt_num]))\n",
    "    skiplines = int(subject['skiplines' + gt_num])\n",
    "    num_lines = len(gt)*80\n",
    "    raw = raw[raw.index > skiplines - 1]\n",
    "    raw = raw[raw.index < skiplines+num_lines]\n",
    "    print(\"Subset raw\")\n",
    "    acts = np.repeat(gt['activity'], 80)\n",
    "    raw.reset_index()\n",
    "    if(len(raw) != len(acts)):\n",
    "        print(len(raw), len(acts))\n",
    "        print(\"Houston we have a problem!\")\n",
    "    else:\n",
    "        raw['activity'] = np.asarray(acts)\n",
    "    return raw"
   ]
  },
  {
   "cell_type": "code",
   "execution_count": 4,
   "metadata": {},
   "outputs": [],
   "source": [
    "def complete_wide(struct):\n",
    "    complete = pd.DataFrame()\n",
    "    for i in struct:\n",
    "        print(i, ': 1')\n",
    "        wide = subject_wide(struct[i], '1')\n",
    "        tp = struct[i]['GT1']\n",
    "        tp = tp[2:8]\n",
    "        wide['type'] = tp\n",
    "        complete = pd.concat([complete, wide])   \n",
    "        if('GT2' in struct[i]):\n",
    "            print(i, ': 2')\n",
    "            wide = subject_wide(struct[i], '2')\n",
    "            tp = struct[i]['GT2']\n",
    "            tp = tp[2:8]\n",
    "            wide['type'] = tp\n",
    "            complete = pd.concat([complete, wide])    \n",
    "    return complete"
   ]
  },
  {
   "cell_type": "code",
   "execution_count": 5,
   "metadata": {},
   "outputs": [
    {
     "name": "stdout",
     "output_type": "stream",
     "text": [
      "1 : 1\n",
      "Read raw\n",
      "Subset raw\n",
      "1 : 2\n",
      "Read raw\n",
      "Subset raw\n",
      "3 : 1\n",
      "Read raw\n",
      "Subset raw\n",
      "3 : 2\n",
      "Read raw\n",
      "Subset raw\n",
      "4 : 1\n",
      "Read raw\n",
      "Subset raw\n",
      "4 : 2\n",
      "Read raw\n",
      "Subset raw\n",
      "5 : 1\n",
      "Read raw\n",
      "Subset raw\n",
      "6 : 1\n",
      "Read raw\n",
      "Subset raw\n",
      "6 : 2\n",
      "Read raw\n",
      "Subset raw\n",
      "7 : 1\n",
      "Read raw\n",
      "Subset raw\n",
      "7 : 2\n",
      "Read raw\n",
      "Subset raw\n",
      "8 : 1\n",
      "Read raw\n",
      "Subset raw\n",
      "8 : 2\n",
      "Read raw\n",
      "Subset raw\n",
      "9 : 1\n",
      "Read raw\n",
      "Subset raw\n",
      "13 : 1\n",
      "Read raw\n",
      "Subset raw\n",
      "14 : 1\n",
      "Read raw\n",
      "Subset raw\n"
     ]
    }
   ],
   "source": [
    "data = complete_wide(struct)\n",
    "data.to_csv(sc.load_Data(\"AGG-Yash\", \"updated_wide.csv\"))"
   ]
  },
  {
   "cell_type": "code",
   "execution_count": 43,
   "metadata": {},
   "outputs": [
    {
     "data": {
      "text/html": [
       "<div>\n",
       "<style scoped>\n",
       "    .dataframe tbody tr th:only-of-type {\n",
       "        vertical-align: middle;\n",
       "    }\n",
       "\n",
       "    .dataframe tbody tr th {\n",
       "        vertical-align: top;\n",
       "    }\n",
       "\n",
       "    .dataframe thead th {\n",
       "        text-align: right;\n",
       "    }\n",
       "</style>\n",
       "<table border=\"1\" class=\"dataframe\">\n",
       "  <thead>\n",
       "    <tr style=\"text-align: right;\">\n",
       "      <th></th>\n",
       "      <th>Accelerometer X</th>\n",
       "      <th>Accelerometer Y</th>\n",
       "      <th>Accelerometer Z</th>\n",
       "      <th>activity</th>\n",
       "      <th>type</th>\n",
       "    </tr>\n",
       "  </thead>\n",
       "  <tbody>\n",
       "    <tr>\n",
       "      <th>29515680</th>\n",
       "      <td>-0.605</td>\n",
       "      <td>0.617</td>\n",
       "      <td>0.070</td>\n",
       "      <td>active</td>\n",
       "      <td>H01-01</td>\n",
       "    </tr>\n",
       "    <tr>\n",
       "      <th>29515681</th>\n",
       "      <td>-0.621</td>\n",
       "      <td>0.602</td>\n",
       "      <td>0.023</td>\n",
       "      <td>active</td>\n",
       "      <td>H01-01</td>\n",
       "    </tr>\n",
       "    <tr>\n",
       "      <th>29515682</th>\n",
       "      <td>-0.605</td>\n",
       "      <td>0.590</td>\n",
       "      <td>-0.016</td>\n",
       "      <td>active</td>\n",
       "      <td>H01-01</td>\n",
       "    </tr>\n",
       "    <tr>\n",
       "      <th>29515683</th>\n",
       "      <td>-0.590</td>\n",
       "      <td>0.602</td>\n",
       "      <td>-0.043</td>\n",
       "      <td>active</td>\n",
       "      <td>H01-01</td>\n",
       "    </tr>\n",
       "    <tr>\n",
       "      <th>29515684</th>\n",
       "      <td>-0.594</td>\n",
       "      <td>0.648</td>\n",
       "      <td>-0.047</td>\n",
       "      <td>active</td>\n",
       "      <td>H01-01</td>\n",
       "    </tr>\n",
       "  </tbody>\n",
       "</table>\n",
       "</div>"
      ],
      "text/plain": [
       "          Accelerometer X  Accelerometer Y  Accelerometer Z activity    type\n",
       "29515680           -0.605            0.617            0.070   active  H01-01\n",
       "29515681           -0.621            0.602            0.023   active  H01-01\n",
       "29515682           -0.605            0.590           -0.016   active  H01-01\n",
       "29515683           -0.590            0.602           -0.043   active  H01-01\n",
       "29515684           -0.594            0.648           -0.047   active  H01-01"
      ]
     },
     "execution_count": 43,
     "metadata": {},
     "output_type": "execute_result"
    }
   ],
   "source": [
    "data.head()"
   ]
  },
  {
   "cell_type": "code",
   "execution_count": 49,
   "metadata": {},
   "outputs": [
    {
     "data": {
      "text/plain": [
       "active                              64312.0\n",
       "sitting still                       22966.0\n",
       "sitting and typing                  13337.0\n",
       "sitting with upper body movement     8557.0\n",
       "lying                                5651.0\n",
       "Private / Not Coded                   840.0\n",
       "kneeling                              427.0\n",
       "Name: activity, dtype: float64"
      ]
     },
     "execution_count": 49,
     "metadata": {},
     "output_type": "execute_result"
    }
   ],
   "source": [
    "data['activity'].value_counts()/80"
   ]
  },
  {
   "cell_type": "code",
   "execution_count": 3,
   "metadata": {},
   "outputs": [],
   "source": [
    "wide = pd.read_csv(sc.load_Data(\"AGG-Yash\", \"updated_wide.csv\"))"
   ]
  },
  {
   "cell_type": "code",
   "execution_count": 4,
   "metadata": {},
   "outputs": [
    {
     "data": {
      "text/html": [
       "<div>\n",
       "<style scoped>\n",
       "    .dataframe tbody tr th:only-of-type {\n",
       "        vertical-align: middle;\n",
       "    }\n",
       "\n",
       "    .dataframe tbody tr th {\n",
       "        vertical-align: top;\n",
       "    }\n",
       "\n",
       "    .dataframe thead th {\n",
       "        text-align: right;\n",
       "    }\n",
       "</style>\n",
       "<table border=\"1\" class=\"dataframe\">\n",
       "  <thead>\n",
       "    <tr style=\"text-align: right;\">\n",
       "      <th></th>\n",
       "      <th>Unnamed: 0</th>\n",
       "      <th>Accelerometer X</th>\n",
       "      <th>Accelerometer Y</th>\n",
       "      <th>Accelerometer Z</th>\n",
       "      <th>activity</th>\n",
       "      <th>type</th>\n",
       "    </tr>\n",
       "  </thead>\n",
       "  <tbody>\n",
       "    <tr>\n",
       "      <th>0</th>\n",
       "      <td>29515680</td>\n",
       "      <td>-0.605</td>\n",
       "      <td>0.617</td>\n",
       "      <td>0.070</td>\n",
       "      <td>active</td>\n",
       "      <td>H01-01</td>\n",
       "    </tr>\n",
       "    <tr>\n",
       "      <th>1</th>\n",
       "      <td>29515681</td>\n",
       "      <td>-0.621</td>\n",
       "      <td>0.602</td>\n",
       "      <td>0.023</td>\n",
       "      <td>active</td>\n",
       "      <td>H01-01</td>\n",
       "    </tr>\n",
       "    <tr>\n",
       "      <th>2</th>\n",
       "      <td>29515682</td>\n",
       "      <td>-0.605</td>\n",
       "      <td>0.590</td>\n",
       "      <td>-0.016</td>\n",
       "      <td>active</td>\n",
       "      <td>H01-01</td>\n",
       "    </tr>\n",
       "    <tr>\n",
       "      <th>3</th>\n",
       "      <td>29515683</td>\n",
       "      <td>-0.590</td>\n",
       "      <td>0.602</td>\n",
       "      <td>-0.043</td>\n",
       "      <td>active</td>\n",
       "      <td>H01-01</td>\n",
       "    </tr>\n",
       "    <tr>\n",
       "      <th>4</th>\n",
       "      <td>29515684</td>\n",
       "      <td>-0.594</td>\n",
       "      <td>0.648</td>\n",
       "      <td>-0.047</td>\n",
       "      <td>active</td>\n",
       "      <td>H01-01</td>\n",
       "    </tr>\n",
       "  </tbody>\n",
       "</table>\n",
       "</div>"
      ],
      "text/plain": [
       "   Unnamed: 0  Accelerometer X  Accelerometer Y  Accelerometer Z activity  \\\n",
       "0    29515680           -0.605            0.617            0.070   active   \n",
       "1    29515681           -0.621            0.602            0.023   active   \n",
       "2    29515682           -0.605            0.590           -0.016   active   \n",
       "3    29515683           -0.590            0.602           -0.043   active   \n",
       "4    29515684           -0.594            0.648           -0.047   active   \n",
       "\n",
       "     type  \n",
       "0  H01-01  \n",
       "1  H01-01  \n",
       "2  H01-01  \n",
       "3  H01-01  \n",
       "4  H01-01  "
      ]
     },
     "execution_count": 4,
     "metadata": {},
     "output_type": "execute_result"
    }
   ],
   "source": [
    "wide.head()"
   ]
  },
  {
   "cell_type": "code",
   "execution_count": null,
   "metadata": {},
   "outputs": [],
   "source": []
  }
 ],
 "metadata": {
  "kernelspec": {
   "display_name": "Python 3",
   "language": "python",
   "name": "python3"
  },
  "language_info": {
   "codemirror_mode": {
    "name": "ipython",
    "version": 3
   },
   "file_extension": ".py",
   "mimetype": "text/x-python",
   "name": "python",
   "nbconvert_exporter": "python",
   "pygments_lexer": "ipython3",
   "version": "3.6.4"
  }
 },
 "nbformat": 4,
 "nbformat_minor": 2
}
