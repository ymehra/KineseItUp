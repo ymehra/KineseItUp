{
 "cells": [
  {
   "cell_type": "code",
   "execution_count": 1,
   "metadata": {},
   "outputs": [],
   "source": [
    "import pandas as pd\n",
    "import json\n",
    "import sklearn.svm as svm\n",
    "from sklearn.linear_model import Lasso, LassoCV\n",
    "from sklearn.feature_selection import SelectFromModel\n",
    "import numpy as np\n",
    "from sklearn.neural_network import MLPClassifier\n",
    "import script as sc\n",
    "from sklearn import preprocessing\n",
    "from sklearn.metrics import confusion_matrix\n",
    "from sklearn.metrics import f1_score"
   ]
  },
  {
   "cell_type": "code",
   "execution_count": 2,
   "metadata": {},
   "outputs": [],
   "source": [
    "## Change the name to get your path\n",
    "user = 'Yash'"
   ]
  },
  {
   "cell_type": "markdown",
   "metadata": {},
   "source": [
    "## Build test and train Datasets"
   ]
  },
  {
   "cell_type": "code",
   "execution_count": 3,
   "metadata": {},
   "outputs": [],
   "source": [
    "data = pd.DataFrame(sc.get_complete(user))"
   ]
  },
  {
   "cell_type": "code",
   "execution_count": 4,
   "metadata": {},
   "outputs": [
    {
     "data": {
      "text/html": [
       "<div>\n",
       "<style scoped>\n",
       "    .dataframe tbody tr th:only-of-type {\n",
       "        vertical-align: middle;\n",
       "    }\n",
       "\n",
       "    .dataframe tbody tr th {\n",
       "        vertical-align: top;\n",
       "    }\n",
       "\n",
       "    .dataframe thead th {\n",
       "        text-align: right;\n",
       "    }\n",
       "</style>\n",
       "<table border=\"1\" class=\"dataframe\">\n",
       "  <thead>\n",
       "    <tr style=\"text-align: right;\">\n",
       "      <th></th>\n",
       "      <th>Unnamed: 0</th>\n",
       "      <th>Unnamed: 0.1</th>\n",
       "      <th>mean.vm</th>\n",
       "      <th>sd.vm</th>\n",
       "      <th>mean.ang</th>\n",
       "      <th>sd.ang</th>\n",
       "      <th>p625</th>\n",
       "      <th>dfreq</th>\n",
       "      <th>ratio.df</th>\n",
       "      <th>start.time</th>\n",
       "      <th>index</th>\n",
       "      <th>coding</th>\n",
       "      <th>type</th>\n",
       "    </tr>\n",
       "  </thead>\n",
       "  <tbody>\n",
       "    <tr>\n",
       "      <th>0</th>\n",
       "      <td>0</td>\n",
       "      <td>368941</td>\n",
       "      <td>1.025459</td>\n",
       "      <td>0.052283</td>\n",
       "      <td>-13.663296</td>\n",
       "      <td>3.477743</td>\n",
       "      <td>0.072835</td>\n",
       "      <td>12.307692</td>\n",
       "      <td>0.072342</td>\n",
       "      <td>2017-10-06 16:44:00</td>\n",
       "      <td>0</td>\n",
       "      <td>non-sedentary</td>\n",
       "      <td>H-1</td>\n",
       "    </tr>\n",
       "    <tr>\n",
       "      <th>1</th>\n",
       "      <td>1</td>\n",
       "      <td>368942</td>\n",
       "      <td>1.019744</td>\n",
       "      <td>0.028089</td>\n",
       "      <td>-16.673945</td>\n",
       "      <td>2.361258</td>\n",
       "      <td>0.059919</td>\n",
       "      <td>9.230769</td>\n",
       "      <td>0.095085</td>\n",
       "      <td>2017-10-06 16:44:01</td>\n",
       "      <td>1</td>\n",
       "      <td>non-sedentary</td>\n",
       "      <td>H-1</td>\n",
       "    </tr>\n",
       "    <tr>\n",
       "      <th>2</th>\n",
       "      <td>2</td>\n",
       "      <td>368943</td>\n",
       "      <td>1.027147</td>\n",
       "      <td>0.026020</td>\n",
       "      <td>-6.451596</td>\n",
       "      <td>5.413729</td>\n",
       "      <td>0.216824</td>\n",
       "      <td>2.051282</td>\n",
       "      <td>0.179074</td>\n",
       "      <td>2017-10-06 16:44:02</td>\n",
       "      <td>2</td>\n",
       "      <td>non-sedentary</td>\n",
       "      <td>H-1</td>\n",
       "    </tr>\n",
       "    <tr>\n",
       "      <th>3</th>\n",
       "      <td>3</td>\n",
       "      <td>368944</td>\n",
       "      <td>1.049957</td>\n",
       "      <td>0.119535</td>\n",
       "      <td>-21.404693</td>\n",
       "      <td>23.206850</td>\n",
       "      <td>0.299554</td>\n",
       "      <td>2.051282</td>\n",
       "      <td>0.172340</td>\n",
       "      <td>2017-10-06 16:44:03</td>\n",
       "      <td>3</td>\n",
       "      <td>non-sedentary</td>\n",
       "      <td>H-1</td>\n",
       "    </tr>\n",
       "    <tr>\n",
       "      <th>4</th>\n",
       "      <td>4</td>\n",
       "      <td>368945</td>\n",
       "      <td>1.028554</td>\n",
       "      <td>0.049378</td>\n",
       "      <td>-69.353741</td>\n",
       "      <td>1.962348</td>\n",
       "      <td>0.130182</td>\n",
       "      <td>4.102564</td>\n",
       "      <td>0.067698</td>\n",
       "      <td>2017-10-06 16:44:04</td>\n",
       "      <td>4</td>\n",
       "      <td>non-sedentary</td>\n",
       "      <td>H-1</td>\n",
       "    </tr>\n",
       "  </tbody>\n",
       "</table>\n",
       "</div>"
      ],
      "text/plain": [
       "   Unnamed: 0  Unnamed: 0.1   mean.vm     sd.vm   mean.ang     sd.ang  \\\n",
       "0           0        368941  1.025459  0.052283 -13.663296   3.477743   \n",
       "1           1        368942  1.019744  0.028089 -16.673945   2.361258   \n",
       "2           2        368943  1.027147  0.026020  -6.451596   5.413729   \n",
       "3           3        368944  1.049957  0.119535 -21.404693  23.206850   \n",
       "4           4        368945  1.028554  0.049378 -69.353741   1.962348   \n",
       "\n",
       "       p625      dfreq  ratio.df           start.time  index         coding  \\\n",
       "0  0.072835  12.307692  0.072342  2017-10-06 16:44:00      0  non-sedentary   \n",
       "1  0.059919   9.230769  0.095085  2017-10-06 16:44:01      1  non-sedentary   \n",
       "2  0.216824   2.051282  0.179074  2017-10-06 16:44:02      2  non-sedentary   \n",
       "3  0.299554   2.051282  0.172340  2017-10-06 16:44:03      3  non-sedentary   \n",
       "4  0.130182   4.102564  0.067698  2017-10-06 16:44:04      4  non-sedentary   \n",
       "\n",
       "  type  \n",
       "0  H-1  \n",
       "1  H-1  \n",
       "2  H-1  \n",
       "3  H-1  \n",
       "4  H-1  "
      ]
     },
     "execution_count": 4,
     "metadata": {},
     "output_type": "execute_result"
    }
   ],
   "source": [
    "data.head()"
   ]
  },
  {
   "cell_type": "code",
   "execution_count": 5,
   "metadata": {},
   "outputs": [],
   "source": [
    "data = sc.get_lags(data, 3)"
   ]
  },
  {
   "cell_type": "code",
   "execution_count": 6,
   "metadata": {},
   "outputs": [
    {
     "data": {
      "text/plain": [
       "Unnamed: 0                                         0\n",
       "Unnamed: 0.1                                  368941\n",
       "mean.vm                                      1.02546\n",
       "sd.vm                                      0.0522834\n",
       "mean.ang                                    -13.6633\n",
       "sd.ang                                       3.47774\n",
       "p625                                       0.0728354\n",
       "dfreq                                        12.3077\n",
       "ratio.df                                   0.0723418\n",
       "start.time                       2017-10-06 16:44:00\n",
       "index                                              0\n",
       "coding                                 non-sedentary\n",
       "type                                             H-1\n",
       "last.1.mean.vm                               1.02546\n",
       "last.1.sd.vm                               0.0522834\n",
       "last.1.mean.ang                             -13.6633\n",
       "last.1.sd.ang                                3.47774\n",
       "last.1.p625                                0.0728354\n",
       "last.1.dfreq                                 12.3077\n",
       "last.1.ratio.df                            0.0723418\n",
       "last.2.last.1.mean.vm                        1.02546\n",
       "last.2.last.1.sd.vm                        0.0522834\n",
       "last.2.last.1.mean.ang                      -13.6633\n",
       "last.2.last.1.sd.ang                         3.47774\n",
       "last.2.last.1.p625                         0.0728354\n",
       "last.2.last.1.dfreq                          12.3077\n",
       "last.2.last.1.ratio.df                     0.0723418\n",
       "last.3.last.2.last.1.mean.vm                 1.02546\n",
       "last.3.last.2.last.1.sd.vm                 0.0522834\n",
       "last.3.last.2.last.1.mean.ang               -13.6633\n",
       "last.3.last.2.last.1.sd.ang                  3.47774\n",
       "last.3.last.2.last.1.p625                  0.0728354\n",
       "last.3.last.2.last.1.dfreq                   12.3077\n",
       "last.3.last.2.last.1.ratio.df              0.0723418\n",
       "Name: 0, dtype: object"
      ]
     },
     "execution_count": 6,
     "metadata": {},
     "output_type": "execute_result"
    }
   ],
   "source": [
    "data.iloc[0,:]"
   ]
  },
  {
   "cell_type": "code",
   "execution_count": 8,
   "metadata": {},
   "outputs": [
    {
     "ename": "ValueError",
     "evalue": "could not convert string to float: 'sedentary'",
     "output_type": "error",
     "traceback": [
      "\u001b[0;31m---------------------------------------------------------------------------\u001b[0m",
      "\u001b[0;31mValueError\u001b[0m                                Traceback (most recent call last)",
      "\u001b[0;32m<ipython-input-8-060ad3774a97>\u001b[0m in \u001b[0;36m<module>\u001b[0;34m()\u001b[0m\n\u001b[0;32m----> 1\u001b[0;31m \u001b[0mtrainX\u001b[0m\u001b[0;34m,\u001b[0m \u001b[0mtrainY\u001b[0m\u001b[0;34m,\u001b[0m \u001b[0mtestX\u001b[0m\u001b[0;34m,\u001b[0m \u001b[0mtestY\u001b[0m \u001b[0;34m=\u001b[0m \u001b[0msc\u001b[0m\u001b[0;34m.\u001b[0m\u001b[0mget_test_train\u001b[0m\u001b[0;34m(\u001b[0m\u001b[0mdata\u001b[0m\u001b[0;34m,\u001b[0m \u001b[0;36m1\u001b[0m\u001b[0;34m)\u001b[0m\u001b[0;34m\u001b[0m\u001b[0m\n\u001b[0m",
      "\u001b[0;32m~/Google Drive/DATA 451/KineseItUp/script.py\u001b[0m in \u001b[0;36mget_test_train\u001b[0;34m(data, lag)\u001b[0m\n\u001b[1;32m    111\u001b[0m \u001b[0;34m\u001b[0m\u001b[0m\n\u001b[1;32m    112\u001b[0m \u001b[0;34m\u001b[0m\u001b[0m\n\u001b[0;32m--> 113\u001b[0;31m     \u001b[0mtrainX\u001b[0m \u001b[0;34m=\u001b[0m \u001b[0mpreprocessing\u001b[0m\u001b[0;34m.\u001b[0m\u001b[0mscale\u001b[0m\u001b[0;34m(\u001b[0m\u001b[0mtrainX\u001b[0m\u001b[0;34m)\u001b[0m\u001b[0;34m\u001b[0m\u001b[0m\n\u001b[0m\u001b[1;32m    114\u001b[0m     \u001b[0mtestX\u001b[0m \u001b[0;34m=\u001b[0m \u001b[0mpreprocessing\u001b[0m\u001b[0;34m.\u001b[0m\u001b[0mscale\u001b[0m\u001b[0;34m(\u001b[0m\u001b[0mtestX\u001b[0m\u001b[0;34m)\u001b[0m\u001b[0;34m\u001b[0m\u001b[0m\n\u001b[1;32m    115\u001b[0m \u001b[0;34m\u001b[0m\u001b[0m\n",
      "\u001b[0;32m~/anaconda3/lib/python3.6/site-packages/sklearn/preprocessing/data.py\u001b[0m in \u001b[0;36mscale\u001b[0;34m(X, axis, with_mean, with_std, copy)\u001b[0m\n\u001b[1;32m    131\u001b[0m     X = check_array(X, accept_sparse='csc', copy=copy, ensure_2d=False,\n\u001b[1;32m    132\u001b[0m                     \u001b[0mwarn_on_dtype\u001b[0m\u001b[0;34m=\u001b[0m\u001b[0;32mTrue\u001b[0m\u001b[0;34m,\u001b[0m \u001b[0mestimator\u001b[0m\u001b[0;34m=\u001b[0m\u001b[0;34m'the scale function'\u001b[0m\u001b[0;34m,\u001b[0m\u001b[0;34m\u001b[0m\u001b[0m\n\u001b[0;32m--> 133\u001b[0;31m                     dtype=FLOAT_DTYPES)\n\u001b[0m\u001b[1;32m    134\u001b[0m     \u001b[0;32mif\u001b[0m \u001b[0msparse\u001b[0m\u001b[0;34m.\u001b[0m\u001b[0missparse\u001b[0m\u001b[0;34m(\u001b[0m\u001b[0mX\u001b[0m\u001b[0;34m)\u001b[0m\u001b[0;34m:\u001b[0m\u001b[0;34m\u001b[0m\u001b[0m\n\u001b[1;32m    135\u001b[0m         \u001b[0;32mif\u001b[0m \u001b[0mwith_mean\u001b[0m\u001b[0;34m:\u001b[0m\u001b[0;34m\u001b[0m\u001b[0m\n",
      "\u001b[0;32m~/anaconda3/lib/python3.6/site-packages/sklearn/utils/validation.py\u001b[0m in \u001b[0;36mcheck_array\u001b[0;34m(array, accept_sparse, dtype, order, copy, force_all_finite, ensure_2d, allow_nd, ensure_min_samples, ensure_min_features, warn_on_dtype, estimator)\u001b[0m\n\u001b[1;32m    431\u001b[0m                                       force_all_finite)\n\u001b[1;32m    432\u001b[0m     \u001b[0;32melse\u001b[0m\u001b[0;34m:\u001b[0m\u001b[0;34m\u001b[0m\u001b[0m\n\u001b[0;32m--> 433\u001b[0;31m         \u001b[0marray\u001b[0m \u001b[0;34m=\u001b[0m \u001b[0mnp\u001b[0m\u001b[0;34m.\u001b[0m\u001b[0marray\u001b[0m\u001b[0;34m(\u001b[0m\u001b[0marray\u001b[0m\u001b[0;34m,\u001b[0m \u001b[0mdtype\u001b[0m\u001b[0;34m=\u001b[0m\u001b[0mdtype\u001b[0m\u001b[0;34m,\u001b[0m \u001b[0morder\u001b[0m\u001b[0;34m=\u001b[0m\u001b[0morder\u001b[0m\u001b[0;34m,\u001b[0m \u001b[0mcopy\u001b[0m\u001b[0;34m=\u001b[0m\u001b[0mcopy\u001b[0m\u001b[0;34m)\u001b[0m\u001b[0;34m\u001b[0m\u001b[0m\n\u001b[0m\u001b[1;32m    434\u001b[0m \u001b[0;34m\u001b[0m\u001b[0m\n\u001b[1;32m    435\u001b[0m         \u001b[0;32mif\u001b[0m \u001b[0mensure_2d\u001b[0m\u001b[0;34m:\u001b[0m\u001b[0;34m\u001b[0m\u001b[0m\n",
      "\u001b[0;31mValueError\u001b[0m: could not convert string to float: 'sedentary'"
     ]
    }
   ],
   "source": [
    "trainX, trainY, testX, testY = sc.get_test_train(data, 1)"
   ]
  },
  {
   "cell_type": "code",
   "execution_count": 13,
   "metadata": {},
   "outputs": [
    {
     "data": {
      "text/plain": [
       "Index(['Unnamed: 0', 'Unnamed: 0.1', 'mean.vm', 'sd.vm', 'mean.ang', 'sd.ang',\n",
       "       'p625', 'dfreq', 'ratio.df', 'start.time', 'index', 'coding', 'type',\n",
       "       'last.1.mean.vm', 'last.1.sd.vm', 'last.1.mean.ang', 'last.1.sd.ang',\n",
       "       'last.1.p625', 'last.1.dfreq', 'last.1.ratio.df',\n",
       "       'last.2.last.1.mean.vm', 'last.2.last.1.sd.vm',\n",
       "       'last.2.last.1.mean.ang', 'last.2.last.1.sd.ang', 'last.2.last.1.p625',\n",
       "       'last.2.last.1.dfreq', 'last.2.last.1.ratio.df', 'last.1.mean.vm',\n",
       "       'last.1.sd.vm', 'last.1.mean.ang', 'last.1.sd.ang', 'last.1.p625',\n",
       "       'last.1.dfreq', 'last.1.ratio.df', 'last.2.last.1.mean.vm',\n",
       "       'last.2.last.1.sd.vm', 'last.2.last.1.mean.ang', 'last.2.last.1.sd.ang',\n",
       "       'last.2.last.1.p625', 'last.2.last.1.dfreq', 'last.2.last.1.ratio.df',\n",
       "       'last.3.last.2.last.1.mean.vm', 'last.3.last.2.last.1.sd.vm',\n",
       "       'last.3.last.2.last.1.mean.ang', 'last.3.last.2.last.1.sd.ang',\n",
       "       'last.3.last.2.last.1.p625', 'last.3.last.2.last.1.dfreq',\n",
       "       'last.3.last.2.last.1.ratio.df'],\n",
       "      dtype='object')"
      ]
     },
     "execution_count": 13,
     "metadata": {},
     "output_type": "execute_result"
    }
   ],
   "source": [
    "data.columns"
   ]
  },
  {
   "cell_type": "markdown",
   "metadata": {},
   "source": [
    "## SVM"
   ]
  },
  {
   "cell_type": "code",
   "execution_count": 305,
   "metadata": {},
   "outputs": [
    {
     "data": {
      "text/plain": [
       "SVC(C=1.0, cache_size=7000, class_weight=None, coef0=0.0,\n",
       "  decision_function_shape='ovr', degree=3, gamma='auto', kernel='rbf',\n",
       "  max_iter=-1, probability=False, random_state=None, shrinking=True,\n",
       "  tol=0.001, verbose=False)"
      ]
     },
     "execution_count": 305,
     "metadata": {},
     "output_type": "execute_result"
    }
   ],
   "source": [
    "clf = svm.SVC(cache_size=7000)\n",
    "clf.fit(trainX, trainY)"
   ]
  },
  {
   "cell_type": "code",
   "execution_count": 306,
   "metadata": {},
   "outputs": [
    {
     "data": {
      "text/plain": [
       "0.7878451505480782"
      ]
     },
     "execution_count": 306,
     "metadata": {},
     "output_type": "execute_result"
    }
   ],
   "source": [
    "clf.score(testX,testY)"
   ]
  },
  {
   "cell_type": "markdown",
   "metadata": {},
   "source": [
    "## Neural Network"
   ]
  },
  {
   "cell_type": "code",
   "execution_count": 6,
   "metadata": {},
   "outputs": [
    {
     "data": {
      "text/plain": [
       "MLPClassifier(activation='relu', alpha=1e-05, batch_size='auto', beta_1=0.9,\n",
       "       beta_2=0.999, early_stopping=False, epsilon=1e-08,\n",
       "       hidden_layer_sizes=(2000, 1000), learning_rate='constant',\n",
       "       learning_rate_init=0.001, max_iter=200, momentum=0.9,\n",
       "       nesterovs_momentum=True, power_t=0.5, random_state=1, shuffle=True,\n",
       "       solver='lbfgs', tol=0.0001, validation_fraction=0.1, verbose=True,\n",
       "       warm_start=False)"
      ]
     },
     "execution_count": 6,
     "metadata": {},
     "output_type": "execute_result"
    }
   ],
   "source": [
    "n_net = MLPClassifier(solver='lbfgs', alpha=1e-5,hidden_layer_sizes=(2000, 1000), random_state=1, verbose = True)\n",
    "n_net.fit(trainX,trainY)"
   ]
  },
  {
   "cell_type": "code",
   "execution_count": 7,
   "metadata": {},
   "outputs": [
    {
     "data": {
      "text/plain": [
       "0.8119491377808744"
      ]
     },
     "execution_count": 7,
     "metadata": {},
     "output_type": "execute_result"
    }
   ],
   "source": [
    "np.sum(n_net.predict(testX) == testY) / len(testX)"
   ]
  },
  {
   "cell_type": "code",
   "execution_count": 8,
   "metadata": {},
   "outputs": [
    {
     "name": "stdout",
     "output_type": "stream",
     "text": [
      "[[ 9444  3302]\n",
      " [ 2096 13863]]\n"
     ]
    },
    {
     "data": {
      "text/plain": [
       "0.777732026682039"
      ]
     },
     "execution_count": 8,
     "metadata": {},
     "output_type": "execute_result"
    }
   ],
   "source": [
    "predictedVals = n_net.predict(testX)\n",
    "print (confusion_matrix(testY,predictedVals,labels = ['sedentary','non-sedentary']))\n",
    "f1_score(testY == 'sedentary', predictedVals == 'sedentary',labels = ['sedentary','non-sedentary'])"
   ]
  },
  {
   "cell_type": "code",
   "execution_count": 13,
   "metadata": {},
   "outputs": [
    {
     "data": {
      "text/plain": [
       "(86112, 20)"
      ]
     },
     "execution_count": 13,
     "metadata": {},
     "output_type": "execute_result"
    }
   ],
   "source": [
    "train.shape"
   ]
  }
 ],
 "metadata": {
  "kernelspec": {
   "display_name": "Python 3",
   "language": "python",
   "name": "python3"
  },
  "language_info": {
   "codemirror_mode": {
    "name": "ipython",
    "version": 3
   },
   "file_extension": ".py",
   "mimetype": "text/x-python",
   "name": "python",
   "nbconvert_exporter": "python",
   "pygments_lexer": "ipython3",
   "version": "3.6.4"
  }
 },
 "nbformat": 4,
 "nbformat_minor": 2
}
