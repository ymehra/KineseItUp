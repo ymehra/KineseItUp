{
 "cells": [
  {
   "cell_type": "code",
   "execution_count": 2,
   "metadata": {},
   "outputs": [],
   "source": [
    "import pandas as pd\n",
    "import json"
   ]
  },
  {
   "cell_type": "code",
   "execution_count": 13,
   "metadata": {},
   "outputs": [],
   "source": [
    "def load_Data(user, filename):\n",
    "   data = json.load(open('dir.json'))\n",
    "   dir = data[user] + filename\n",
    "   data = pd.read_csv(dir)\n",
    "   return data"
   ]
  },
  {
   "cell_type": "code",
   "execution_count": 15,
   "metadata": {},
   "outputs": [
    {
     "name": "stdout",
     "output_type": "stream",
     "text": [
      "                                                                                                                                                                         ;\"mean.vm\";\"sd.vm\";\"mean.ang\";\"sd.ang\";\"p625\";\"dfreq\";\"ratio.df\";\"start.time\";\"METs.rf\";\"METs.lm\";\"MET.lev.rf\";\"MET.lev.tr\";\"sed.rf\";\"sed.tr\";\"loc.rf\";\"loc.tr\";\"combo.rf\";\"combo.tr\";\"day\";\"hour\";\"session\";\"sed.truth\"\n",
      "7805;1 05326856910668;0 194844517038988;-27 7176053044508;26 8078263893347;0 180772708206207;2 80467445742905;0  012283642402803;2017-10-03 18:46:00;2  87764822045946;3  71665016260102;\"light\";\"light\";\"non-sedentary\"...                                                                                                                                                                      \n",
      "7806;1 06648604153266;0 275645377906665;-50 1408942707846;27 6646250708782;0 246832951353768;0 734557595993322;0 01481874229078;2017-10-03 18:46:15;4   08997277603327;4  76816142693718;\"moderate\";\"moderate\";\"non-sede...                                                                                                                                                                      \n",
      "7807;1 10941255288145;0 308551262478439;-41 5516616232119;27 6980382826044;0 184373690414555;1 3355592654424;0   0132545539145475;2017-10-03 18:46:30;4 43835099047722;4  71711615273235;\"moderate\";\"moderate\";\"non-sede...                                                                                                                                                                      \n",
      "7808;1 10426328299936;0 3866312335354;-45   1973655833661;25 0146683098872;0 167807254696256;0 534223706176962;0 0134813002239392;2017-10-03 18:46:45;4 15147512897604;5  24579598881731;\"moderate\";\"moderate\";\"non-sede...                                                                                                                                                                      \n",
      "7809;1 09443370314476;0 30474907342321;-22  8691709148691;26 6874724843314;0 151519880284707;0 200333889816361;0 0179313219674924;2017-10-03 18:47:00;3 87234514577937;4  1909005482331;\"moderate\";\"moderate\";\"non-seden...                                                                                                                                                                      \n"
     ]
    },
    {
     "ename": "NameError",
     "evalue": "name 'user' is not defined",
     "output_type": "error",
     "traceback": [
      "\u001b[0;31m---------------------------------------------------------------------------\u001b[0m",
      "\u001b[0;31mNameError\u001b[0m                                 Traceback (most recent call last)",
      "\u001b[0;32m<ipython-input-15-c19106c5ccf3>\u001b[0m in \u001b[0;36m<module>\u001b[0;34m()\u001b[0m\n\u001b[1;32m      1\u001b[0m \u001b[0mdata\u001b[0m \u001b[0;34m=\u001b[0m \u001b[0mload_Data\u001b[0m\u001b[0;34m(\u001b[0m\u001b[0;34m'Yash'\u001b[0m\u001b[0;34m,\u001b[0m \u001b[0;34m'AG01-02.csv'\u001b[0m\u001b[0;34m)\u001b[0m\u001b[0;34m\u001b[0m\u001b[0m\n\u001b[1;32m      2\u001b[0m \u001b[0mdata\u001b[0m \u001b[0;34m=\u001b[0m \u001b[0mjson\u001b[0m\u001b[0;34m.\u001b[0m\u001b[0mload\u001b[0m\u001b[0;34m(\u001b[0m\u001b[0mopen\u001b[0m\u001b[0;34m(\u001b[0m\u001b[0;34m'dir.json'\u001b[0m\u001b[0;34m)\u001b[0m\u001b[0;34m)\u001b[0m\u001b[0;34m\u001b[0m\u001b[0m\n\u001b[0;32m----> 3\u001b[0;31m \u001b[0mdir\u001b[0m \u001b[0;34m=\u001b[0m \u001b[0mdata\u001b[0m\u001b[0;34m[\u001b[0m\u001b[0muser\u001b[0m\u001b[0;34m]\u001b[0m \u001b[0;34m+\u001b[0m \u001b[0mfilename\u001b[0m\u001b[0;34m\u001b[0m\u001b[0m\n\u001b[0m\u001b[1;32m      4\u001b[0m \u001b[0mdata\u001b[0m \u001b[0;34m=\u001b[0m \u001b[0mpd\u001b[0m\u001b[0;34m.\u001b[0m\u001b[0mread_csv\u001b[0m\u001b[0;34m(\u001b[0m\u001b[0mdir\u001b[0m\u001b[0;34m)\u001b[0m\u001b[0;34m\u001b[0m\u001b[0m\n\u001b[1;32m      5\u001b[0m \u001b[0mdata\u001b[0m\u001b[0;34m.\u001b[0m\u001b[0mhead\u001b[0m\u001b[0;34m(\u001b[0m\u001b[0;34m)\u001b[0m\u001b[0;34m\u001b[0m\u001b[0m\n",
      "\u001b[0;31mNameError\u001b[0m: name 'user' is not defined"
     ]
    }
   ],
   "source": [
    "# data = load_Data('Yash', 'AG01-02.csv')\n",
    "data = json.load(open('dir.json'))\n",
    "dir = data['Yash'] + filename\n",
    "data = pd.read_csv(dir)\n",
    "data.head()"
   ]
  }
 ],
 "metadata": {
  "kernelspec": {
   "display_name": "Python 3",
   "language": "python",
   "name": "python3"
  },
  "language_info": {
   "codemirror_mode": {
    "name": "ipython",
    "version": 3
   },
   "file_extension": ".py",
   "mimetype": "text/x-python",
   "name": "python",
   "nbconvert_exporter": "python",
   "pygments_lexer": "ipython3",
   "version": "3.6.4"
  }
 },
 "nbformat": 4,
 "nbformat_minor": 2
}
