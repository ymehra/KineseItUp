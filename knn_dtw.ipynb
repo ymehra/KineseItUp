{
 "cells": [
  {
   "cell_type": "code",
   "execution_count": 1,
   "metadata": {},
   "outputs": [],
   "source": [
    "import pandas as pd\n",
    "import json\n",
    "import sklearn.svm as svm\n",
    "from sklearn.linear_model import Lasso, LassoCV\n",
    "from sklearn.feature_selection import SelectFromModel\n",
    "import numpy as np\n",
    "from sklearn.neural_network import MLPClassifier\n",
    "import script as sc\n",
    "from sklearn import preprocessing\n",
    "from sklearn.metrics import confusion_matrix\n",
    "from sklearn.metrics import f1_score"
   ]
  },
  {
   "cell_type": "code",
   "execution_count": 2,
   "metadata": {},
   "outputs": [],
   "source": [
    "## Change the name to get your path\n",
    "user = 'Andrew'"
   ]
  },
  {
   "cell_type": "markdown",
   "metadata": {},
   "source": [
    "## Build test and train Datasets"
   ]
  },
  {
   "cell_type": "code",
   "execution_count": 3,
   "metadata": {},
   "outputs": [
    {
     "name": "stderr",
     "output_type": "stream",
     "text": [
      "C:\\Users\\Andrew\\Documents\\CalPoly\\DataCapstone\\KineseItUp\\script.py:18: SettingWithCopyWarning: \n",
      "A value is trying to be set on a copy of a slice from a DataFrame.\n",
      "Try using .loc[row_indexer,col_indexer] = value instead\n",
      "\n",
      "See the caveats in the documentation: http://pandas.pydata.org/pandas-docs/stable/indexing.html#indexing-view-versus-copy\n",
      "  observedData['index'] = range(len(observedData))\n"
     ]
    }
   ],
   "source": [
    "# Rebuild complete dataset if necessary\n",
    "sc.update_complete(user)"
   ]
  },
  {
   "cell_type": "code",
   "execution_count": 3,
   "metadata": {},
   "outputs": [],
   "source": [
    "data = pd.DataFrame(sc.get_complete(user))"
   ]
  },
  {
   "cell_type": "code",
   "execution_count": 4,
   "metadata": {},
   "outputs": [
    {
     "data": {
      "text/html": [
       "<div>\n",
       "<style scoped>\n",
       "    .dataframe tbody tr th:only-of-type {\n",
       "        vertical-align: middle;\n",
       "    }\n",
       "\n",
       "    .dataframe tbody tr th {\n",
       "        vertical-align: top;\n",
       "    }\n",
       "\n",
       "    .dataframe thead th {\n",
       "        text-align: right;\n",
       "    }\n",
       "</style>\n",
       "<table border=\"1\" class=\"dataframe\">\n",
       "  <thead>\n",
       "    <tr style=\"text-align: right;\">\n",
       "      <th></th>\n",
       "      <th>Unnamed: 0</th>\n",
       "      <th>Unnamed: 0.1</th>\n",
       "      <th>X1</th>\n",
       "      <th>X2</th>\n",
       "      <th>X3</th>\n",
       "      <th>X4</th>\n",
       "      <th>X5</th>\n",
       "      <th>X6</th>\n",
       "      <th>X7</th>\n",
       "      <th>X8</th>\n",
       "      <th>...</th>\n",
       "      <th>X238</th>\n",
       "      <th>X239</th>\n",
       "      <th>X240</th>\n",
       "      <th>X241</th>\n",
       "      <th>Unnamed: 0.2</th>\n",
       "      <th>observation</th>\n",
       "      <th>date</th>\n",
       "      <th>activity</th>\n",
       "      <th>coding</th>\n",
       "      <th>time</th>\n",
       "    </tr>\n",
       "  </thead>\n",
       "  <tbody>\n",
       "    <tr>\n",
       "      <th>0</th>\n",
       "      <td>0</td>\n",
       "      <td>1.0</td>\n",
       "      <td>2017-10-06 16:44:00</td>\n",
       "      <td>-0.191</td>\n",
       "      <td>-0.711</td>\n",
       "      <td>-0.660</td>\n",
       "      <td>-0.172</td>\n",
       "      <td>-0.715</td>\n",
       "      <td>-0.652</td>\n",
       "      <td>-0.207</td>\n",
       "      <td>...</td>\n",
       "      <td>-0.648</td>\n",
       "      <td>-0.281</td>\n",
       "      <td>-0.730</td>\n",
       "      <td>-0.648</td>\n",
       "      <td>1.0</td>\n",
       "      <td>H_AM01DO1_M</td>\n",
       "      <td>13-01-2018</td>\n",
       "      <td>active</td>\n",
       "      <td>non-sedentary</td>\n",
       "      <td>0.0</td>\n",
       "    </tr>\n",
       "    <tr>\n",
       "      <th>1</th>\n",
       "      <td>1</td>\n",
       "      <td>2.0</td>\n",
       "      <td>2017-10-06 16:44:01</td>\n",
       "      <td>-0.254</td>\n",
       "      <td>-0.715</td>\n",
       "      <td>-0.645</td>\n",
       "      <td>-0.266</td>\n",
       "      <td>-0.727</td>\n",
       "      <td>-0.637</td>\n",
       "      <td>-0.289</td>\n",
       "      <td>...</td>\n",
       "      <td>-0.711</td>\n",
       "      <td>0.035</td>\n",
       "      <td>-0.707</td>\n",
       "      <td>-0.715</td>\n",
       "      <td>2.0</td>\n",
       "      <td>H_AM01DO1_M</td>\n",
       "      <td>13-01-2018</td>\n",
       "      <td>active</td>\n",
       "      <td>non-sedentary</td>\n",
       "      <td>1.0</td>\n",
       "    </tr>\n",
       "    <tr>\n",
       "      <th>2</th>\n",
       "      <td>2</td>\n",
       "      <td>3.0</td>\n",
       "      <td>2017-10-06 16:44:02</td>\n",
       "      <td>0.063</td>\n",
       "      <td>-0.715</td>\n",
       "      <td>-0.719</td>\n",
       "      <td>0.129</td>\n",
       "      <td>-0.695</td>\n",
       "      <td>-0.719</td>\n",
       "      <td>0.164</td>\n",
       "      <td>...</td>\n",
       "      <td>-0.301</td>\n",
       "      <td>-0.828</td>\n",
       "      <td>0.180</td>\n",
       "      <td>-0.316</td>\n",
       "      <td>3.0</td>\n",
       "      <td>H_AM01DO1_M</td>\n",
       "      <td>13-01-2018</td>\n",
       "      <td>active</td>\n",
       "      <td>non-sedentary</td>\n",
       "      <td>2.0</td>\n",
       "    </tr>\n",
       "    <tr>\n",
       "      <th>3</th>\n",
       "      <td>3</td>\n",
       "      <td>4.0</td>\n",
       "      <td>2017-10-06 16:44:03</td>\n",
       "      <td>-0.773</td>\n",
       "      <td>0.180</td>\n",
       "      <td>-0.305</td>\n",
       "      <td>-0.754</td>\n",
       "      <td>0.219</td>\n",
       "      <td>-0.285</td>\n",
       "      <td>-0.777</td>\n",
       "      <td>...</td>\n",
       "      <td>-0.160</td>\n",
       "      <td>-1.039</td>\n",
       "      <td>0.332</td>\n",
       "      <td>-0.156</td>\n",
       "      <td>4.0</td>\n",
       "      <td>H_AM01DO1_M</td>\n",
       "      <td>13-01-2018</td>\n",
       "      <td>active</td>\n",
       "      <td>non-sedentary</td>\n",
       "      <td>3.0</td>\n",
       "    </tr>\n",
       "    <tr>\n",
       "      <th>4</th>\n",
       "      <td>4</td>\n",
       "      <td>5.0</td>\n",
       "      <td>2017-10-06 16:44:04</td>\n",
       "      <td>-1.031</td>\n",
       "      <td>0.332</td>\n",
       "      <td>-0.160</td>\n",
       "      <td>-1.016</td>\n",
       "      <td>0.344</td>\n",
       "      <td>-0.164</td>\n",
       "      <td>-1.016</td>\n",
       "      <td>...</td>\n",
       "      <td>0.105</td>\n",
       "      <td>-0.570</td>\n",
       "      <td>0.605</td>\n",
       "      <td>0.133</td>\n",
       "      <td>5.0</td>\n",
       "      <td>H_AM01DO1_M</td>\n",
       "      <td>13-01-2018</td>\n",
       "      <td>active</td>\n",
       "      <td>non-sedentary</td>\n",
       "      <td>4.0</td>\n",
       "    </tr>\n",
       "    <tr>\n",
       "      <th>5</th>\n",
       "      <td>5</td>\n",
       "      <td>6.0</td>\n",
       "      <td>2017-10-06 16:44:05</td>\n",
       "      <td>-0.602</td>\n",
       "      <td>0.621</td>\n",
       "      <td>0.125</td>\n",
       "      <td>-0.605</td>\n",
       "      <td>0.617</td>\n",
       "      <td>0.070</td>\n",
       "      <td>-0.621</td>\n",
       "      <td>...</td>\n",
       "      <td>-0.133</td>\n",
       "      <td>-0.609</td>\n",
       "      <td>0.918</td>\n",
       "      <td>-0.191</td>\n",
       "      <td>6.0</td>\n",
       "      <td>H_AM01DO1_M</td>\n",
       "      <td>13-01-2018</td>\n",
       "      <td>active</td>\n",
       "      <td>non-sedentary</td>\n",
       "      <td>5.0</td>\n",
       "    </tr>\n",
       "    <tr>\n",
       "      <th>6</th>\n",
       "      <td>6</td>\n",
       "      <td>7.0</td>\n",
       "      <td>2017-10-06 16:44:06</td>\n",
       "      <td>-0.602</td>\n",
       "      <td>0.891</td>\n",
       "      <td>-0.195</td>\n",
       "      <td>-0.512</td>\n",
       "      <td>0.914</td>\n",
       "      <td>-0.191</td>\n",
       "      <td>-0.441</td>\n",
       "      <td>...</td>\n",
       "      <td>0.613</td>\n",
       "      <td>-0.680</td>\n",
       "      <td>0.727</td>\n",
       "      <td>0.598</td>\n",
       "      <td>7.0</td>\n",
       "      <td>H_AM01DO1_M</td>\n",
       "      <td>13-01-2018</td>\n",
       "      <td>active</td>\n",
       "      <td>non-sedentary</td>\n",
       "      <td>6.0</td>\n",
       "    </tr>\n",
       "    <tr>\n",
       "      <th>7</th>\n",
       "      <td>7</td>\n",
       "      <td>8.0</td>\n",
       "      <td>2017-10-06 16:44:07</td>\n",
       "      <td>-0.680</td>\n",
       "      <td>0.719</td>\n",
       "      <td>0.586</td>\n",
       "      <td>-0.672</td>\n",
       "      <td>0.711</td>\n",
       "      <td>0.586</td>\n",
       "      <td>-0.648</td>\n",
       "      <td>...</td>\n",
       "      <td>0.473</td>\n",
       "      <td>-0.867</td>\n",
       "      <td>0.359</td>\n",
       "      <td>0.434</td>\n",
       "      <td>8.0</td>\n",
       "      <td>H_AM01DO1_M</td>\n",
       "      <td>13-01-2018</td>\n",
       "      <td>active</td>\n",
       "      <td>non-sedentary</td>\n",
       "      <td>7.0</td>\n",
       "    </tr>\n",
       "    <tr>\n",
       "      <th>8</th>\n",
       "      <td>8</td>\n",
       "      <td>9.0</td>\n",
       "      <td>2017-10-06 16:44:08</td>\n",
       "      <td>-0.895</td>\n",
       "      <td>0.363</td>\n",
       "      <td>0.422</td>\n",
       "      <td>-0.898</td>\n",
       "      <td>0.379</td>\n",
       "      <td>0.426</td>\n",
       "      <td>-0.879</td>\n",
       "      <td>...</td>\n",
       "      <td>0.465</td>\n",
       "      <td>-0.875</td>\n",
       "      <td>0.398</td>\n",
       "      <td>0.445</td>\n",
       "      <td>9.0</td>\n",
       "      <td>H_AM01DO1_M</td>\n",
       "      <td>13-01-2018</td>\n",
       "      <td>active</td>\n",
       "      <td>non-sedentary</td>\n",
       "      <td>8.0</td>\n",
       "    </tr>\n",
       "    <tr>\n",
       "      <th>9</th>\n",
       "      <td>9</td>\n",
       "      <td>10.0</td>\n",
       "      <td>2017-10-06 16:44:09</td>\n",
       "      <td>-0.859</td>\n",
       "      <td>0.391</td>\n",
       "      <td>0.441</td>\n",
       "      <td>-0.848</td>\n",
       "      <td>0.395</td>\n",
       "      <td>0.441</td>\n",
       "      <td>-0.848</td>\n",
       "      <td>...</td>\n",
       "      <td>0.418</td>\n",
       "      <td>-0.801</td>\n",
       "      <td>0.496</td>\n",
       "      <td>0.422</td>\n",
       "      <td>10.0</td>\n",
       "      <td>H_AM01DO1_M</td>\n",
       "      <td>13-01-2018</td>\n",
       "      <td>active</td>\n",
       "      <td>non-sedentary</td>\n",
       "      <td>9.0</td>\n",
       "    </tr>\n",
       "    <tr>\n",
       "      <th>10</th>\n",
       "      <td>10</td>\n",
       "      <td>11.0</td>\n",
       "      <td>2017-10-06 16:44:10</td>\n",
       "      <td>-0.801</td>\n",
       "      <td>0.492</td>\n",
       "      <td>0.422</td>\n",
       "      <td>-0.805</td>\n",
       "      <td>0.500</td>\n",
       "      <td>0.418</td>\n",
       "      <td>-0.824</td>\n",
       "      <td>...</td>\n",
       "      <td>0.383</td>\n",
       "      <td>-0.824</td>\n",
       "      <td>0.438</td>\n",
       "      <td>0.379</td>\n",
       "      <td>11.0</td>\n",
       "      <td>H_AM01DO1_M</td>\n",
       "      <td>13-01-2018</td>\n",
       "      <td>active</td>\n",
       "      <td>non-sedentary</td>\n",
       "      <td>10.0</td>\n",
       "    </tr>\n",
       "    <tr>\n",
       "      <th>11</th>\n",
       "      <td>11</td>\n",
       "      <td>12.0</td>\n",
       "      <td>2017-10-06 16:44:11</td>\n",
       "      <td>-0.824</td>\n",
       "      <td>0.434</td>\n",
       "      <td>0.367</td>\n",
       "      <td>-0.828</td>\n",
       "      <td>0.445</td>\n",
       "      <td>0.363</td>\n",
       "      <td>-0.836</td>\n",
       "      <td>...</td>\n",
       "      <td>0.371</td>\n",
       "      <td>-0.863</td>\n",
       "      <td>0.418</td>\n",
       "      <td>0.367</td>\n",
       "      <td>12.0</td>\n",
       "      <td>H_AM01DO1_M</td>\n",
       "      <td>13-01-2018</td>\n",
       "      <td>active</td>\n",
       "      <td>non-sedentary</td>\n",
       "      <td>11.0</td>\n",
       "    </tr>\n",
       "    <tr>\n",
       "      <th>12</th>\n",
       "      <td>12</td>\n",
       "      <td>13.0</td>\n",
       "      <td>2017-10-06 16:44:12</td>\n",
       "      <td>-0.863</td>\n",
       "      <td>0.414</td>\n",
       "      <td>0.371</td>\n",
       "      <td>-0.855</td>\n",
       "      <td>0.422</td>\n",
       "      <td>0.359</td>\n",
       "      <td>-0.848</td>\n",
       "      <td>...</td>\n",
       "      <td>0.383</td>\n",
       "      <td>-0.859</td>\n",
       "      <td>0.410</td>\n",
       "      <td>0.383</td>\n",
       "      <td>13.0</td>\n",
       "      <td>H_AM01DO1_M</td>\n",
       "      <td>13-01-2018</td>\n",
       "      <td>active</td>\n",
       "      <td>non-sedentary</td>\n",
       "      <td>12.0</td>\n",
       "    </tr>\n",
       "    <tr>\n",
       "      <th>13</th>\n",
       "      <td>13</td>\n",
       "      <td>14.0</td>\n",
       "      <td>2017-10-06 16:44:13</td>\n",
       "      <td>-0.867</td>\n",
       "      <td>0.406</td>\n",
       "      <td>0.391</td>\n",
       "      <td>-0.871</td>\n",
       "      <td>0.414</td>\n",
       "      <td>0.391</td>\n",
       "      <td>-0.875</td>\n",
       "      <td>...</td>\n",
       "      <td>0.395</td>\n",
       "      <td>-0.844</td>\n",
       "      <td>0.402</td>\n",
       "      <td>0.395</td>\n",
       "      <td>14.0</td>\n",
       "      <td>H_AM01DO1_M</td>\n",
       "      <td>13-01-2018</td>\n",
       "      <td>active</td>\n",
       "      <td>non-sedentary</td>\n",
       "      <td>13.0</td>\n",
       "    </tr>\n",
       "    <tr>\n",
       "      <th>14</th>\n",
       "      <td>14</td>\n",
       "      <td>15.0</td>\n",
       "      <td>2017-10-06 16:44:14</td>\n",
       "      <td>-0.836</td>\n",
       "      <td>0.395</td>\n",
       "      <td>0.395</td>\n",
       "      <td>-0.828</td>\n",
       "      <td>0.402</td>\n",
       "      <td>0.387</td>\n",
       "      <td>-0.828</td>\n",
       "      <td>...</td>\n",
       "      <td>0.391</td>\n",
       "      <td>-0.871</td>\n",
       "      <td>0.426</td>\n",
       "      <td>0.383</td>\n",
       "      <td>15.0</td>\n",
       "      <td>H_AM01DO1_M</td>\n",
       "      <td>13-01-2018</td>\n",
       "      <td>active</td>\n",
       "      <td>non-sedentary</td>\n",
       "      <td>14.0</td>\n",
       "    </tr>\n",
       "    <tr>\n",
       "      <th>15</th>\n",
       "      <td>15</td>\n",
       "      <td>16.0</td>\n",
       "      <td>2017-10-06 16:44:15</td>\n",
       "      <td>-0.875</td>\n",
       "      <td>0.426</td>\n",
       "      <td>0.383</td>\n",
       "      <td>-0.887</td>\n",
       "      <td>0.434</td>\n",
       "      <td>0.375</td>\n",
       "      <td>-0.895</td>\n",
       "      <td>...</td>\n",
       "      <td>0.418</td>\n",
       "      <td>-0.820</td>\n",
       "      <td>0.395</td>\n",
       "      <td>0.414</td>\n",
       "      <td>16.0</td>\n",
       "      <td>H_AM01DO1_M</td>\n",
       "      <td>13-01-2018</td>\n",
       "      <td>active</td>\n",
       "      <td>non-sedentary</td>\n",
       "      <td>15.0</td>\n",
       "    </tr>\n",
       "    <tr>\n",
       "      <th>16</th>\n",
       "      <td>16</td>\n",
       "      <td>17.0</td>\n",
       "      <td>2017-10-06 16:44:16</td>\n",
       "      <td>-0.820</td>\n",
       "      <td>0.395</td>\n",
       "      <td>0.410</td>\n",
       "      <td>-0.816</td>\n",
       "      <td>0.406</td>\n",
       "      <td>0.402</td>\n",
       "      <td>-0.824</td>\n",
       "      <td>...</td>\n",
       "      <td>0.352</td>\n",
       "      <td>-0.832</td>\n",
       "      <td>0.559</td>\n",
       "      <td>0.344</td>\n",
       "      <td>17.0</td>\n",
       "      <td>H_AM01DO1_M</td>\n",
       "      <td>13-01-2018</td>\n",
       "      <td>active</td>\n",
       "      <td>non-sedentary</td>\n",
       "      <td>16.0</td>\n",
       "    </tr>\n",
       "    <tr>\n",
       "      <th>17</th>\n",
       "      <td>17</td>\n",
       "      <td>18.0</td>\n",
       "      <td>2017-10-06 16:44:17</td>\n",
       "      <td>-0.809</td>\n",
       "      <td>0.555</td>\n",
       "      <td>0.324</td>\n",
       "      <td>-0.793</td>\n",
       "      <td>0.570</td>\n",
       "      <td>0.305</td>\n",
       "      <td>-0.793</td>\n",
       "      <td>...</td>\n",
       "      <td>0.063</td>\n",
       "      <td>-0.563</td>\n",
       "      <td>0.848</td>\n",
       "      <td>0.070</td>\n",
       "      <td>18.0</td>\n",
       "      <td>H_AM01DO1_M</td>\n",
       "      <td>13-01-2018</td>\n",
       "      <td>active</td>\n",
       "      <td>non-sedentary</td>\n",
       "      <td>17.0</td>\n",
       "    </tr>\n",
       "    <tr>\n",
       "      <th>18</th>\n",
       "      <td>18</td>\n",
       "      <td>19.0</td>\n",
       "      <td>2017-10-06 16:44:18</td>\n",
       "      <td>-0.586</td>\n",
       "      <td>0.844</td>\n",
       "      <td>0.059</td>\n",
       "      <td>-0.629</td>\n",
       "      <td>0.832</td>\n",
       "      <td>0.023</td>\n",
       "      <td>-0.688</td>\n",
       "      <td>...</td>\n",
       "      <td>0.125</td>\n",
       "      <td>-0.531</td>\n",
       "      <td>0.770</td>\n",
       "      <td>0.141</td>\n",
       "      <td>19.0</td>\n",
       "      <td>H_AM01DO1_M</td>\n",
       "      <td>13-01-2018</td>\n",
       "      <td>active</td>\n",
       "      <td>non-sedentary</td>\n",
       "      <td>18.0</td>\n",
       "    </tr>\n",
       "    <tr>\n",
       "      <th>19</th>\n",
       "      <td>19</td>\n",
       "      <td>20.0</td>\n",
       "      <td>2017-10-06 16:44:19</td>\n",
       "      <td>-0.512</td>\n",
       "      <td>0.758</td>\n",
       "      <td>0.145</td>\n",
       "      <td>-0.488</td>\n",
       "      <td>0.766</td>\n",
       "      <td>0.145</td>\n",
       "      <td>-0.480</td>\n",
       "      <td>...</td>\n",
       "      <td>0.426</td>\n",
       "      <td>-0.484</td>\n",
       "      <td>-0.980</td>\n",
       "      <td>0.387</td>\n",
       "      <td>20.0</td>\n",
       "      <td>H_AM01DO1_M</td>\n",
       "      <td>13-01-2018</td>\n",
       "      <td>active</td>\n",
       "      <td>non-sedentary</td>\n",
       "      <td>19.0</td>\n",
       "    </tr>\n",
       "    <tr>\n",
       "      <th>20</th>\n",
       "      <td>20</td>\n",
       "      <td>21.0</td>\n",
       "      <td>2017-10-06 16:44:20</td>\n",
       "      <td>-0.453</td>\n",
       "      <td>-0.945</td>\n",
       "      <td>0.336</td>\n",
       "      <td>-0.402</td>\n",
       "      <td>-0.930</td>\n",
       "      <td>0.316</td>\n",
       "      <td>-0.363</td>\n",
       "      <td>...</td>\n",
       "      <td>-0.023</td>\n",
       "      <td>-0.168</td>\n",
       "      <td>-0.980</td>\n",
       "      <td>-0.023</td>\n",
       "      <td>21.0</td>\n",
       "      <td>H_AM01DO1_M</td>\n",
       "      <td>13-01-2018</td>\n",
       "      <td>active</td>\n",
       "      <td>non-sedentary</td>\n",
       "      <td>20.0</td>\n",
       "    </tr>\n",
       "    <tr>\n",
       "      <th>21</th>\n",
       "      <td>21</td>\n",
       "      <td>22.0</td>\n",
       "      <td>2017-10-06 16:44:21</td>\n",
       "      <td>-0.176</td>\n",
       "      <td>-0.984</td>\n",
       "      <td>-0.023</td>\n",
       "      <td>-0.172</td>\n",
       "      <td>-0.973</td>\n",
       "      <td>-0.023</td>\n",
       "      <td>-0.184</td>\n",
       "      <td>...</td>\n",
       "      <td>-0.023</td>\n",
       "      <td>-0.215</td>\n",
       "      <td>-0.965</td>\n",
       "      <td>-0.020</td>\n",
       "      <td>22.0</td>\n",
       "      <td>H_AM01DO1_M</td>\n",
       "      <td>13-01-2018</td>\n",
       "      <td>active</td>\n",
       "      <td>non-sedentary</td>\n",
       "      <td>21.0</td>\n",
       "    </tr>\n",
       "    <tr>\n",
       "      <th>22</th>\n",
       "      <td>22</td>\n",
       "      <td>23.0</td>\n",
       "      <td>2017-10-06 16:44:22</td>\n",
       "      <td>-0.211</td>\n",
       "      <td>-0.965</td>\n",
       "      <td>-0.023</td>\n",
       "      <td>-0.211</td>\n",
       "      <td>-0.961</td>\n",
       "      <td>-0.027</td>\n",
       "      <td>-0.215</td>\n",
       "      <td>...</td>\n",
       "      <td>-0.023</td>\n",
       "      <td>-0.207</td>\n",
       "      <td>-0.969</td>\n",
       "      <td>-0.020</td>\n",
       "      <td>23.0</td>\n",
       "      <td>H_AM01DO1_M</td>\n",
       "      <td>13-01-2018</td>\n",
       "      <td>active</td>\n",
       "      <td>non-sedentary</td>\n",
       "      <td>22.0</td>\n",
       "    </tr>\n",
       "    <tr>\n",
       "      <th>23</th>\n",
       "      <td>23</td>\n",
       "      <td>24.0</td>\n",
       "      <td>2017-10-06 16:44:23</td>\n",
       "      <td>-0.211</td>\n",
       "      <td>-0.969</td>\n",
       "      <td>-0.020</td>\n",
       "      <td>-0.215</td>\n",
       "      <td>-0.961</td>\n",
       "      <td>-0.023</td>\n",
       "      <td>-0.223</td>\n",
       "      <td>...</td>\n",
       "      <td>-0.023</td>\n",
       "      <td>-0.203</td>\n",
       "      <td>-0.977</td>\n",
       "      <td>-0.020</td>\n",
       "      <td>24.0</td>\n",
       "      <td>H_AM01DO1_M</td>\n",
       "      <td>13-01-2018</td>\n",
       "      <td>active</td>\n",
       "      <td>non-sedentary</td>\n",
       "      <td>23.0</td>\n",
       "    </tr>\n",
       "    <tr>\n",
       "      <th>24</th>\n",
       "      <td>24</td>\n",
       "      <td>25.0</td>\n",
       "      <td>2017-10-06 16:44:24</td>\n",
       "      <td>-0.199</td>\n",
       "      <td>-0.977</td>\n",
       "      <td>-0.020</td>\n",
       "      <td>-0.199</td>\n",
       "      <td>-0.965</td>\n",
       "      <td>-0.016</td>\n",
       "      <td>-0.207</td>\n",
       "      <td>...</td>\n",
       "      <td>-0.020</td>\n",
       "      <td>-0.211</td>\n",
       "      <td>-0.973</td>\n",
       "      <td>-0.020</td>\n",
       "      <td>25.0</td>\n",
       "      <td>H_AM01DO1_M</td>\n",
       "      <td>13-01-2018</td>\n",
       "      <td>active</td>\n",
       "      <td>non-sedentary</td>\n",
       "      <td>24.0</td>\n",
       "    </tr>\n",
       "    <tr>\n",
       "      <th>25</th>\n",
       "      <td>25</td>\n",
       "      <td>26.0</td>\n",
       "      <td>2017-10-06 16:44:25</td>\n",
       "      <td>-0.211</td>\n",
       "      <td>-0.965</td>\n",
       "      <td>-0.016</td>\n",
       "      <td>-0.207</td>\n",
       "      <td>-0.957</td>\n",
       "      <td>-0.023</td>\n",
       "      <td>-0.207</td>\n",
       "      <td>...</td>\n",
       "      <td>-0.020</td>\n",
       "      <td>-0.199</td>\n",
       "      <td>-0.977</td>\n",
       "      <td>-0.016</td>\n",
       "      <td>26.0</td>\n",
       "      <td>H_AM01DO1_M</td>\n",
       "      <td>13-01-2018</td>\n",
       "      <td>active</td>\n",
       "      <td>non-sedentary</td>\n",
       "      <td>25.0</td>\n",
       "    </tr>\n",
       "    <tr>\n",
       "      <th>26</th>\n",
       "      <td>26</td>\n",
       "      <td>27.0</td>\n",
       "      <td>2017-10-06 16:44:26</td>\n",
       "      <td>-0.207</td>\n",
       "      <td>-0.973</td>\n",
       "      <td>-0.020</td>\n",
       "      <td>-0.211</td>\n",
       "      <td>-0.957</td>\n",
       "      <td>-0.020</td>\n",
       "      <td>-0.215</td>\n",
       "      <td>...</td>\n",
       "      <td>-0.008</td>\n",
       "      <td>-0.207</td>\n",
       "      <td>-0.973</td>\n",
       "      <td>0.000</td>\n",
       "      <td>27.0</td>\n",
       "      <td>H_AM01DO1_M</td>\n",
       "      <td>13-01-2018</td>\n",
       "      <td>active</td>\n",
       "      <td>non-sedentary</td>\n",
       "      <td>26.0</td>\n",
       "    </tr>\n",
       "    <tr>\n",
       "      <th>27</th>\n",
       "      <td>27</td>\n",
       "      <td>28.0</td>\n",
       "      <td>2017-10-06 16:44:27</td>\n",
       "      <td>-0.199</td>\n",
       "      <td>-0.977</td>\n",
       "      <td>-0.004</td>\n",
       "      <td>-0.191</td>\n",
       "      <td>-0.969</td>\n",
       "      <td>0.000</td>\n",
       "      <td>-0.195</td>\n",
       "      <td>...</td>\n",
       "      <td>0.172</td>\n",
       "      <td>-0.637</td>\n",
       "      <td>-0.688</td>\n",
       "      <td>0.184</td>\n",
       "      <td>28.0</td>\n",
       "      <td>H_AM01DO1_M</td>\n",
       "      <td>13-01-2018</td>\n",
       "      <td>active</td>\n",
       "      <td>non-sedentary</td>\n",
       "      <td>27.0</td>\n",
       "    </tr>\n",
       "    <tr>\n",
       "      <th>28</th>\n",
       "      <td>28</td>\n",
       "      <td>29.0</td>\n",
       "      <td>2017-10-06 16:44:28</td>\n",
       "      <td>-0.691</td>\n",
       "      <td>-0.660</td>\n",
       "      <td>0.180</td>\n",
       "      <td>-0.676</td>\n",
       "      <td>-0.586</td>\n",
       "      <td>0.148</td>\n",
       "      <td>-0.633</td>\n",
       "      <td>...</td>\n",
       "      <td>0.047</td>\n",
       "      <td>-0.371</td>\n",
       "      <td>-0.762</td>\n",
       "      <td>-0.043</td>\n",
       "      <td>29.0</td>\n",
       "      <td>H_AM01DO1_M</td>\n",
       "      <td>13-01-2018</td>\n",
       "      <td>active</td>\n",
       "      <td>non-sedentary</td>\n",
       "      <td>28.0</td>\n",
       "    </tr>\n",
       "    <tr>\n",
       "      <th>29</th>\n",
       "      <td>29</td>\n",
       "      <td>30.0</td>\n",
       "      <td>2017-10-06 16:44:29</td>\n",
       "      <td>-0.648</td>\n",
       "      <td>-0.949</td>\n",
       "      <td>-0.027</td>\n",
       "      <td>-1.035</td>\n",
       "      <td>-1.094</td>\n",
       "      <td>0.078</td>\n",
       "      <td>-1.438</td>\n",
       "      <td>...</td>\n",
       "      <td>-0.086</td>\n",
       "      <td>-0.285</td>\n",
       "      <td>-1.070</td>\n",
       "      <td>-0.078</td>\n",
       "      <td>30.0</td>\n",
       "      <td>H_AM01DO1_M</td>\n",
       "      <td>13-01-2018</td>\n",
       "      <td>active</td>\n",
       "      <td>non-sedentary</td>\n",
       "      <td>29.0</td>\n",
       "    </tr>\n",
       "    <tr>\n",
       "      <th>...</th>\n",
       "      <td>...</td>\n",
       "      <td>...</td>\n",
       "      <td>...</td>\n",
       "      <td>...</td>\n",
       "      <td>...</td>\n",
       "      <td>...</td>\n",
       "      <td>...</td>\n",
       "      <td>...</td>\n",
       "      <td>...</td>\n",
       "      <td>...</td>\n",
       "      <td>...</td>\n",
       "      <td>...</td>\n",
       "      <td>...</td>\n",
       "      <td>...</td>\n",
       "      <td>...</td>\n",
       "      <td>...</td>\n",
       "      <td>...</td>\n",
       "      <td>...</td>\n",
       "      <td>...</td>\n",
       "      <td>...</td>\n",
       "      <td>...</td>\n",
       "    </tr>\n",
       "    <tr>\n",
       "      <th>100375</th>\n",
       "      <td>7171</td>\n",
       "      <td>7172.0</td>\n",
       "      <td>2017-09-23 11:12:31</td>\n",
       "      <td>0.477</td>\n",
       "      <td>0.523</td>\n",
       "      <td>-0.859</td>\n",
       "      <td>0.332</td>\n",
       "      <td>0.574</td>\n",
       "      <td>-0.910</td>\n",
       "      <td>0.309</td>\n",
       "      <td>...</td>\n",
       "      <td>-0.859</td>\n",
       "      <td>0.090</td>\n",
       "      <td>0.625</td>\n",
       "      <td>-0.879</td>\n",
       "      <td>7172.0</td>\n",
       "      <td>E_AM14DO2_M</td>\n",
       "      <td>21-01-2018</td>\n",
       "      <td>active</td>\n",
       "      <td>non-sedentary</td>\n",
       "      <td>7171.0</td>\n",
       "    </tr>\n",
       "    <tr>\n",
       "      <th>100376</th>\n",
       "      <td>7172</td>\n",
       "      <td>7173.0</td>\n",
       "      <td>2017-09-23 11:12:32</td>\n",
       "      <td>0.039</td>\n",
       "      <td>0.625</td>\n",
       "      <td>-0.867</td>\n",
       "      <td>0.023</td>\n",
       "      <td>0.594</td>\n",
       "      <td>-0.844</td>\n",
       "      <td>0.090</td>\n",
       "      <td>...</td>\n",
       "      <td>-0.195</td>\n",
       "      <td>0.547</td>\n",
       "      <td>0.824</td>\n",
       "      <td>-0.176</td>\n",
       "      <td>7173.0</td>\n",
       "      <td>E_AM14DO2_M</td>\n",
       "      <td>21-01-2018</td>\n",
       "      <td>active</td>\n",
       "      <td>non-sedentary</td>\n",
       "      <td>7172.0</td>\n",
       "    </tr>\n",
       "    <tr>\n",
       "      <th>100377</th>\n",
       "      <td>7173</td>\n",
       "      <td>7174.0</td>\n",
       "      <td>2017-09-23 11:12:33</td>\n",
       "      <td>0.586</td>\n",
       "      <td>0.918</td>\n",
       "      <td>-0.215</td>\n",
       "      <td>0.676</td>\n",
       "      <td>0.957</td>\n",
       "      <td>-0.293</td>\n",
       "      <td>0.793</td>\n",
       "      <td>...</td>\n",
       "      <td>0.047</td>\n",
       "      <td>0.543</td>\n",
       "      <td>0.766</td>\n",
       "      <td>0.078</td>\n",
       "      <td>7174.0</td>\n",
       "      <td>E_AM14DO2_M</td>\n",
       "      <td>21-01-2018</td>\n",
       "      <td>active</td>\n",
       "      <td>non-sedentary</td>\n",
       "      <td>7173.0</td>\n",
       "    </tr>\n",
       "    <tr>\n",
       "      <th>100378</th>\n",
       "      <td>7174</td>\n",
       "      <td>7175.0</td>\n",
       "      <td>2017-09-23 11:12:34</td>\n",
       "      <td>0.492</td>\n",
       "      <td>0.805</td>\n",
       "      <td>0.105</td>\n",
       "      <td>0.469</td>\n",
       "      <td>0.816</td>\n",
       "      <td>0.117</td>\n",
       "      <td>0.461</td>\n",
       "      <td>...</td>\n",
       "      <td>-0.090</td>\n",
       "      <td>0.402</td>\n",
       "      <td>0.887</td>\n",
       "      <td>-0.094</td>\n",
       "      <td>7175.0</td>\n",
       "      <td>E_AM14DO2_M</td>\n",
       "      <td>21-01-2018</td>\n",
       "      <td>active</td>\n",
       "      <td>non-sedentary</td>\n",
       "      <td>7174.0</td>\n",
       "    </tr>\n",
       "    <tr>\n",
       "      <th>100379</th>\n",
       "      <td>7175</td>\n",
       "      <td>7176.0</td>\n",
       "      <td>2017-09-23 11:12:35</td>\n",
       "      <td>0.410</td>\n",
       "      <td>0.891</td>\n",
       "      <td>-0.102</td>\n",
       "      <td>0.414</td>\n",
       "      <td>0.879</td>\n",
       "      <td>-0.098</td>\n",
       "      <td>0.418</td>\n",
       "      <td>...</td>\n",
       "      <td>-0.168</td>\n",
       "      <td>0.141</td>\n",
       "      <td>1.008</td>\n",
       "      <td>-0.176</td>\n",
       "      <td>7176.0</td>\n",
       "      <td>E_AM14DO2_M</td>\n",
       "      <td>21-01-2018</td>\n",
       "      <td>active</td>\n",
       "      <td>non-sedentary</td>\n",
       "      <td>7175.0</td>\n",
       "    </tr>\n",
       "    <tr>\n",
       "      <th>100380</th>\n",
       "      <td>7176</td>\n",
       "      <td>7177.0</td>\n",
       "      <td>2017-09-23 11:12:36</td>\n",
       "      <td>0.152</td>\n",
       "      <td>1.016</td>\n",
       "      <td>-0.191</td>\n",
       "      <td>0.164</td>\n",
       "      <td>1.016</td>\n",
       "      <td>-0.199</td>\n",
       "      <td>0.188</td>\n",
       "      <td>...</td>\n",
       "      <td>-0.320</td>\n",
       "      <td>-0.008</td>\n",
       "      <td>1.133</td>\n",
       "      <td>-0.336</td>\n",
       "      <td>7177.0</td>\n",
       "      <td>E_AM14DO2_M</td>\n",
       "      <td>21-01-2018</td>\n",
       "      <td>active</td>\n",
       "      <td>non-sedentary</td>\n",
       "      <td>7176.0</td>\n",
       "    </tr>\n",
       "    <tr>\n",
       "      <th>100381</th>\n",
       "      <td>7177</td>\n",
       "      <td>7178.0</td>\n",
       "      <td>2017-09-23 11:12:37</td>\n",
       "      <td>-0.035</td>\n",
       "      <td>1.078</td>\n",
       "      <td>-0.371</td>\n",
       "      <td>-0.059</td>\n",
       "      <td>1.020</td>\n",
       "      <td>-0.395</td>\n",
       "      <td>-0.082</td>\n",
       "      <td>...</td>\n",
       "      <td>-0.645</td>\n",
       "      <td>0.094</td>\n",
       "      <td>0.781</td>\n",
       "      <td>-0.641</td>\n",
       "      <td>7178.0</td>\n",
       "      <td>E_AM14DO2_M</td>\n",
       "      <td>21-01-2018</td>\n",
       "      <td>active</td>\n",
       "      <td>non-sedentary</td>\n",
       "      <td>7177.0</td>\n",
       "    </tr>\n",
       "    <tr>\n",
       "      <th>100382</th>\n",
       "      <td>7178</td>\n",
       "      <td>7179.0</td>\n",
       "      <td>2017-09-23 11:12:38</td>\n",
       "      <td>0.098</td>\n",
       "      <td>0.785</td>\n",
       "      <td>-0.641</td>\n",
       "      <td>0.094</td>\n",
       "      <td>0.770</td>\n",
       "      <td>-0.641</td>\n",
       "      <td>0.094</td>\n",
       "      <td>...</td>\n",
       "      <td>-0.539</td>\n",
       "      <td>0.102</td>\n",
       "      <td>0.738</td>\n",
       "      <td>-0.527</td>\n",
       "      <td>7179.0</td>\n",
       "      <td>E_AM14DO2_M</td>\n",
       "      <td>21-01-2018</td>\n",
       "      <td>active</td>\n",
       "      <td>non-sedentary</td>\n",
       "      <td>7178.0</td>\n",
       "    </tr>\n",
       "    <tr>\n",
       "      <th>100383</th>\n",
       "      <td>7179</td>\n",
       "      <td>7180.0</td>\n",
       "      <td>2017-09-23 11:12:39</td>\n",
       "      <td>0.121</td>\n",
       "      <td>0.766</td>\n",
       "      <td>-0.516</td>\n",
       "      <td>0.129</td>\n",
       "      <td>0.797</td>\n",
       "      <td>-0.512</td>\n",
       "      <td>0.145</td>\n",
       "      <td>...</td>\n",
       "      <td>-0.496</td>\n",
       "      <td>0.363</td>\n",
       "      <td>0.797</td>\n",
       "      <td>-0.492</td>\n",
       "      <td>7180.0</td>\n",
       "      <td>E_AM14DO2_M</td>\n",
       "      <td>21-01-2018</td>\n",
       "      <td>active</td>\n",
       "      <td>non-sedentary</td>\n",
       "      <td>7179.0</td>\n",
       "    </tr>\n",
       "    <tr>\n",
       "      <th>100384</th>\n",
       "      <td>7180</td>\n",
       "      <td>7181.0</td>\n",
       "      <td>2017-09-23 11:12:40</td>\n",
       "      <td>0.367</td>\n",
       "      <td>0.805</td>\n",
       "      <td>-0.488</td>\n",
       "      <td>0.359</td>\n",
       "      <td>0.801</td>\n",
       "      <td>-0.484</td>\n",
       "      <td>0.359</td>\n",
       "      <td>...</td>\n",
       "      <td>-0.473</td>\n",
       "      <td>0.191</td>\n",
       "      <td>0.871</td>\n",
       "      <td>-0.473</td>\n",
       "      <td>7181.0</td>\n",
       "      <td>E_AM14DO2_M</td>\n",
       "      <td>21-01-2018</td>\n",
       "      <td>active</td>\n",
       "      <td>non-sedentary</td>\n",
       "      <td>7180.0</td>\n",
       "    </tr>\n",
       "    <tr>\n",
       "      <th>100385</th>\n",
       "      <td>7181</td>\n",
       "      <td>7182.0</td>\n",
       "      <td>2017-09-23 11:12:41</td>\n",
       "      <td>0.199</td>\n",
       "      <td>0.891</td>\n",
       "      <td>-0.473</td>\n",
       "      <td>0.207</td>\n",
       "      <td>0.887</td>\n",
       "      <td>-0.469</td>\n",
       "      <td>0.215</td>\n",
       "      <td>...</td>\n",
       "      <td>-0.449</td>\n",
       "      <td>0.277</td>\n",
       "      <td>0.855</td>\n",
       "      <td>-0.449</td>\n",
       "      <td>7182.0</td>\n",
       "      <td>E_AM14DO2_M</td>\n",
       "      <td>21-01-2018</td>\n",
       "      <td>active</td>\n",
       "      <td>non-sedentary</td>\n",
       "      <td>7181.0</td>\n",
       "    </tr>\n",
       "    <tr>\n",
       "      <th>100386</th>\n",
       "      <td>7182</td>\n",
       "      <td>7183.0</td>\n",
       "      <td>2017-09-23 11:12:42</td>\n",
       "      <td>0.281</td>\n",
       "      <td>0.867</td>\n",
       "      <td>-0.445</td>\n",
       "      <td>0.281</td>\n",
       "      <td>0.859</td>\n",
       "      <td>-0.441</td>\n",
       "      <td>0.289</td>\n",
       "      <td>...</td>\n",
       "      <td>0.012</td>\n",
       "      <td>0.527</td>\n",
       "      <td>1.258</td>\n",
       "      <td>-0.008</td>\n",
       "      <td>7183.0</td>\n",
       "      <td>E_AM14DO2_M</td>\n",
       "      <td>21-01-2018</td>\n",
       "      <td>active</td>\n",
       "      <td>non-sedentary</td>\n",
       "      <td>7182.0</td>\n",
       "    </tr>\n",
       "    <tr>\n",
       "      <th>100387</th>\n",
       "      <td>7183</td>\n",
       "      <td>7184.0</td>\n",
       "      <td>2017-09-23 11:12:43</td>\n",
       "      <td>0.543</td>\n",
       "      <td>1.207</td>\n",
       "      <td>-0.008</td>\n",
       "      <td>0.504</td>\n",
       "      <td>1.117</td>\n",
       "      <td>0.012</td>\n",
       "      <td>0.453</td>\n",
       "      <td>...</td>\n",
       "      <td>0.082</td>\n",
       "      <td>0.391</td>\n",
       "      <td>0.844</td>\n",
       "      <td>0.078</td>\n",
       "      <td>7184.0</td>\n",
       "      <td>E_AM14DO2_M</td>\n",
       "      <td>21-01-2018</td>\n",
       "      <td>active</td>\n",
       "      <td>non-sedentary</td>\n",
       "      <td>7183.0</td>\n",
       "    </tr>\n",
       "    <tr>\n",
       "      <th>100388</th>\n",
       "      <td>7184</td>\n",
       "      <td>7185.0</td>\n",
       "      <td>2017-09-23 11:12:44</td>\n",
       "      <td>0.391</td>\n",
       "      <td>0.867</td>\n",
       "      <td>0.070</td>\n",
       "      <td>0.387</td>\n",
       "      <td>0.867</td>\n",
       "      <td>0.051</td>\n",
       "      <td>0.391</td>\n",
       "      <td>...</td>\n",
       "      <td>0.137</td>\n",
       "      <td>0.414</td>\n",
       "      <td>0.977</td>\n",
       "      <td>0.133</td>\n",
       "      <td>7185.0</td>\n",
       "      <td>E_AM14DO2_M</td>\n",
       "      <td>21-01-2018</td>\n",
       "      <td>active</td>\n",
       "      <td>non-sedentary</td>\n",
       "      <td>7184.0</td>\n",
       "    </tr>\n",
       "    <tr>\n",
       "      <th>100389</th>\n",
       "      <td>7185</td>\n",
       "      <td>7186.0</td>\n",
       "      <td>2017-09-23 11:12:45</td>\n",
       "      <td>0.352</td>\n",
       "      <td>0.941</td>\n",
       "      <td>0.113</td>\n",
       "      <td>0.297</td>\n",
       "      <td>0.895</td>\n",
       "      <td>0.098</td>\n",
       "      <td>0.277</td>\n",
       "      <td>...</td>\n",
       "      <td>-0.027</td>\n",
       "      <td>0.523</td>\n",
       "      <td>1.277</td>\n",
       "      <td>-0.012</td>\n",
       "      <td>7186.0</td>\n",
       "      <td>E_AM14DO2_M</td>\n",
       "      <td>21-01-2018</td>\n",
       "      <td>active</td>\n",
       "      <td>non-sedentary</td>\n",
       "      <td>7185.0</td>\n",
       "    </tr>\n",
       "    <tr>\n",
       "      <th>100390</th>\n",
       "      <td>7186</td>\n",
       "      <td>7187.0</td>\n",
       "      <td>2017-09-23 11:12:46</td>\n",
       "      <td>0.578</td>\n",
       "      <td>1.410</td>\n",
       "      <td>0.008</td>\n",
       "      <td>0.598</td>\n",
       "      <td>1.441</td>\n",
       "      <td>0.031</td>\n",
       "      <td>0.590</td>\n",
       "      <td>...</td>\n",
       "      <td>0.016</td>\n",
       "      <td>0.449</td>\n",
       "      <td>0.996</td>\n",
       "      <td>0.023</td>\n",
       "      <td>7187.0</td>\n",
       "      <td>E_AM14DO2_M</td>\n",
       "      <td>21-01-2018</td>\n",
       "      <td>active</td>\n",
       "      <td>non-sedentary</td>\n",
       "      <td>7186.0</td>\n",
       "    </tr>\n",
       "    <tr>\n",
       "      <th>100391</th>\n",
       "      <td>7187</td>\n",
       "      <td>7188.0</td>\n",
       "      <td>2017-09-23 11:12:47</td>\n",
       "      <td>0.402</td>\n",
       "      <td>1.004</td>\n",
       "      <td>0.035</td>\n",
       "      <td>0.332</td>\n",
       "      <td>0.996</td>\n",
       "      <td>0.035</td>\n",
       "      <td>0.289</td>\n",
       "      <td>...</td>\n",
       "      <td>0.008</td>\n",
       "      <td>0.203</td>\n",
       "      <td>0.988</td>\n",
       "      <td>0.004</td>\n",
       "      <td>7188.0</td>\n",
       "      <td>E_AM14DO2_M</td>\n",
       "      <td>21-01-2018</td>\n",
       "      <td>active</td>\n",
       "      <td>non-sedentary</td>\n",
       "      <td>7187.0</td>\n",
       "    </tr>\n",
       "    <tr>\n",
       "      <th>100392</th>\n",
       "      <td>7188</td>\n",
       "      <td>7189.0</td>\n",
       "      <td>2017-09-23 11:12:48</td>\n",
       "      <td>0.191</td>\n",
       "      <td>1.000</td>\n",
       "      <td>0.004</td>\n",
       "      <td>0.168</td>\n",
       "      <td>1.000</td>\n",
       "      <td>0.012</td>\n",
       "      <td>0.164</td>\n",
       "      <td>...</td>\n",
       "      <td>0.031</td>\n",
       "      <td>0.074</td>\n",
       "      <td>0.977</td>\n",
       "      <td>0.035</td>\n",
       "      <td>7189.0</td>\n",
       "      <td>E_AM14DO2_M</td>\n",
       "      <td>21-01-2018</td>\n",
       "      <td>active</td>\n",
       "      <td>non-sedentary</td>\n",
       "      <td>7188.0</td>\n",
       "    </tr>\n",
       "    <tr>\n",
       "      <th>100393</th>\n",
       "      <td>7189</td>\n",
       "      <td>7190.0</td>\n",
       "      <td>2017-09-23 11:12:49</td>\n",
       "      <td>0.082</td>\n",
       "      <td>0.969</td>\n",
       "      <td>0.047</td>\n",
       "      <td>0.082</td>\n",
       "      <td>0.957</td>\n",
       "      <td>0.063</td>\n",
       "      <td>0.094</td>\n",
       "      <td>...</td>\n",
       "      <td>0.129</td>\n",
       "      <td>0.086</td>\n",
       "      <td>0.945</td>\n",
       "      <td>0.160</td>\n",
       "      <td>7190.0</td>\n",
       "      <td>E_AM14DO2_M</td>\n",
       "      <td>21-01-2018</td>\n",
       "      <td>active</td>\n",
       "      <td>non-sedentary</td>\n",
       "      <td>7189.0</td>\n",
       "    </tr>\n",
       "    <tr>\n",
       "      <th>100394</th>\n",
       "      <td>7190</td>\n",
       "      <td>7191.0</td>\n",
       "      <td>2017-09-23 11:12:50</td>\n",
       "      <td>0.125</td>\n",
       "      <td>0.906</td>\n",
       "      <td>0.191</td>\n",
       "      <td>0.152</td>\n",
       "      <td>0.879</td>\n",
       "      <td>0.223</td>\n",
       "      <td>0.188</td>\n",
       "      <td>...</td>\n",
       "      <td>-0.199</td>\n",
       "      <td>0.344</td>\n",
       "      <td>1.082</td>\n",
       "      <td>-0.191</td>\n",
       "      <td>7191.0</td>\n",
       "      <td>E_AM14DO2_M</td>\n",
       "      <td>21-01-2018</td>\n",
       "      <td>active</td>\n",
       "      <td>non-sedentary</td>\n",
       "      <td>7190.0</td>\n",
       "    </tr>\n",
       "    <tr>\n",
       "      <th>100395</th>\n",
       "      <td>7191</td>\n",
       "      <td>7192.0</td>\n",
       "      <td>2017-09-23 11:12:51</td>\n",
       "      <td>0.320</td>\n",
       "      <td>1.113</td>\n",
       "      <td>-0.172</td>\n",
       "      <td>0.281</td>\n",
       "      <td>1.109</td>\n",
       "      <td>-0.164</td>\n",
       "      <td>0.250</td>\n",
       "      <td>...</td>\n",
       "      <td>-0.273</td>\n",
       "      <td>0.910</td>\n",
       "      <td>0.164</td>\n",
       "      <td>-0.277</td>\n",
       "      <td>7192.0</td>\n",
       "      <td>E_AM14DO2_M</td>\n",
       "      <td>21-01-2018</td>\n",
       "      <td>active</td>\n",
       "      <td>non-sedentary</td>\n",
       "      <td>7191.0</td>\n",
       "    </tr>\n",
       "    <tr>\n",
       "      <th>100396</th>\n",
       "      <td>7192</td>\n",
       "      <td>7193.0</td>\n",
       "      <td>2017-09-23 11:12:52</td>\n",
       "      <td>0.902</td>\n",
       "      <td>0.203</td>\n",
       "      <td>-0.301</td>\n",
       "      <td>0.875</td>\n",
       "      <td>0.219</td>\n",
       "      <td>-0.332</td>\n",
       "      <td>0.898</td>\n",
       "      <td>...</td>\n",
       "      <td>-0.074</td>\n",
       "      <td>1.000</td>\n",
       "      <td>-0.102</td>\n",
       "      <td>-0.090</td>\n",
       "      <td>7193.0</td>\n",
       "      <td>E_AM14DO2_M</td>\n",
       "      <td>21-01-2018</td>\n",
       "      <td>active</td>\n",
       "      <td>non-sedentary</td>\n",
       "      <td>7192.0</td>\n",
       "    </tr>\n",
       "    <tr>\n",
       "      <th>100397</th>\n",
       "      <td>7193</td>\n",
       "      <td>7194.0</td>\n",
       "      <td>2017-09-23 11:12:53</td>\n",
       "      <td>1.023</td>\n",
       "      <td>-0.051</td>\n",
       "      <td>-0.098</td>\n",
       "      <td>0.965</td>\n",
       "      <td>-0.047</td>\n",
       "      <td>-0.141</td>\n",
       "      <td>0.973</td>\n",
       "      <td>...</td>\n",
       "      <td>-0.066</td>\n",
       "      <td>1.016</td>\n",
       "      <td>-0.027</td>\n",
       "      <td>-0.055</td>\n",
       "      <td>7194.0</td>\n",
       "      <td>E_AM14DO2_M</td>\n",
       "      <td>21-01-2018</td>\n",
       "      <td>active</td>\n",
       "      <td>non-sedentary</td>\n",
       "      <td>7193.0</td>\n",
       "    </tr>\n",
       "    <tr>\n",
       "      <th>100398</th>\n",
       "      <td>7194</td>\n",
       "      <td>7195.0</td>\n",
       "      <td>2017-09-23 11:12:54</td>\n",
       "      <td>1.016</td>\n",
       "      <td>-0.016</td>\n",
       "      <td>-0.070</td>\n",
       "      <td>1.031</td>\n",
       "      <td>-0.008</td>\n",
       "      <td>-0.039</td>\n",
       "      <td>1.039</td>\n",
       "      <td>...</td>\n",
       "      <td>0.172</td>\n",
       "      <td>1.020</td>\n",
       "      <td>0.246</td>\n",
       "      <td>0.148</td>\n",
       "      <td>7195.0</td>\n",
       "      <td>E_AM14DO2_M</td>\n",
       "      <td>21-01-2018</td>\n",
       "      <td>active</td>\n",
       "      <td>non-sedentary</td>\n",
       "      <td>7194.0</td>\n",
       "    </tr>\n",
       "    <tr>\n",
       "      <th>100399</th>\n",
       "      <td>7195</td>\n",
       "      <td>7196.0</td>\n",
       "      <td>2017-09-23 11:12:55</td>\n",
       "      <td>1.016</td>\n",
       "      <td>0.242</td>\n",
       "      <td>0.129</td>\n",
       "      <td>0.973</td>\n",
       "      <td>0.242</td>\n",
       "      <td>0.137</td>\n",
       "      <td>1.004</td>\n",
       "      <td>...</td>\n",
       "      <td>-0.051</td>\n",
       "      <td>0.980</td>\n",
       "      <td>0.176</td>\n",
       "      <td>-0.051</td>\n",
       "      <td>7196.0</td>\n",
       "      <td>E_AM14DO2_M</td>\n",
       "      <td>21-01-2018</td>\n",
       "      <td>active</td>\n",
       "      <td>non-sedentary</td>\n",
       "      <td>7195.0</td>\n",
       "    </tr>\n",
       "    <tr>\n",
       "      <th>100400</th>\n",
       "      <td>7196</td>\n",
       "      <td>7197.0</td>\n",
       "      <td>2017-09-23 11:12:56</td>\n",
       "      <td>0.984</td>\n",
       "      <td>0.191</td>\n",
       "      <td>-0.047</td>\n",
       "      <td>0.980</td>\n",
       "      <td>0.188</td>\n",
       "      <td>-0.047</td>\n",
       "      <td>0.988</td>\n",
       "      <td>...</td>\n",
       "      <td>-0.168</td>\n",
       "      <td>0.938</td>\n",
       "      <td>0.168</td>\n",
       "      <td>-0.176</td>\n",
       "      <td>7197.0</td>\n",
       "      <td>E_AM14DO2_M</td>\n",
       "      <td>21-01-2018</td>\n",
       "      <td>active</td>\n",
       "      <td>non-sedentary</td>\n",
       "      <td>7196.0</td>\n",
       "    </tr>\n",
       "    <tr>\n",
       "      <th>100401</th>\n",
       "      <td>7197</td>\n",
       "      <td>7198.0</td>\n",
       "      <td>2017-09-23 11:12:57</td>\n",
       "      <td>0.961</td>\n",
       "      <td>0.168</td>\n",
       "      <td>-0.176</td>\n",
       "      <td>0.945</td>\n",
       "      <td>0.164</td>\n",
       "      <td>-0.168</td>\n",
       "      <td>0.949</td>\n",
       "      <td>...</td>\n",
       "      <td>-0.293</td>\n",
       "      <td>0.770</td>\n",
       "      <td>-0.250</td>\n",
       "      <td>-0.289</td>\n",
       "      <td>7198.0</td>\n",
       "      <td>E_AM14DO2_M</td>\n",
       "      <td>21-01-2018</td>\n",
       "      <td>active</td>\n",
       "      <td>non-sedentary</td>\n",
       "      <td>7197.0</td>\n",
       "    </tr>\n",
       "    <tr>\n",
       "      <th>100402</th>\n",
       "      <td>7198</td>\n",
       "      <td>7199.0</td>\n",
       "      <td>2017-09-23 11:12:58</td>\n",
       "      <td>0.820</td>\n",
       "      <td>-0.219</td>\n",
       "      <td>-0.270</td>\n",
       "      <td>0.863</td>\n",
       "      <td>-0.219</td>\n",
       "      <td>-0.254</td>\n",
       "      <td>0.871</td>\n",
       "      <td>...</td>\n",
       "      <td>0.008</td>\n",
       "      <td>1.059</td>\n",
       "      <td>0.035</td>\n",
       "      <td>-0.039</td>\n",
       "      <td>7199.0</td>\n",
       "      <td>E_AM14DO2_M</td>\n",
       "      <td>21-01-2018</td>\n",
       "      <td>active</td>\n",
       "      <td>non-sedentary</td>\n",
       "      <td>7198.0</td>\n",
       "    </tr>\n",
       "    <tr>\n",
       "      <th>100403</th>\n",
       "      <td>7199</td>\n",
       "      <td>7200.0</td>\n",
       "      <td>2017-09-23 11:12:59</td>\n",
       "      <td>1.055</td>\n",
       "      <td>0.027</td>\n",
       "      <td>-0.086</td>\n",
       "      <td>1.020</td>\n",
       "      <td>0.000</td>\n",
       "      <td>-0.098</td>\n",
       "      <td>1.055</td>\n",
       "      <td>...</td>\n",
       "      <td>0.125</td>\n",
       "      <td>0.926</td>\n",
       "      <td>0.484</td>\n",
       "      <td>0.098</td>\n",
       "      <td>7200.0</td>\n",
       "      <td>E_AM14DO2_M</td>\n",
       "      <td>21-01-2018</td>\n",
       "      <td>active</td>\n",
       "      <td>non-sedentary</td>\n",
       "      <td>7199.0</td>\n",
       "    </tr>\n",
       "    <tr>\n",
       "      <th>100404</th>\n",
       "      <td>7200</td>\n",
       "      <td>7201.0</td>\n",
       "      <td>2017-09-23 11:13:00</td>\n",
       "      <td>0.918</td>\n",
       "      <td>0.492</td>\n",
       "      <td>0.074</td>\n",
       "      <td>0.863</td>\n",
       "      <td>0.500</td>\n",
       "      <td>0.043</td>\n",
       "      <td>0.785</td>\n",
       "      <td>...</td>\n",
       "      <td>1.328</td>\n",
       "      <td>0.617</td>\n",
       "      <td>0.316</td>\n",
       "      <td>1.195</td>\n",
       "      <td>7201.0</td>\n",
       "      <td>E_AM14DO2_M</td>\n",
       "      <td>21-01-2018</td>\n",
       "      <td>active</td>\n",
       "      <td>non-sedentary</td>\n",
       "      <td>7200.0</td>\n",
       "    </tr>\n",
       "  </tbody>\n",
       "</table>\n",
       "<p>100405 rows × 249 columns</p>\n",
       "</div>"
      ],
      "text/plain": [
       "        Unnamed: 0  Unnamed: 0.1                   X1     X2     X3     X4  \\\n",
       "0                0           1.0  2017-10-06 16:44:00 -0.191 -0.711 -0.660   \n",
       "1                1           2.0  2017-10-06 16:44:01 -0.254 -0.715 -0.645   \n",
       "2                2           3.0  2017-10-06 16:44:02  0.063 -0.715 -0.719   \n",
       "3                3           4.0  2017-10-06 16:44:03 -0.773  0.180 -0.305   \n",
       "4                4           5.0  2017-10-06 16:44:04 -1.031  0.332 -0.160   \n",
       "5                5           6.0  2017-10-06 16:44:05 -0.602  0.621  0.125   \n",
       "6                6           7.0  2017-10-06 16:44:06 -0.602  0.891 -0.195   \n",
       "7                7           8.0  2017-10-06 16:44:07 -0.680  0.719  0.586   \n",
       "8                8           9.0  2017-10-06 16:44:08 -0.895  0.363  0.422   \n",
       "9                9          10.0  2017-10-06 16:44:09 -0.859  0.391  0.441   \n",
       "10              10          11.0  2017-10-06 16:44:10 -0.801  0.492  0.422   \n",
       "11              11          12.0  2017-10-06 16:44:11 -0.824  0.434  0.367   \n",
       "12              12          13.0  2017-10-06 16:44:12 -0.863  0.414  0.371   \n",
       "13              13          14.0  2017-10-06 16:44:13 -0.867  0.406  0.391   \n",
       "14              14          15.0  2017-10-06 16:44:14 -0.836  0.395  0.395   \n",
       "15              15          16.0  2017-10-06 16:44:15 -0.875  0.426  0.383   \n",
       "16              16          17.0  2017-10-06 16:44:16 -0.820  0.395  0.410   \n",
       "17              17          18.0  2017-10-06 16:44:17 -0.809  0.555  0.324   \n",
       "18              18          19.0  2017-10-06 16:44:18 -0.586  0.844  0.059   \n",
       "19              19          20.0  2017-10-06 16:44:19 -0.512  0.758  0.145   \n",
       "20              20          21.0  2017-10-06 16:44:20 -0.453 -0.945  0.336   \n",
       "21              21          22.0  2017-10-06 16:44:21 -0.176 -0.984 -0.023   \n",
       "22              22          23.0  2017-10-06 16:44:22 -0.211 -0.965 -0.023   \n",
       "23              23          24.0  2017-10-06 16:44:23 -0.211 -0.969 -0.020   \n",
       "24              24          25.0  2017-10-06 16:44:24 -0.199 -0.977 -0.020   \n",
       "25              25          26.0  2017-10-06 16:44:25 -0.211 -0.965 -0.016   \n",
       "26              26          27.0  2017-10-06 16:44:26 -0.207 -0.973 -0.020   \n",
       "27              27          28.0  2017-10-06 16:44:27 -0.199 -0.977 -0.004   \n",
       "28              28          29.0  2017-10-06 16:44:28 -0.691 -0.660  0.180   \n",
       "29              29          30.0  2017-10-06 16:44:29 -0.648 -0.949 -0.027   \n",
       "...            ...           ...                  ...    ...    ...    ...   \n",
       "100375        7171        7172.0  2017-09-23 11:12:31  0.477  0.523 -0.859   \n",
       "100376        7172        7173.0  2017-09-23 11:12:32  0.039  0.625 -0.867   \n",
       "100377        7173        7174.0  2017-09-23 11:12:33  0.586  0.918 -0.215   \n",
       "100378        7174        7175.0  2017-09-23 11:12:34  0.492  0.805  0.105   \n",
       "100379        7175        7176.0  2017-09-23 11:12:35  0.410  0.891 -0.102   \n",
       "100380        7176        7177.0  2017-09-23 11:12:36  0.152  1.016 -0.191   \n",
       "100381        7177        7178.0  2017-09-23 11:12:37 -0.035  1.078 -0.371   \n",
       "100382        7178        7179.0  2017-09-23 11:12:38  0.098  0.785 -0.641   \n",
       "100383        7179        7180.0  2017-09-23 11:12:39  0.121  0.766 -0.516   \n",
       "100384        7180        7181.0  2017-09-23 11:12:40  0.367  0.805 -0.488   \n",
       "100385        7181        7182.0  2017-09-23 11:12:41  0.199  0.891 -0.473   \n",
       "100386        7182        7183.0  2017-09-23 11:12:42  0.281  0.867 -0.445   \n",
       "100387        7183        7184.0  2017-09-23 11:12:43  0.543  1.207 -0.008   \n",
       "100388        7184        7185.0  2017-09-23 11:12:44  0.391  0.867  0.070   \n",
       "100389        7185        7186.0  2017-09-23 11:12:45  0.352  0.941  0.113   \n",
       "100390        7186        7187.0  2017-09-23 11:12:46  0.578  1.410  0.008   \n",
       "100391        7187        7188.0  2017-09-23 11:12:47  0.402  1.004  0.035   \n",
       "100392        7188        7189.0  2017-09-23 11:12:48  0.191  1.000  0.004   \n",
       "100393        7189        7190.0  2017-09-23 11:12:49  0.082  0.969  0.047   \n",
       "100394        7190        7191.0  2017-09-23 11:12:50  0.125  0.906  0.191   \n",
       "100395        7191        7192.0  2017-09-23 11:12:51  0.320  1.113 -0.172   \n",
       "100396        7192        7193.0  2017-09-23 11:12:52  0.902  0.203 -0.301   \n",
       "100397        7193        7194.0  2017-09-23 11:12:53  1.023 -0.051 -0.098   \n",
       "100398        7194        7195.0  2017-09-23 11:12:54  1.016 -0.016 -0.070   \n",
       "100399        7195        7196.0  2017-09-23 11:12:55  1.016  0.242  0.129   \n",
       "100400        7196        7197.0  2017-09-23 11:12:56  0.984  0.191 -0.047   \n",
       "100401        7197        7198.0  2017-09-23 11:12:57  0.961  0.168 -0.176   \n",
       "100402        7198        7199.0  2017-09-23 11:12:58  0.820 -0.219 -0.270   \n",
       "100403        7199        7200.0  2017-09-23 11:12:59  1.055  0.027 -0.086   \n",
       "100404        7200        7201.0  2017-09-23 11:13:00  0.918  0.492  0.074   \n",
       "\n",
       "           X5     X6     X7     X8   ...     X238   X239   X240   X241  \\\n",
       "0      -0.172 -0.715 -0.652 -0.207   ...   -0.648 -0.281 -0.730 -0.648   \n",
       "1      -0.266 -0.727 -0.637 -0.289   ...   -0.711  0.035 -0.707 -0.715   \n",
       "2       0.129 -0.695 -0.719  0.164   ...   -0.301 -0.828  0.180 -0.316   \n",
       "3      -0.754  0.219 -0.285 -0.777   ...   -0.160 -1.039  0.332 -0.156   \n",
       "4      -1.016  0.344 -0.164 -1.016   ...    0.105 -0.570  0.605  0.133   \n",
       "5      -0.605  0.617  0.070 -0.621   ...   -0.133 -0.609  0.918 -0.191   \n",
       "6      -0.512  0.914 -0.191 -0.441   ...    0.613 -0.680  0.727  0.598   \n",
       "7      -0.672  0.711  0.586 -0.648   ...    0.473 -0.867  0.359  0.434   \n",
       "8      -0.898  0.379  0.426 -0.879   ...    0.465 -0.875  0.398  0.445   \n",
       "9      -0.848  0.395  0.441 -0.848   ...    0.418 -0.801  0.496  0.422   \n",
       "10     -0.805  0.500  0.418 -0.824   ...    0.383 -0.824  0.438  0.379   \n",
       "11     -0.828  0.445  0.363 -0.836   ...    0.371 -0.863  0.418  0.367   \n",
       "12     -0.855  0.422  0.359 -0.848   ...    0.383 -0.859  0.410  0.383   \n",
       "13     -0.871  0.414  0.391 -0.875   ...    0.395 -0.844  0.402  0.395   \n",
       "14     -0.828  0.402  0.387 -0.828   ...    0.391 -0.871  0.426  0.383   \n",
       "15     -0.887  0.434  0.375 -0.895   ...    0.418 -0.820  0.395  0.414   \n",
       "16     -0.816  0.406  0.402 -0.824   ...    0.352 -0.832  0.559  0.344   \n",
       "17     -0.793  0.570  0.305 -0.793   ...    0.063 -0.563  0.848  0.070   \n",
       "18     -0.629  0.832  0.023 -0.688   ...    0.125 -0.531  0.770  0.141   \n",
       "19     -0.488  0.766  0.145 -0.480   ...    0.426 -0.484 -0.980  0.387   \n",
       "20     -0.402 -0.930  0.316 -0.363   ...   -0.023 -0.168 -0.980 -0.023   \n",
       "21     -0.172 -0.973 -0.023 -0.184   ...   -0.023 -0.215 -0.965 -0.020   \n",
       "22     -0.211 -0.961 -0.027 -0.215   ...   -0.023 -0.207 -0.969 -0.020   \n",
       "23     -0.215 -0.961 -0.023 -0.223   ...   -0.023 -0.203 -0.977 -0.020   \n",
       "24     -0.199 -0.965 -0.016 -0.207   ...   -0.020 -0.211 -0.973 -0.020   \n",
       "25     -0.207 -0.957 -0.023 -0.207   ...   -0.020 -0.199 -0.977 -0.016   \n",
       "26     -0.211 -0.957 -0.020 -0.215   ...   -0.008 -0.207 -0.973  0.000   \n",
       "27     -0.191 -0.969  0.000 -0.195   ...    0.172 -0.637 -0.688  0.184   \n",
       "28     -0.676 -0.586  0.148 -0.633   ...    0.047 -0.371 -0.762 -0.043   \n",
       "29     -1.035 -1.094  0.078 -1.438   ...   -0.086 -0.285 -1.070 -0.078   \n",
       "...       ...    ...    ...    ...   ...      ...    ...    ...    ...   \n",
       "100375  0.332  0.574 -0.910  0.309   ...   -0.859  0.090  0.625 -0.879   \n",
       "100376  0.023  0.594 -0.844  0.090   ...   -0.195  0.547  0.824 -0.176   \n",
       "100377  0.676  0.957 -0.293  0.793   ...    0.047  0.543  0.766  0.078   \n",
       "100378  0.469  0.816  0.117  0.461   ...   -0.090  0.402  0.887 -0.094   \n",
       "100379  0.414  0.879 -0.098  0.418   ...   -0.168  0.141  1.008 -0.176   \n",
       "100380  0.164  1.016 -0.199  0.188   ...   -0.320 -0.008  1.133 -0.336   \n",
       "100381 -0.059  1.020 -0.395 -0.082   ...   -0.645  0.094  0.781 -0.641   \n",
       "100382  0.094  0.770 -0.641  0.094   ...   -0.539  0.102  0.738 -0.527   \n",
       "100383  0.129  0.797 -0.512  0.145   ...   -0.496  0.363  0.797 -0.492   \n",
       "100384  0.359  0.801 -0.484  0.359   ...   -0.473  0.191  0.871 -0.473   \n",
       "100385  0.207  0.887 -0.469  0.215   ...   -0.449  0.277  0.855 -0.449   \n",
       "100386  0.281  0.859 -0.441  0.289   ...    0.012  0.527  1.258 -0.008   \n",
       "100387  0.504  1.117  0.012  0.453   ...    0.082  0.391  0.844  0.078   \n",
       "100388  0.387  0.867  0.051  0.391   ...    0.137  0.414  0.977  0.133   \n",
       "100389  0.297  0.895  0.098  0.277   ...   -0.027  0.523  1.277 -0.012   \n",
       "100390  0.598  1.441  0.031  0.590   ...    0.016  0.449  0.996  0.023   \n",
       "100391  0.332  0.996  0.035  0.289   ...    0.008  0.203  0.988  0.004   \n",
       "100392  0.168  1.000  0.012  0.164   ...    0.031  0.074  0.977  0.035   \n",
       "100393  0.082  0.957  0.063  0.094   ...    0.129  0.086  0.945  0.160   \n",
       "100394  0.152  0.879  0.223  0.188   ...   -0.199  0.344  1.082 -0.191   \n",
       "100395  0.281  1.109 -0.164  0.250   ...   -0.273  0.910  0.164 -0.277   \n",
       "100396  0.875  0.219 -0.332  0.898   ...   -0.074  1.000 -0.102 -0.090   \n",
       "100397  0.965 -0.047 -0.141  0.973   ...   -0.066  1.016 -0.027 -0.055   \n",
       "100398  1.031 -0.008 -0.039  1.039   ...    0.172  1.020  0.246  0.148   \n",
       "100399  0.973  0.242  0.137  1.004   ...   -0.051  0.980  0.176 -0.051   \n",
       "100400  0.980  0.188 -0.047  0.988   ...   -0.168  0.938  0.168 -0.176   \n",
       "100401  0.945  0.164 -0.168  0.949   ...   -0.293  0.770 -0.250 -0.289   \n",
       "100402  0.863 -0.219 -0.254  0.871   ...    0.008  1.059  0.035 -0.039   \n",
       "100403  1.020  0.000 -0.098  1.055   ...    0.125  0.926  0.484  0.098   \n",
       "100404  0.863  0.500  0.043  0.785   ...    1.328  0.617  0.316  1.195   \n",
       "\n",
       "        Unnamed: 0.2  observation        date  activity         coding    time  \n",
       "0                1.0  H_AM01DO1_M  13-01-2018    active  non-sedentary     0.0  \n",
       "1                2.0  H_AM01DO1_M  13-01-2018    active  non-sedentary     1.0  \n",
       "2                3.0  H_AM01DO1_M  13-01-2018    active  non-sedentary     2.0  \n",
       "3                4.0  H_AM01DO1_M  13-01-2018    active  non-sedentary     3.0  \n",
       "4                5.0  H_AM01DO1_M  13-01-2018    active  non-sedentary     4.0  \n",
       "5                6.0  H_AM01DO1_M  13-01-2018    active  non-sedentary     5.0  \n",
       "6                7.0  H_AM01DO1_M  13-01-2018    active  non-sedentary     6.0  \n",
       "7                8.0  H_AM01DO1_M  13-01-2018    active  non-sedentary     7.0  \n",
       "8                9.0  H_AM01DO1_M  13-01-2018    active  non-sedentary     8.0  \n",
       "9               10.0  H_AM01DO1_M  13-01-2018    active  non-sedentary     9.0  \n",
       "10              11.0  H_AM01DO1_M  13-01-2018    active  non-sedentary    10.0  \n",
       "11              12.0  H_AM01DO1_M  13-01-2018    active  non-sedentary    11.0  \n",
       "12              13.0  H_AM01DO1_M  13-01-2018    active  non-sedentary    12.0  \n",
       "13              14.0  H_AM01DO1_M  13-01-2018    active  non-sedentary    13.0  \n",
       "14              15.0  H_AM01DO1_M  13-01-2018    active  non-sedentary    14.0  \n",
       "15              16.0  H_AM01DO1_M  13-01-2018    active  non-sedentary    15.0  \n",
       "16              17.0  H_AM01DO1_M  13-01-2018    active  non-sedentary    16.0  \n",
       "17              18.0  H_AM01DO1_M  13-01-2018    active  non-sedentary    17.0  \n",
       "18              19.0  H_AM01DO1_M  13-01-2018    active  non-sedentary    18.0  \n",
       "19              20.0  H_AM01DO1_M  13-01-2018    active  non-sedentary    19.0  \n",
       "20              21.0  H_AM01DO1_M  13-01-2018    active  non-sedentary    20.0  \n",
       "21              22.0  H_AM01DO1_M  13-01-2018    active  non-sedentary    21.0  \n",
       "22              23.0  H_AM01DO1_M  13-01-2018    active  non-sedentary    22.0  \n",
       "23              24.0  H_AM01DO1_M  13-01-2018    active  non-sedentary    23.0  \n",
       "24              25.0  H_AM01DO1_M  13-01-2018    active  non-sedentary    24.0  \n",
       "25              26.0  H_AM01DO1_M  13-01-2018    active  non-sedentary    25.0  \n",
       "26              27.0  H_AM01DO1_M  13-01-2018    active  non-sedentary    26.0  \n",
       "27              28.0  H_AM01DO1_M  13-01-2018    active  non-sedentary    27.0  \n",
       "28              29.0  H_AM01DO1_M  13-01-2018    active  non-sedentary    28.0  \n",
       "29              30.0  H_AM01DO1_M  13-01-2018    active  non-sedentary    29.0  \n",
       "...              ...          ...         ...       ...            ...     ...  \n",
       "100375        7172.0  E_AM14DO2_M  21-01-2018    active  non-sedentary  7171.0  \n",
       "100376        7173.0  E_AM14DO2_M  21-01-2018    active  non-sedentary  7172.0  \n",
       "100377        7174.0  E_AM14DO2_M  21-01-2018    active  non-sedentary  7173.0  \n",
       "100378        7175.0  E_AM14DO2_M  21-01-2018    active  non-sedentary  7174.0  \n",
       "100379        7176.0  E_AM14DO2_M  21-01-2018    active  non-sedentary  7175.0  \n",
       "100380        7177.0  E_AM14DO2_M  21-01-2018    active  non-sedentary  7176.0  \n",
       "100381        7178.0  E_AM14DO2_M  21-01-2018    active  non-sedentary  7177.0  \n",
       "100382        7179.0  E_AM14DO2_M  21-01-2018    active  non-sedentary  7178.0  \n",
       "100383        7180.0  E_AM14DO2_M  21-01-2018    active  non-sedentary  7179.0  \n",
       "100384        7181.0  E_AM14DO2_M  21-01-2018    active  non-sedentary  7180.0  \n",
       "100385        7182.0  E_AM14DO2_M  21-01-2018    active  non-sedentary  7181.0  \n",
       "100386        7183.0  E_AM14DO2_M  21-01-2018    active  non-sedentary  7182.0  \n",
       "100387        7184.0  E_AM14DO2_M  21-01-2018    active  non-sedentary  7183.0  \n",
       "100388        7185.0  E_AM14DO2_M  21-01-2018    active  non-sedentary  7184.0  \n",
       "100389        7186.0  E_AM14DO2_M  21-01-2018    active  non-sedentary  7185.0  \n",
       "100390        7187.0  E_AM14DO2_M  21-01-2018    active  non-sedentary  7186.0  \n",
       "100391        7188.0  E_AM14DO2_M  21-01-2018    active  non-sedentary  7187.0  \n",
       "100392        7189.0  E_AM14DO2_M  21-01-2018    active  non-sedentary  7188.0  \n",
       "100393        7190.0  E_AM14DO2_M  21-01-2018    active  non-sedentary  7189.0  \n",
       "100394        7191.0  E_AM14DO2_M  21-01-2018    active  non-sedentary  7190.0  \n",
       "100395        7192.0  E_AM14DO2_M  21-01-2018    active  non-sedentary  7191.0  \n",
       "100396        7193.0  E_AM14DO2_M  21-01-2018    active  non-sedentary  7192.0  \n",
       "100397        7194.0  E_AM14DO2_M  21-01-2018    active  non-sedentary  7193.0  \n",
       "100398        7195.0  E_AM14DO2_M  21-01-2018    active  non-sedentary  7194.0  \n",
       "100399        7196.0  E_AM14DO2_M  21-01-2018    active  non-sedentary  7195.0  \n",
       "100400        7197.0  E_AM14DO2_M  21-01-2018    active  non-sedentary  7196.0  \n",
       "100401        7198.0  E_AM14DO2_M  21-01-2018    active  non-sedentary  7197.0  \n",
       "100402        7199.0  E_AM14DO2_M  21-01-2018    active  non-sedentary  7198.0  \n",
       "100403        7200.0  E_AM14DO2_M  21-01-2018    active  non-sedentary  7199.0  \n",
       "100404        7201.0  E_AM14DO2_M  21-01-2018    active  non-sedentary  7200.0  \n",
       "\n",
       "[100405 rows x 249 columns]"
      ]
     },
     "execution_count": 4,
     "metadata": {},
     "output_type": "execute_result"
    }
   ],
   "source": [
    "data"
   ]
  },
  {
   "cell_type": "code",
   "execution_count": 4,
   "metadata": {},
   "outputs": [],
   "source": [
    "data = data.sample(frac=1)"
   ]
  },
  {
   "cell_type": "code",
   "execution_count": 4,
   "metadata": {},
   "outputs": [],
   "source": [
    "X = data.iloc[:, [i for i in range(3, 243)]]\n",
    "criterion = data.iloc[:, [246]]"
   ]
  },
  {
   "cell_type": "code",
   "execution_count": 5,
   "metadata": {},
   "outputs": [],
   "source": [
    "## creating variables for x, y, z variables## crea \n",
    "x = []\n",
    "y = []\n",
    "z = []\n",
    "for i in range(2,242,3):\n",
    "    \n",
    "    x.append('X' + str(i))\n",
    "    y.append('X' + str(i+1))\n",
    "    z.append('X' + str(i+2))\n",
    "\n",
    "three_dim_data = np.array([np.array(X[x]),np.array(X[y]),np.array(X[z])])"
   ]
  },
  {
   "cell_type": "code",
   "execution_count": 6,
   "metadata": {},
   "outputs": [],
   "source": [
    "transpose_data = three_dim_data.transpose()\n",
    "transpose_data = transpose_data.reshape(100405, 80, 3)"
   ]
  },
  {
   "cell_type": "code",
   "execution_count": 7,
   "metadata": {},
   "outputs": [],
   "source": [
    "def get_vm(x):\n",
    "    return np.linalg.norm(x)\n",
    "\n",
    "vvm = np.vectorize(get_vm)"
   ]
  },
  {
   "cell_type": "code",
   "execution_count": 8,
   "metadata": {},
   "outputs": [
    {
     "ename": "KeyboardInterrupt",
     "evalue": "",
     "output_type": "error",
     "traceback": [
      "\u001b[1;31m---------------------------------------------------------------------------\u001b[0m",
      "\u001b[1;31mKeyboardInterrupt\u001b[0m                         Traceback (most recent call last)",
      "\u001b[1;32m<ipython-input-8-9e164d65ec35>\u001b[0m in \u001b[0;36m<module>\u001b[1;34m()\u001b[0m\n\u001b[0;32m      4\u001b[0m     \u001b[0mvms\u001b[0m \u001b[1;33m=\u001b[0m \u001b[1;33m[\u001b[0m\u001b[1;33m]\u001b[0m\u001b[1;33m\u001b[0m\u001b[0m\n\u001b[0;32m      5\u001b[0m     \u001b[1;32mfor\u001b[0m \u001b[0mpoint\u001b[0m \u001b[1;32min\u001b[0m \u001b[0mrow\u001b[0m\u001b[1;33m:\u001b[0m\u001b[1;33m\u001b[0m\u001b[0m\n\u001b[1;32m----> 6\u001b[1;33m         \u001b[0mvms\u001b[0m\u001b[1;33m.\u001b[0m\u001b[0mappend\u001b[0m\u001b[1;33m(\u001b[0m\u001b[0mnp\u001b[0m\u001b[1;33m.\u001b[0m\u001b[0mlinalg\u001b[0m\u001b[1;33m.\u001b[0m\u001b[0mnorm\u001b[0m\u001b[1;33m(\u001b[0m\u001b[0mpoint\u001b[0m\u001b[1;33m)\u001b[0m\u001b[1;33m)\u001b[0m\u001b[1;33m\u001b[0m\u001b[0m\n\u001b[0m\u001b[0;32m      7\u001b[0m     \u001b[0mmat\u001b[0m\u001b[1;33m.\u001b[0m\u001b[0mappend\u001b[0m\u001b[1;33m(\u001b[0m\u001b[0mvms\u001b[0m\u001b[1;33m)\u001b[0m\u001b[1;33m\u001b[0m\u001b[0m\n",
      "\u001b[1;32mc:\\users\\andrew\\appdata\\local\\programs\\python\\python36\\lib\\site-packages\\numpy\\linalg\\linalg.py\u001b[0m in \u001b[0;36mnorm\u001b[1;34m(x, ord, axis, keepdims)\u001b[0m\n\u001b[0;32m   2165\u001b[0m                 \u001b[0msqnorm\u001b[0m \u001b[1;33m=\u001b[0m \u001b[0mdot\u001b[0m\u001b[1;33m(\u001b[0m\u001b[0mx\u001b[0m\u001b[1;33m.\u001b[0m\u001b[0mreal\u001b[0m\u001b[1;33m,\u001b[0m \u001b[0mx\u001b[0m\u001b[1;33m.\u001b[0m\u001b[0mreal\u001b[0m\u001b[1;33m)\u001b[0m \u001b[1;33m+\u001b[0m \u001b[0mdot\u001b[0m\u001b[1;33m(\u001b[0m\u001b[0mx\u001b[0m\u001b[1;33m.\u001b[0m\u001b[0mimag\u001b[0m\u001b[1;33m,\u001b[0m \u001b[0mx\u001b[0m\u001b[1;33m.\u001b[0m\u001b[0mimag\u001b[0m\u001b[1;33m)\u001b[0m\u001b[1;33m\u001b[0m\u001b[0m\n\u001b[0;32m   2166\u001b[0m             \u001b[1;32melse\u001b[0m\u001b[1;33m:\u001b[0m\u001b[1;33m\u001b[0m\u001b[0m\n\u001b[1;32m-> 2167\u001b[1;33m                 \u001b[0msqnorm\u001b[0m \u001b[1;33m=\u001b[0m \u001b[0mdot\u001b[0m\u001b[1;33m(\u001b[0m\u001b[0mx\u001b[0m\u001b[1;33m,\u001b[0m \u001b[0mx\u001b[0m\u001b[1;33m)\u001b[0m\u001b[1;33m\u001b[0m\u001b[0m\n\u001b[0m\u001b[0;32m   2168\u001b[0m             \u001b[0mret\u001b[0m \u001b[1;33m=\u001b[0m \u001b[0msqrt\u001b[0m\u001b[1;33m(\u001b[0m\u001b[0msqnorm\u001b[0m\u001b[1;33m)\u001b[0m\u001b[1;33m\u001b[0m\u001b[0m\n\u001b[0;32m   2169\u001b[0m             \u001b[1;32mif\u001b[0m \u001b[0mkeepdims\u001b[0m\u001b[1;33m:\u001b[0m\u001b[1;33m\u001b[0m\u001b[0m\n",
      "\u001b[1;31mKeyboardInterrupt\u001b[0m: "
     ]
    }
   ],
   "source": [
    "mat = []\n",
    "\n",
    "for row in transpose_data:\n",
    "    vms = []\n",
    "    for point in row:\n",
    "        vms.append(np.linalg.norm(point))\n",
    "    mat.append(vms)    "
   ]
  },
  {
   "cell_type": "code",
   "execution_count": 10,
   "metadata": {},
   "outputs": [],
   "source": [
    "def curry_norm(x):\n",
    "    return pd.Series(np.apply_along_axis(np.linalg.norm, 1, x))"
   ]
  },
  {
   "cell_type": "code",
   "execution_count": 11,
   "metadata": {},
   "outputs": [],
   "source": [
    "vm_data = pd.DataFrame([curry_norm(transpose_data[0])])"
   ]
  },
  {
   "cell_type": "code",
   "execution_count": 12,
   "metadata": {},
   "outputs": [],
   "source": [
    "for row in transpose_data[1:]:\n",
    "    vm_data = vm_data.append(curry_norm(row), ignore_index=True)"
   ]
  },
  {
   "cell_type": "code",
   "execution_count": 14,
   "metadata": {},
   "outputs": [],
   "source": [
    "vm_data.to_csv(\"vector_magnitudes.csv\")"
   ]
  },
  {
   "cell_type": "code",
   "execution_count": 5,
   "metadata": {},
   "outputs": [],
   "source": [
    "vm_data = pd.read_csv('vector_magnitudes.csv')"
   ]
  },
  {
   "cell_type": "code",
   "execution_count": 6,
   "metadata": {},
   "outputs": [],
   "source": [
    "vm_data = vm_data.iloc[:,1:]"
   ]
  },
  {
   "cell_type": "code",
   "execution_count": 7,
   "metadata": {},
   "outputs": [],
   "source": [
    "vm_data_crit = pd.concat([vm_data, criterion], axis = 1)"
   ]
  },
  {
   "cell_type": "markdown",
   "metadata": {},
   "source": [
    "## KNN With DTW"
   ]
  },
  {
   "cell_type": "code",
   "execution_count": 8,
   "metadata": {},
   "outputs": [],
   "source": [
    "from sklearn.metrics.pairwise import pairwise_distances\n",
    "from sklearn.neighbors import KNeighborsClassifier\n",
    "from fastdtw import *"
   ]
  },
  {
   "cell_type": "code",
   "execution_count": 9,
   "metadata": {},
   "outputs": [],
   "source": [
    "def get_fastdtw(x, y):\n",
    "    return fastdtw(x, y)[0]"
   ]
  },
  {
   "cell_type": "code",
   "execution_count": 10,
   "metadata": {},
   "outputs": [],
   "source": [
    "vm_data_crit['activity'] = criterion"
   ]
  },
  {
   "cell_type": "code",
   "execution_count": 11,
   "metadata": {},
   "outputs": [],
   "source": [
    "vm_data_crit = vm_data_crit.sample(frac=1)\n",
    "\n",
    "vm_criterion = vm_data_crit['activity'].copy()\n",
    "\n",
    "vm_criterion[vm_data_crit['activity'] != 'active'] = 0\n",
    "vm_criterion[vm_data_crit['activity'] == 'active'] = 1"
   ]
  },
  {
   "cell_type": "code",
   "execution_count": 14,
   "metadata": {},
   "outputs": [
    {
     "data": {
      "text/plain": [
       "array([1, 0], dtype=object)"
      ]
     },
     "execution_count": 14,
     "metadata": {},
     "output_type": "execute_result"
    }
   ],
   "source": [
    "vm_criterion.unique()"
   ]
  },
  {
   "cell_type": "code",
   "execution_count": 12,
   "metadata": {},
   "outputs": [],
   "source": [
    "n = int(0.75 * len(data))\n",
    "\n",
    "trainX = vm_data_crit.iloc[:n, :80]\n",
    "testX = vm_data_crit.iloc[n:, :80]\n",
    "\n",
    "trainY = vm_criterion[:n].values.reshape(n,).astype('float')\n",
    "testY = vm_criterion[n:].values.reshape((len(data) -n),).astype('float')"
   ]
  },
  {
   "cell_type": "code",
   "execution_count": 16,
   "metadata": {},
   "outputs": [
    {
     "name": "stdout",
     "output_type": "stream",
     "text": [
      "1.0\n"
     ]
    }
   ],
   "source": [
    "x = np.array([1, 2, 3, 4, 5])\n",
    "y = np.array([2, 3, 4, 5])\n",
    "distance, path = fastdtw(x, y)\n",
    "print(distance)"
   ]
  },
  {
   "cell_type": "code",
   "execution_count": 13,
   "metadata": {},
   "outputs": [],
   "source": [
    "dtw = KNeighborsClassifier(n_neighbors = 10, metric=get_fastdtw)"
   ]
  },
  {
   "cell_type": "code",
   "execution_count": null,
   "metadata": {},
   "outputs": [
    {
     "data": {
      "text/plain": [
       "KNeighborsClassifier(algorithm='auto', leaf_size=30,\n",
       "           metric=<function get_fastdtw at 0x000001D579A44F28>,\n",
       "           metric_params=None, n_jobs=1, n_neighbors=10, p=2,\n",
       "           weights='uniform')"
      ]
     },
     "execution_count": 14,
     "metadata": {},
     "output_type": "execute_result"
    }
   ],
   "source": [
    "dtw.fit(trainX, trainY)"
   ]
  },
  {
   "cell_type": "code",
   "execution_count": null,
   "metadata": {},
   "outputs": [],
   "source": [
    "dtw_results = dtw.predict(testX)\n",
    "dtw_results.to_csv(\"dtw_results.csv\")"
   ]
  },
  {
   "cell_type": "code",
   "execution_count": null,
   "metadata": {},
   "outputs": [],
   "source": [
    "dtw_results"
   ]
  },
  {
   "cell_type": "markdown",
   "metadata": {},
   "source": [
    "## Angle Cut Point Method"
   ]
  },
  {
   "cell_type": "code",
   "execution_count": 25,
   "metadata": {
    "collapsed": true
   },
   "outputs": [],
   "source": [
    "## create the cut point\n",
    "def cut_point_classify(angle):\n",
    "    if angle > -15 and angle < 15:\n",
    "        return 'sedentary'\n",
    "    else:\n",
    "        return 'non-sedentary'"
   ]
  },
  {
   "cell_type": "code",
   "execution_count": 67,
   "metadata": {},
   "outputs": [
    {
     "data": {
      "text/plain": [
       "0.51798949632894087"
      ]
     },
     "execution_count": 67,
     "metadata": {},
     "output_type": "execute_result"
    }
   ],
   "source": [
    "## use the cut point\n",
    "pred = data['mean.ang'].apply(cut_point_classify)\n",
    "## find accuracy\n",
    "np.mean(pred == data['coding'])"
   ]
  },
  {
   "cell_type": "code",
   "execution_count": 71,
   "metadata": {},
   "outputs": [
    {
     "data": {
      "text/plain": [
       "0.74814402375649591"
      ]
     },
     "execution_count": 71,
     "metadata": {},
     "output_type": "execute_result"
    }
   ],
   "source": [
    "## use the cut point\n",
    "predH = dataH['mean.ang'].apply(cut_point_classify)\n",
    "## find accuracy\n",
    "np.mean(predH == dataH['coding'])"
   ]
  },
  {
   "cell_type": "code",
   "execution_count": 72,
   "metadata": {},
   "outputs": [
    {
     "data": {
      "text/plain": [
       "0.61997719655875339"
      ]
     },
     "execution_count": 72,
     "metadata": {},
     "output_type": "execute_result"
    }
   ],
   "source": [
    "## use the cut point\n",
    "predE = dataE['mean.ang'].apply(cut_point_classify)\n",
    "## find accuracy\n",
    "np.mean(predE == dataE['coding'])"
   ]
  },
  {
   "cell_type": "code",
   "execution_count": 74,
   "metadata": {},
   "outputs": [
    {
     "data": {
      "text/plain": [
       "0.2467454528667713"
      ]
     },
     "execution_count": 74,
     "metadata": {},
     "output_type": "execute_result"
    }
   ],
   "source": [
    "## use the cut point\n",
    "predL = dataL['mean.ang'].apply(cut_point_classify)\n",
    "## find accuracy\n",
    "np.mean(predL == dataL['coding'])"
   ]
  },
  {
   "cell_type": "code",
   "execution_count": 73,
   "metadata": {},
   "outputs": [
    {
     "data": {
      "text/plain": [
       "0.61755601755601752"
      ]
     },
     "execution_count": 73,
     "metadata": {},
     "output_type": "execute_result"
    }
   ],
   "source": [
    "## use the cut point\n",
    "predA = dataA['mean.ang'].apply(cut_point_classify)\n",
    "## find accuracy\n",
    "np.mean(predA == dataA['coding'])"
   ]
  },
  {
   "cell_type": "code",
   "execution_count": 75,
   "metadata": {},
   "outputs": [
    {
     "data": {
      "text/plain": [
       "0.31853438020461577"
      ]
     },
     "execution_count": 75,
     "metadata": {},
     "output_type": "execute_result"
    }
   ],
   "source": [
    "## use the cut point\n",
    "predW = dataW['mean.ang'].apply(cut_point_classify)\n",
    "## find accuracy\n",
    "np.mean(predW == dataW['coding'])"
   ]
  },
  {
   "cell_type": "markdown",
   "metadata": {},
   "source": [
    "## SVM"
   ]
  },
  {
   "cell_type": "code",
   "execution_count": 9,
   "metadata": {},
   "outputs": [],
   "source": [
    "clf = svm.SVC(cache_size=7000)"
   ]
  },
  {
   "cell_type": "code",
   "execution_count": 10,
   "metadata": {},
   "outputs": [
    {
     "data": {
      "text/plain": [
       "SVC(C=1.0, cache_size=7000, class_weight=None, coef0=0.0,\n",
       "  decision_function_shape='ovr', degree=3, gamma='auto', kernel='rbf',\n",
       "  max_iter=-1, probability=False, random_state=None, shrinking=True,\n",
       "  tol=0.001, verbose=False)"
      ]
     },
     "execution_count": 10,
     "metadata": {},
     "output_type": "execute_result"
    }
   ],
   "source": [
    "clf.fit(trainX,trainY)"
   ]
  },
  {
   "cell_type": "code",
   "execution_count": 10,
   "metadata": {},
   "outputs": [
    {
     "data": {
      "text/plain": [
       "0.76466221232368226"
      ]
     },
     "execution_count": 10,
     "metadata": {},
     "output_type": "execute_result"
    }
   ],
   "source": [
    "clf.score(testXH,testYH)"
   ]
  },
  {
   "cell_type": "code",
   "execution_count": 11,
   "metadata": {},
   "outputs": [
    {
     "data": {
      "text/plain": [
       "0.66155334438916524"
      ]
     },
     "execution_count": 11,
     "metadata": {},
     "output_type": "execute_result"
    }
   ],
   "source": [
    "clf.score(testXE,testYE)"
   ]
  },
  {
   "cell_type": "code",
   "execution_count": 12,
   "metadata": {},
   "outputs": [
    {
     "data": {
      "text/plain": [
       "0.57034711964549478"
      ]
     },
     "execution_count": 12,
     "metadata": {},
     "output_type": "execute_result"
    }
   ],
   "source": [
    "clf.score(testXL,testYL)"
   ]
  },
  {
   "cell_type": "code",
   "execution_count": 13,
   "metadata": {},
   "outputs": [
    {
     "data": {
      "text/plain": [
       "0.81892091648189214"
      ]
     },
     "execution_count": 13,
     "metadata": {},
     "output_type": "execute_result"
    }
   ],
   "source": [
    "clf.score(testXA,testYA)"
   ]
  },
  {
   "cell_type": "code",
   "execution_count": 14,
   "metadata": {},
   "outputs": [
    {
     "data": {
      "text/plain": [
       "0.59935287400076132"
      ]
     },
     "execution_count": 14,
     "metadata": {},
     "output_type": "execute_result"
    }
   ],
   "source": [
    "clf.score(testXW,testYW)"
   ]
  },
  {
   "cell_type": "code",
   "execution_count": 11,
   "metadata": {},
   "outputs": [
    {
     "data": {
      "text/plain": [
       "0.7117851473679695"
      ]
     },
     "execution_count": 11,
     "metadata": {},
     "output_type": "execute_result"
    }
   ],
   "source": [
    "clf.score(testX,testY)"
   ]
  },
  {
   "cell_type": "code",
   "execution_count": 12,
   "metadata": {},
   "outputs": [
    {
     "data": {
      "text/plain": [
       "array([[    0,   160,     0,     0,     3,    14,     0],\n",
       "       [    0, 10571,     0,    89,   216,   855,     3],\n",
       "       [    0,    98,     0,     2,     4,     3,     0],\n",
       "       [    0,   196,     0,  1080,    64,   103,     0],\n",
       "       [    0,   492,     0,   103,  1830,   322,     2],\n",
       "       [    0,  1693,     0,   176,   358,  2953,    25],\n",
       "       [    0,  1424,     0,     9,    94,   210,   157]], dtype=int64)"
      ]
     },
     "execution_count": 12,
     "metadata": {},
     "output_type": "execute_result"
    }
   ],
   "source": [
    "confusion_matrix(testY, clf.predict(testX))"
   ]
  },
  {
   "cell_type": "markdown",
   "metadata": {},
   "source": [
    "## Neural Network"
   ]
  },
  {
   "cell_type": "code",
   "execution_count": 11,
   "metadata": {},
   "outputs": [
    {
     "data": {
      "text/plain": [
       "MLPClassifier(activation='relu', alpha=1e-05, batch_size='auto', beta_1=0.9,\n",
       "       beta_2=0.999, early_stopping=False, epsilon=1e-08,\n",
       "       hidden_layer_sizes=(1000, 500, 250, 125), learning_rate='constant',\n",
       "       learning_rate_init=0.001, max_iter=200, momentum=0.9,\n",
       "       nesterovs_momentum=True, power_t=0.5, random_state=1, shuffle=True,\n",
       "       solver='lbfgs', tol=0.0001, validation_fraction=0.1, verbose=True,\n",
       "       warm_start=False)"
      ]
     },
     "execution_count": 11,
     "metadata": {},
     "output_type": "execute_result"
    }
   ],
   "source": [
    "n_net = MLPClassifier(solver='lbfgs', alpha=1e-5,hidden_layer_sizes=(1000, 500, 250, 125), \n",
    "                      random_state=1, verbose = True)\n",
    "n_net.fit(trainX,trainY)"
   ]
  },
  {
   "cell_type": "code",
   "execution_count": 28,
   "metadata": {},
   "outputs": [
    {
     "data": {
      "text/plain": [
       "0.67427616926503342"
      ]
     },
     "execution_count": 28,
     "metadata": {},
     "output_type": "execute_result"
    }
   ],
   "source": [
    "np.sum(n_net.predict(testXH) == testYH) / len(testXH)"
   ]
  },
  {
   "cell_type": "code",
   "execution_count": 30,
   "metadata": {},
   "outputs": [
    {
     "data": {
      "text/plain": [
       "0.57144831398562745"
      ]
     },
     "execution_count": 30,
     "metadata": {},
     "output_type": "execute_result"
    }
   ],
   "source": [
    "np.sum(n_net.predict(testXE) == testYE) / len(testXE)"
   ]
  },
  {
   "cell_type": "code",
   "execution_count": 32,
   "metadata": {},
   "outputs": [
    {
     "data": {
      "text/plain": [
       "0.18537666174298376"
      ]
     },
     "execution_count": 32,
     "metadata": {},
     "output_type": "execute_result"
    }
   ],
   "source": [
    "np.sum(n_net.predict(testXL) == testYL) / len(testXL)"
   ]
  },
  {
   "cell_type": "code",
   "execution_count": 33,
   "metadata": {},
   "outputs": [
    {
     "data": {
      "text/plain": [
       "0.69401330376940129"
      ]
     },
     "execution_count": 33,
     "metadata": {},
     "output_type": "execute_result"
    }
   ],
   "source": [
    "np.sum(n_net.predict(testXA) == testYA) / len(testXA)"
   ]
  },
  {
   "cell_type": "code",
   "execution_count": 35,
   "metadata": {},
   "outputs": [
    {
     "data": {
      "text/plain": [
       "0.36676817662733158"
      ]
     },
     "execution_count": 35,
     "metadata": {},
     "output_type": "execute_result"
    }
   ],
   "source": [
    "np.sum(n_net.predict(testXW) == testYW) / len(testXW)"
   ]
  },
  {
   "cell_type": "code",
   "execution_count": 18,
   "metadata": {},
   "outputs": [
    {
     "data": {
      "text/plain": [
       "0.73638738895662781"
      ]
     },
     "execution_count": 18,
     "metadata": {},
     "output_type": "execute_result"
    }
   ],
   "source": [
    "predictedVals = n_net.predict(testX)\n",
    "n_net.score(testX,testY)\n",
    "# f1_score(testY, predictedVals)"
   ]
  },
  {
   "cell_type": "code",
   "execution_count": 21,
   "metadata": {},
   "outputs": [],
   "source": [
    "conf_mat = confusion_matrix(testY,predictedVals,testY.unique())"
   ]
  },
  {
   "cell_type": "code",
   "execution_count": 37,
   "metadata": {},
   "outputs": [
    {
     "name": "stderr",
     "output_type": "stream",
     "text": [
      "C:\\Users\\Hans\\Anaconda3\\lib\\site-packages\\sklearn\\metrics\\classification.py:1135: UndefinedMetricWarning: F-score is ill-defined and being set to 0.0 in labels with no predicted samples.\n",
      "  'precision', 'predicted', average, warn_for)\n"
     ]
    },
    {
     "data": {
      "text/plain": [
       "0.70974126423006312"
      ]
     },
     "execution_count": 37,
     "metadata": {},
     "output_type": "execute_result"
    }
   ],
   "source": [
    "f1_score(testY,predictedVals,average='weighted')"
   ]
  },
  {
   "cell_type": "code",
   "execution_count": 27,
   "metadata": {},
   "outputs": [
    {
     "name": "stdout",
     "output_type": "stream",
     "text": [
      "0.918856356356 active\n",
      "0.574349775785 sitting still\n",
      "0.127197039778 sitting with upper body movement\n",
      "0.737987987988 lying\n",
      "0.592735933313 sitting and typing\n",
      "0.0 kneeling\n",
      "0.0 Private / Not Coded\n"
     ]
    }
   ],
   "source": [
    "for i in range(7):\n",
    "    print (conf_mat[i][i] / np.sum(conf_mat[i]),testY.unique()[i])"
   ]
  },
  {
   "cell_type": "code",
   "execution_count": 22,
   "metadata": {},
   "outputs": [
    {
     "data": {
      "text/plain": [
       "(array([[14687,   967,    64,    68,   198,     0,     0],\n",
       "        [ 1773,  3202,    66,   161,   373,     0,     0],\n",
       "        [ 1449,   305,   275,    48,    85,     0,     0],\n",
       "        [  176,   123,     5,   983,    45,     0,     0],\n",
       "        [  613,   648,    26,    81,  1991,     0,     0],\n",
       "        [  109,     2,     1,     1,     3,     0,     0],\n",
       "        [  165,    11,     0,     0,     1,     0,     0]], dtype=int64),\n",
       " array(['active', 'sitting still', 'sitting with upper body movement',\n",
       "        'lying', 'sitting and typing', 'kneeling', 'Private / Not Coded'], dtype=object))"
      ]
     },
     "execution_count": 22,
     "metadata": {},
     "output_type": "execute_result"
    }
   ],
   "source": [
    "conf_mat,testY.unique()"
   ]
  },
  {
   "cell_type": "markdown",
   "metadata": {},
   "source": [
    "## Random Forest"
   ]
  },
  {
   "cell_type": "code",
   "execution_count": 13,
   "metadata": {},
   "outputs": [
    {
     "data": {
      "text/plain": [
       "RandomForestClassifier(bootstrap=True, class_weight=None, criterion='gini',\n",
       "            max_depth=5, max_features='auto', max_leaf_nodes=None,\n",
       "            min_impurity_decrease=0.0, min_impurity_split=None,\n",
       "            min_samples_leaf=1, min_samples_split=2,\n",
       "            min_weight_fraction_leaf=0.0, n_estimators=10, n_jobs=1,\n",
       "            oob_score=False, random_state=0, verbose=0, warm_start=False)"
      ]
     },
     "execution_count": 13,
     "metadata": {},
     "output_type": "execute_result"
    }
   ],
   "source": [
    "from sklearn.ensemble import RandomForestClassifier\n",
    "rf = RandomForestClassifier(max_depth=5, random_state=0)\n",
    "rf.fit(trainX,trainY)"
   ]
  },
  {
   "cell_type": "code",
   "execution_count": 17,
   "metadata": {},
   "outputs": [
    {
     "data": {
      "text/plain": [
       "0.7548255382331106"
      ]
     },
     "execution_count": 17,
     "metadata": {},
     "output_type": "execute_result"
    }
   ],
   "source": [
    "rf.score(testXH,testYH)"
   ]
  },
  {
   "cell_type": "code",
   "execution_count": 18,
   "metadata": {},
   "outputs": [
    {
     "data": {
      "text/plain": [
       "0.66680486456605859"
      ]
     },
     "execution_count": 18,
     "metadata": {},
     "output_type": "execute_result"
    }
   ],
   "source": [
    "rf.score(testXE,testYE)"
   ]
  },
  {
   "cell_type": "code",
   "execution_count": 19,
   "metadata": {},
   "outputs": [
    {
     "data": {
      "text/plain": [
       "0.34490398818316098"
      ]
     },
     "execution_count": 19,
     "metadata": {},
     "output_type": "execute_result"
    }
   ],
   "source": [
    "rf.score(testXL,testYL)"
   ]
  },
  {
   "cell_type": "code",
   "execution_count": 20,
   "metadata": {},
   "outputs": [
    {
     "data": {
      "text/plain": [
       "0.7889874353288987"
      ]
     },
     "execution_count": 20,
     "metadata": {},
     "output_type": "execute_result"
    }
   ],
   "source": [
    "rf.score(testXA,testYA)"
   ]
  },
  {
   "cell_type": "code",
   "execution_count": 21,
   "metadata": {},
   "outputs": [
    {
     "data": {
      "text/plain": [
       "0.59326227636086792"
      ]
     },
     "execution_count": 21,
     "metadata": {},
     "output_type": "execute_result"
    }
   ],
   "source": [
    "rf.score(testXW,testYW)"
   ]
  },
  {
   "cell_type": "code",
   "execution_count": 14,
   "metadata": {},
   "outputs": [
    {
     "data": {
      "text/plain": [
       "0.67222961087991762"
      ]
     },
     "execution_count": 14,
     "metadata": {},
     "output_type": "execute_result"
    }
   ],
   "source": [
    "rf.score(testX,testY)"
   ]
  },
  {
   "cell_type": "markdown",
   "metadata": {},
   "source": [
    "## KNN"
   ]
  },
  {
   "cell_type": "code",
   "execution_count": 20,
   "metadata": {},
   "outputs": [
    {
     "data": {
      "text/plain": [
       "KNeighborsClassifier(algorithm='auto', leaf_size=30, metric='minkowski',\n",
       "           metric_params=None, n_jobs=1, n_neighbors=15, p=2,\n",
       "           weights='uniform')"
      ]
     },
     "execution_count": 20,
     "metadata": {},
     "output_type": "execute_result"
    }
   ],
   "source": [
    "from sklearn.neighbors import KNeighborsClassifier\n",
    "knn = KNeighborsClassifier(n_neighbors=15)\n",
    "knn.fit(trainX,trainY)"
   ]
  },
  {
   "cell_type": "code",
   "execution_count": 24,
   "metadata": {},
   "outputs": [
    {
     "data": {
      "text/plain": [
       "0.75668151447661469"
      ]
     },
     "execution_count": 24,
     "metadata": {},
     "output_type": "execute_result"
    }
   ],
   "source": [
    "knn.score(testXH,testYH)"
   ]
  },
  {
   "cell_type": "code",
   "execution_count": 25,
   "metadata": {},
   "outputs": [
    {
     "data": {
      "text/plain": [
       "0.65823659480375896"
      ]
     },
     "execution_count": 25,
     "metadata": {},
     "output_type": "execute_result"
    }
   ],
   "source": [
    "knn.score(testXE,testYE)"
   ]
  },
  {
   "cell_type": "code",
   "execution_count": 26,
   "metadata": {},
   "outputs": [
    {
     "data": {
      "text/plain": [
       "0.61983013293943867"
      ]
     },
     "execution_count": 26,
     "metadata": {},
     "output_type": "execute_result"
    }
   ],
   "source": [
    "knn.score(testXL,testYL)"
   ]
  },
  {
   "cell_type": "code",
   "execution_count": 27,
   "metadata": {},
   "outputs": [
    {
     "data": {
      "text/plain": [
       "0.81596452328159641"
      ]
     },
     "execution_count": 27,
     "metadata": {},
     "output_type": "execute_result"
    }
   ],
   "source": [
    "knn.score(testXA,testYA)"
   ]
  },
  {
   "cell_type": "code",
   "execution_count": 28,
   "metadata": {},
   "outputs": [
    {
     "data": {
      "text/plain": [
       "0.57689379520365436"
      ]
     },
     "execution_count": 28,
     "metadata": {},
     "output_type": "execute_result"
    }
   ],
   "source": [
    "knn.score(testXW,testYW)"
   ]
  },
  {
   "cell_type": "code",
   "execution_count": 21,
   "metadata": {},
   "outputs": [
    {
     "data": {
      "text/plain": [
       "0.72671500278862244"
      ]
     },
     "execution_count": 21,
     "metadata": {},
     "output_type": "execute_result"
    }
   ],
   "source": [
    "knn.score(testX,testY)"
   ]
  },
  {
   "cell_type": "code",
   "execution_count": 17,
   "metadata": {},
   "outputs": [],
   "source": [
    "## determining the optimal k value\n",
    "acc = []\n",
    "for i in range(5,100,5):\n",
    "    neigh = KNeighborsClassifier(n_neighbors=i,weights = 'distance')\n",
    "    neigh.fit(trainX,trainY)\n",
    "    acc.append([i,neigh.score(testX,testY)])\n",
    "acc = np.array(acc)"
   ]
  },
  {
   "cell_type": "code",
   "execution_count": 19,
   "metadata": {
    "scrolled": true
   },
   "outputs": [
    {
     "data": {
      "text/plain": [
       "[<matplotlib.lines.Line2D at 0x1f004cb12b0>]"
      ]
     },
     "execution_count": 19,
     "metadata": {},
     "output_type": "execute_result"
    },
    {
     "data": {
      "image/png": "[encoded data removed]",
      "text/plain": [
       "<Figure size 432x288 with 1 Axes>"
      ]
     },
     "metadata": {},
     "output_type": "display_data"
    }
   ],
   "source": [
    "import matplotlib.pyplot as plt\n",
    "%matplotlib inline\n",
    "\n",
    "plt.plot(acc[:,0],acc[:,1])"
   ]
  },
  {
   "cell_type": "code",
   "execution_count": 31,
   "metadata": {},
   "outputs": [],
   "source": [
    "conf_mat = confusion_matrix(testY, knn.predict(testX), testY.unique())"
   ]
  },
  {
   "cell_type": "code",
   "execution_count": 37,
   "metadata": {
    "scrolled": true
   },
   "outputs": [
    {
     "name": "stdout",
     "output_type": "stream",
     "text": [
      "0.744634412514 sitting and typing\n",
      "0.889722174876 active\n",
      "0.584822286263 sitting still\n",
      "0.164202745512 sitting with upper body movement\n",
      "0.760221760222 lying\n",
      "0.0 Private / Not Coded\n",
      "0.0 kneeling\n"
     ]
    }
   ],
   "source": [
    "for i in range(7):\n",
    "    print (conf_mat[i][i] / np.sum(conf_mat[i]),testY.unique()[i])"
   ]
  },
  {
   "cell_type": "code",
   "execution_count": 30,
   "metadata": {},
   "outputs": [
    {
     "data": {
      "text/plain": [
       "(array([[ 2047,   369,   275,    10,    48,     0,     0],\n",
       "        [  303, 10440,   866,    50,    75,     0,     0],\n",
       "        [  363,  1603,  3044,    58,   137,     0,     0],\n",
       "        [  109,  1241,   209,   311,    24,     0,     0],\n",
       "        [   92,   190,    63,     1,  1097,     0,     0],\n",
       "        [    4,   162,    10,     1,     0,     0,     0],\n",
       "        [    2,    97,     6,     0,     2,     0,     0]], dtype=int64),\n",
       " array(['sitting and typing', 'active', 'sitting still',\n",
       "        'sitting with upper body movement', 'lying', 'Private / Not Coded',\n",
       "        'kneeling'], dtype=object))"
      ]
     },
     "execution_count": 30,
     "metadata": {},
     "output_type": "execute_result"
    }
   ],
   "source": [
    "confusion_matrix(testY, knn.predict(testX), testY.unique()),testY.unique()"
   ]
  },
  {
   "cell_type": "code",
   "execution_count": 35,
   "metadata": {},
   "outputs": [
    {
     "data": {
      "text/plain": [
       "KNeighborsClassifier(algorithm='auto', leaf_size=30, metric='minkowski',\n",
       "           metric_params=None, n_jobs=1, n_neighbors=15, p=2,\n",
       "           weights='distance')"
      ]
     },
     "execution_count": 35,
     "metadata": {},
     "output_type": "execute_result"
    }
   ],
   "source": [
    "knn_dist = KNeighborsClassifier(n_neighbors=15, weights='distance')\n",
    "knn_dist.fit(trainX,trainY)"
   ]
  },
  {
   "cell_type": "code",
   "execution_count": 36,
   "metadata": {},
   "outputs": [],
   "source": [
    "conf_mat2 = confusion_matrix(testY, knn_dist.predict(testX), testY.unique())"
   ]
  },
  {
   "cell_type": "code",
   "execution_count": null,
   "metadata": {},
   "outputs": [],
   "source": [
    "conf_mat2at2"
   ]
  },
  {
   "cell_type": "code",
   "execution_count": 38,
   "metadata": {},
   "outputs": [
    {
     "name": "stdout",
     "output_type": "stream",
     "text": [
      "0.748635867588 sitting and typing\n",
      "0.881881711266 active\n",
      "0.606916426513 sitting still\n",
      "0.179514255544 sitting with upper body movement\n",
      "0.767844767845 lying\n",
      "0.0 Private / Not Coded\n",
      "0.0 kneeling\n"
     ]
    }
   ],
   "source": [
    "for i in range(7):\n",
    "    print (conf_mat2[i][i] / np.sum(conf_mat2[i]),testY.unique()[i])"
   ]
  },
  {
   "cell_type": "code",
   "execution_count": 39,
   "metadata": {},
   "outputs": [
    {
     "data": {
      "text/plain": [
       "0.72988974215968083"
      ]
     },
     "execution_count": 39,
     "metadata": {},
     "output_type": "execute_result"
    }
   ],
   "source": [
    "knn_dist.score(testX, testY)"
   ]
  },
  {
   "cell_type": "code",
   "execution_count": 41,
   "metadata": {},
   "outputs": [
    {
     "name": "stderr",
     "output_type": "stream",
     "text": [
      "c:\\users\\andrew\\appdata\\local\\programs\\python\\python36\\lib\\site-packages\\sklearn\\metrics\\classification.py:1135: UndefinedMetricWarning: F-score is ill-defined and being set to 0.0 in labels with no predicted samples.\n",
      "  'precision', 'predicted', average, warn_for)\n"
     ]
    },
    {
     "data": {
      "text/plain": [
       "0.70753265212438199"
      ]
     },
     "execution_count": 41,
     "metadata": {},
     "output_type": "execute_result"
    }
   ],
   "source": [
    "f1_score(testY, knn_dist.predict(testX), average='weighted')"
   ]
  },
  {
   "cell_type": "markdown",
   "metadata": {},
   "source": [
    "## Boosting!"
   ]
  },
  {
   "cell_type": "code",
   "execution_count": 1,
   "metadata": {},
   "outputs": [],
   "source": [
    "from sklearn.ensemble import AdaBoostClassifier"
   ]
  },
  {
   "cell_type": "code",
   "execution_count": 19,
   "metadata": {},
   "outputs": [
    {
     "data": {
      "text/plain": [
       "AdaBoostClassifier(algorithm='SAMME.R', base_estimator=None,\n",
       "          learning_rate=1.0, n_estimators=200, random_state=None)"
      ]
     },
     "execution_count": 19,
     "metadata": {},
     "output_type": "execute_result"
    }
   ],
   "source": [
    "adaboost = AdaBoostClassifier(n_estimators=200)\n",
    "adaboost.fit(trainX, trainY)"
   ]
  },
  {
   "cell_type": "code",
   "execution_count": 20,
   "metadata": {},
   "outputs": [
    {
     "data": {
      "text/plain": [
       "0.63735037968166808"
      ]
     },
     "execution_count": 20,
     "metadata": {},
     "output_type": "execute_result"
    }
   ],
   "source": [
    "adaboost.score(testX, testY)"
   ]
  },
  {
   "cell_type": "code",
   "execution_count": 21,
   "metadata": {
    "scrolled": true
   },
   "outputs": [
    {
     "name": "stdout",
     "output_type": "stream",
     "text": [
      "0.849096258932 active\n",
      "0.4316982607 sitting still\n",
      "0.635669673838 lying\n",
      "0.560644924881 sitting and typing\n",
      "0.0519693654267 sitting with upper body movement\n",
      "0.00877192982456 kneeling\n",
      "0.027027027027 Private / Not Coded\n"
     ]
    }
   ],
   "source": [
    "conf_mat2 = confusion_matrix(testY, adaboost.predict(testX), testY.unique())\n",
    "for i in range(7):\n",
    "    print (conf_mat2[i][i] / np.sum(conf_mat2[i]),testY.unique()[i])"
   ]
  },
  {
   "cell_type": "code",
   "execution_count": 22,
   "metadata": {},
   "outputs": [
    {
     "data": {
      "text/plain": [
       "0.60955350678233555"
      ]
     },
     "execution_count": 22,
     "metadata": {},
     "output_type": "execute_result"
    }
   ],
   "source": [
    "f1_score(testY, adaboost.predict(testX), average='weighted')"
   ]
  },
  {
   "cell_type": "code",
   "execution_count": 23,
   "metadata": {},
   "outputs": [
    {
     "data": {
      "text/plain": [
       "array([[10100,   957,   102,   322,   142,   243,    29],\n",
       "       [ 2064,  2209,   469,   308,    53,    12,     2],\n",
       "       [  267,   159,   916,    98,     0,     1,     0],\n",
       "       [  426,   500,   257,  1530,    13,     3,     0],\n",
       "       [ 1275,   256,    12,   168,    95,    20,     2],\n",
       "       [  107,     1,     2,     3,     0,     1,     0],\n",
       "       [  153,    18,     0,     4,     1,     4,     5]], dtype=int64)"
      ]
     },
     "execution_count": 23,
     "metadata": {},
     "output_type": "execute_result"
    }
   ],
   "source": [
    "conf_mat2"
   ]
  },
  {
   "cell_type": "markdown",
   "metadata": {},
   "source": [
    "## Gradient Boosting"
   ]
  },
  {
   "cell_type": "code",
   "execution_count": 25,
   "metadata": {},
   "outputs": [],
   "source": [
    "from sklearn.ensemble import GradientBoostingClassifier\n",
    "grad_boost = GradientBoostingClassifier(n_estimators = 200,max_depth = 7)"
   ]
  },
  {
   "cell_type": "code",
   "execution_count": 26,
   "metadata": {},
   "outputs": [
    {
     "data": {
      "text/plain": [
       "GradientBoostingClassifier(criterion='friedman_mse', init=None,\n",
       "              learning_rate=0.1, loss='deviance', max_depth=7,\n",
       "              max_features=None, max_leaf_nodes=None,\n",
       "              min_impurity_decrease=0.0, min_impurity_split=None,\n",
       "              min_samples_leaf=1, min_samples_split=2,\n",
       "              min_weight_fraction_leaf=0.0, n_estimators=200,\n",
       "              presort='auto', random_state=None, subsample=1.0, verbose=0,\n",
       "              warm_start=False)"
      ]
     },
     "execution_count": 26,
     "metadata": {},
     "output_type": "execute_result"
    }
   ],
   "source": [
    "grad_boost.fit(trainX, trainY)"
   ]
  },
  {
   "cell_type": "code",
   "execution_count": 27,
   "metadata": {
    "scrolled": true
   },
   "outputs": [
    {
     "name": "stdout",
     "output_type": "stream",
     "text": [
      "0.917108028583 active\n",
      "0.675004885675 sitting still\n",
      "0.834836918806 lying\n",
      "0.78930010993 sitting and typing\n",
      "0.310175054705 sitting with upper body movement\n",
      "0.0 kneeling\n",
      "0.00540540540541 Private / Not Coded\n"
     ]
    }
   ],
   "source": [
    "conf_mat2 = confusion_matrix(testY, grad_boost.predict(testX), testY.unique())\n",
    "for i in range(7):\n",
    "    print (conf_mat2[i][i] / np.sum(conf_mat2[i]),testY.unique()[i])"
   ]
  },
  {
   "cell_type": "code",
   "execution_count": 29,
   "metadata": {},
   "outputs": [
    {
     "data": {
      "text/plain": [
       "0.76959799300646581"
      ]
     },
     "execution_count": 29,
     "metadata": {},
     "output_type": "execute_result"
    }
   ],
   "source": [
    "f1_score(testY, grad_boost.predict(testX), average='weighted')"
   ]
  },
  {
   "cell_type": "code",
   "execution_count": 30,
   "metadata": {},
   "outputs": [
    {
     "data": {
      "text/plain": [
       "array([[10909,   659,    37,   118,   148,    12,    12],\n",
       "       [ 1326,  3454,    52,   169,   111,     2,     3],\n",
       "       [  123,    89,  1203,    21,     2,     3,     0],\n",
       "       [  284,   245,    27,  2154,    18,     0,     1],\n",
       "       [ 1027,   181,     8,    43,   567,     2,     0],\n",
       "       [  106,     5,     1,     1,     1,     0,     0],\n",
       "       [  168,    13,     0,     1,     2,     0,     1]], dtype=int64)"
      ]
     },
     "execution_count": 30,
     "metadata": {},
     "output_type": "execute_result"
    }
   ],
   "source": [
    "conf_mat2"
   ]
  },
  {
   "cell_type": "code",
   "execution_count": null,
   "metadata": {},
   "outputs": [],
   "source": []
  }
 ],
 "metadata": {
  "kernelspec": {
   "display_name": "Python 3",
   "language": "python",
   "name": "python3"
  },
  "language_info": {
   "codemirror_mode": {
    "name": "ipython",
    "version": 3
   },
   "file_extension": ".py",
   "mimetype": "text/x-python",
   "name": "python",
   "nbconvert_exporter": "python",
   "pygments_lexer": "ipython3",
   "version": "3.6.3"
  }
 },
 "nbformat": 4,
 "nbformat_minor": 2
}
