{
 "cells": [
  {
   "cell_type": "code",
   "execution_count": 2,
   "metadata": {},
   "outputs": [],
   "source": [
    "import os,sys,inspect\n",
    "currentdir = os.path.dirname(os.path.abspath(inspect.getfile(inspect.currentframe())))\n",
    "parentdir = os.path.dirname(currentdir)\n",
    "sys.path.insert(0,parentdir)\n",
    "import script as sc"
   ]
  },
  {
   "cell_type": "code",
   "execution_count": 3,
   "metadata": {},
   "outputs": [],
   "source": [
    "import pandas as pd\n",
    "import json\n",
    "import sklearn.svm as svm\n",
    "from sklearn.linear_model import Lasso, LassoCV\n",
    "from sklearn.feature_selection import SelectFromModel\n",
    "import numpy as np\n",
    "from sklearn.neural_network import MLPClassifier\n",
    "\n",
    "from sklearn import preprocessing\n",
    "from sklearn.metrics import confusion_matrix\n",
    "from sklearn.metrics import f1_score"
   ]
  },
  {
   "cell_type": "code",
   "execution_count": 4,
   "metadata": {},
   "outputs": [],
   "source": [
    "## Change the name to get your path\n",
    "user = 'Andrew'"
   ]
  },
  {
   "cell_type": "markdown",
   "metadata": {},
   "source": [
    "## Build test and train Datasets"
   ]
  },
  {
   "cell_type": "code",
   "execution_count": 5,
   "metadata": {},
   "outputs": [],
   "source": [
    "data = pd.DataFrame(sc.get_complete(user, 'complete_wide.csv'))"
   ]
  },
  {
   "cell_type": "code",
   "execution_count": 6,
   "metadata": {},
   "outputs": [
    {
     "data": {
      "text/html": [
       "<div>\n",
       "<style scoped>\n",
       "    .dataframe tbody tr th:only-of-type {\n",
       "        vertical-align: middle;\n",
       "    }\n",
       "\n",
       "    .dataframe tbody tr th {\n",
       "        vertical-align: top;\n",
       "    }\n",
       "\n",
       "    .dataframe thead th {\n",
       "        text-align: right;\n",
       "    }\n",
       "</style>\n",
       "<table border=\"1\" class=\"dataframe\">\n",
       "  <thead>\n",
       "    <tr style=\"text-align: right;\">\n",
       "      <th></th>\n",
       "      <th>Unnamed: 0</th>\n",
       "      <th>Unnamed: 0.1</th>\n",
       "      <th>X1</th>\n",
       "      <th>X2</th>\n",
       "      <th>X3</th>\n",
       "      <th>X4</th>\n",
       "      <th>X5</th>\n",
       "      <th>X6</th>\n",
       "      <th>X7</th>\n",
       "      <th>X8</th>\n",
       "      <th>...</th>\n",
       "      <th>X238</th>\n",
       "      <th>X239</th>\n",
       "      <th>X240</th>\n",
       "      <th>X241</th>\n",
       "      <th>Unnamed: 0.2</th>\n",
       "      <th>observation</th>\n",
       "      <th>date</th>\n",
       "      <th>activity</th>\n",
       "      <th>coding</th>\n",
       "      <th>time</th>\n",
       "    </tr>\n",
       "  </thead>\n",
       "  <tbody>\n",
       "    <tr>\n",
       "      <th>0</th>\n",
       "      <td>0</td>\n",
       "      <td>1.0</td>\n",
       "      <td>2017-10-06 16:44:00</td>\n",
       "      <td>-0.191</td>\n",
       "      <td>-0.711</td>\n",
       "      <td>-0.660</td>\n",
       "      <td>-0.172</td>\n",
       "      <td>-0.715</td>\n",
       "      <td>-0.652</td>\n",
       "      <td>-0.207</td>\n",
       "      <td>...</td>\n",
       "      <td>-0.648</td>\n",
       "      <td>-0.281</td>\n",
       "      <td>-0.730</td>\n",
       "      <td>-0.648</td>\n",
       "      <td>1.0</td>\n",
       "      <td>H_AM01DO1_M</td>\n",
       "      <td>13-01-2018</td>\n",
       "      <td>active</td>\n",
       "      <td>non-sedentary</td>\n",
       "      <td>0.0</td>\n",
       "    </tr>\n",
       "    <tr>\n",
       "      <th>1</th>\n",
       "      <td>1</td>\n",
       "      <td>2.0</td>\n",
       "      <td>2017-10-06 16:44:01</td>\n",
       "      <td>-0.254</td>\n",
       "      <td>-0.715</td>\n",
       "      <td>-0.645</td>\n",
       "      <td>-0.266</td>\n",
       "      <td>-0.727</td>\n",
       "      <td>-0.637</td>\n",
       "      <td>-0.289</td>\n",
       "      <td>...</td>\n",
       "      <td>-0.711</td>\n",
       "      <td>0.035</td>\n",
       "      <td>-0.707</td>\n",
       "      <td>-0.715</td>\n",
       "      <td>2.0</td>\n",
       "      <td>H_AM01DO1_M</td>\n",
       "      <td>13-01-2018</td>\n",
       "      <td>active</td>\n",
       "      <td>non-sedentary</td>\n",
       "      <td>1.0</td>\n",
       "    </tr>\n",
       "    <tr>\n",
       "      <th>2</th>\n",
       "      <td>2</td>\n",
       "      <td>3.0</td>\n",
       "      <td>2017-10-06 16:44:02</td>\n",
       "      <td>0.063</td>\n",
       "      <td>-0.715</td>\n",
       "      <td>-0.719</td>\n",
       "      <td>0.129</td>\n",
       "      <td>-0.695</td>\n",
       "      <td>-0.719</td>\n",
       "      <td>0.164</td>\n",
       "      <td>...</td>\n",
       "      <td>-0.301</td>\n",
       "      <td>-0.828</td>\n",
       "      <td>0.180</td>\n",
       "      <td>-0.316</td>\n",
       "      <td>3.0</td>\n",
       "      <td>H_AM01DO1_M</td>\n",
       "      <td>13-01-2018</td>\n",
       "      <td>active</td>\n",
       "      <td>non-sedentary</td>\n",
       "      <td>2.0</td>\n",
       "    </tr>\n",
       "    <tr>\n",
       "      <th>3</th>\n",
       "      <td>3</td>\n",
       "      <td>4.0</td>\n",
       "      <td>2017-10-06 16:44:03</td>\n",
       "      <td>-0.773</td>\n",
       "      <td>0.180</td>\n",
       "      <td>-0.305</td>\n",
       "      <td>-0.754</td>\n",
       "      <td>0.219</td>\n",
       "      <td>-0.285</td>\n",
       "      <td>-0.777</td>\n",
       "      <td>...</td>\n",
       "      <td>-0.160</td>\n",
       "      <td>-1.039</td>\n",
       "      <td>0.332</td>\n",
       "      <td>-0.156</td>\n",
       "      <td>4.0</td>\n",
       "      <td>H_AM01DO1_M</td>\n",
       "      <td>13-01-2018</td>\n",
       "      <td>active</td>\n",
       "      <td>non-sedentary</td>\n",
       "      <td>3.0</td>\n",
       "    </tr>\n",
       "    <tr>\n",
       "      <th>4</th>\n",
       "      <td>4</td>\n",
       "      <td>5.0</td>\n",
       "      <td>2017-10-06 16:44:04</td>\n",
       "      <td>-1.031</td>\n",
       "      <td>0.332</td>\n",
       "      <td>-0.160</td>\n",
       "      <td>-1.016</td>\n",
       "      <td>0.344</td>\n",
       "      <td>-0.164</td>\n",
       "      <td>-1.016</td>\n",
       "      <td>...</td>\n",
       "      <td>0.105</td>\n",
       "      <td>-0.570</td>\n",
       "      <td>0.605</td>\n",
       "      <td>0.133</td>\n",
       "      <td>5.0</td>\n",
       "      <td>H_AM01DO1_M</td>\n",
       "      <td>13-01-2018</td>\n",
       "      <td>active</td>\n",
       "      <td>non-sedentary</td>\n",
       "      <td>4.0</td>\n",
       "    </tr>\n",
       "  </tbody>\n",
       "</table>\n",
       "<p>5 rows × 249 columns</p>\n",
       "</div>"
      ],
      "text/plain": [
       "   Unnamed: 0  Unnamed: 0.1                   X1     X2     X3     X4     X5  \\\n",
       "0           0           1.0  2017-10-06 16:44:00 -0.191 -0.711 -0.660 -0.172   \n",
       "1           1           2.0  2017-10-06 16:44:01 -0.254 -0.715 -0.645 -0.266   \n",
       "2           2           3.0  2017-10-06 16:44:02  0.063 -0.715 -0.719  0.129   \n",
       "3           3           4.0  2017-10-06 16:44:03 -0.773  0.180 -0.305 -0.754   \n",
       "4           4           5.0  2017-10-06 16:44:04 -1.031  0.332 -0.160 -1.016   \n",
       "\n",
       "      X6     X7     X8  ...    X238   X239   X240   X241  Unnamed: 0.2  \\\n",
       "0 -0.715 -0.652 -0.207  ...  -0.648 -0.281 -0.730 -0.648           1.0   \n",
       "1 -0.727 -0.637 -0.289  ...  -0.711  0.035 -0.707 -0.715           2.0   \n",
       "2 -0.695 -0.719  0.164  ...  -0.301 -0.828  0.180 -0.316           3.0   \n",
       "3  0.219 -0.285 -0.777  ...  -0.160 -1.039  0.332 -0.156           4.0   \n",
       "4  0.344 -0.164 -1.016  ...   0.105 -0.570  0.605  0.133           5.0   \n",
       "\n",
       "   observation        date  activity         coding  time  \n",
       "0  H_AM01DO1_M  13-01-2018    active  non-sedentary   0.0  \n",
       "1  H_AM01DO1_M  13-01-2018    active  non-sedentary   1.0  \n",
       "2  H_AM01DO1_M  13-01-2018    active  non-sedentary   2.0  \n",
       "3  H_AM01DO1_M  13-01-2018    active  non-sedentary   3.0  \n",
       "4  H_AM01DO1_M  13-01-2018    active  non-sedentary   4.0  \n",
       "\n",
       "[5 rows x 249 columns]"
      ]
     },
     "execution_count": 6,
     "metadata": {},
     "output_type": "execute_result"
    }
   ],
   "source": [
    "data.head()"
   ]
  },
  {
   "cell_type": "markdown",
   "metadata": {},
   "source": [
    "## Reshape and Sample Data"
   ]
  },
  {
   "cell_type": "code",
   "execution_count": 7,
   "metadata": {},
   "outputs": [],
   "source": [
    "X = data.iloc[:, [i for i in range(3, 243)]]\n",
    "criterion = data.iloc[:, [246]]"
   ]
  },
  {
   "cell_type": "code",
   "execution_count": 16,
   "metadata": {},
   "outputs": [],
   "source": [
    "## creating variables for x, y, z variables\n",
    "## If using the file from MAKE_WIDE, this step shouldn't be necessary\n",
    "x = []\n",
    "y = []\n",
    "z = []\n",
    "for i in range(2,242,3):\n",
    "    \n",
    "    x.append('X' + str(i))\n",
    "    y.append('X' + str(i+1))\n",
    "    z.append('X' + str(i+2))\n",
    "\n",
    "three_dim_data = np.array([np.array(X[x]),np.array(X[y]),np.array(X[z])])"
   ]
  },
  {
   "cell_type": "code",
   "execution_count": 9,
   "metadata": {},
   "outputs": [],
   "source": [
    "transpose_data = three_dim_data.transpose()\n",
    "transpose_data = transpose_data.reshape(100405, 80, 3)"
   ]
  },
  {
   "cell_type": "markdown",
   "metadata": {},
   "source": [
    "### Get normalized vector magnitudes for each 1/80 second"
   ]
  },
  {
   "cell_type": "code",
   "execution_count": 12,
   "metadata": {},
   "outputs": [],
   "source": [
    "def curry_norm(x):\n",
    "    return pd.Series(np.apply_along_axis(np.linalg.norm, 1, x))"
   ]
  },
  {
   "cell_type": "code",
   "execution_count": 13,
   "metadata": {},
   "outputs": [],
   "source": [
    "vm_data = pd.DataFrame([curry_norm(transpose_data[0])])"
   ]
  },
  {
   "cell_type": "code",
   "execution_count": 12,
   "metadata": {},
   "outputs": [],
   "source": [
    "for row in transpose_data[1:]:\n",
    "    vm_data = vm_data.append(curry_norm(row), ignore_index=True)"
   ]
  },
  {
   "cell_type": "code",
   "execution_count": 14,
   "metadata": {},
   "outputs": [],
   "source": [
    "vm_data.to_csv(\"vector_magnitudes.csv\")"
   ]
  },
  {
   "cell_type": "code",
   "execution_count": 23,
   "metadata": {},
   "outputs": [],
   "source": [
    "# Use this if you've already saved precomputed vector magnitudes, as above\n",
    "vm_data = pd.read_csv('vector_magnitudes.csv')"
   ]
  },
  {
   "cell_type": "markdown",
   "metadata": {},
   "source": [
    "### Append criterion info to vector magnitude data"
   ]
  },
  {
   "cell_type": "code",
   "execution_count": 6,
   "metadata": {},
   "outputs": [],
   "source": [
    "vm_data = vm_data.iloc[:,1:]"
   ]
  },
  {
   "cell_type": "code",
   "execution_count": 7,
   "metadata": {},
   "outputs": [],
   "source": [
    "vm_data_crit = pd.concat([vm_data, criterion], axis = 1)"
   ]
  },
  {
   "cell_type": "markdown",
   "metadata": {},
   "source": [
    "## KNN With DTW"
   ]
  },
  {
   "cell_type": "code",
   "execution_count": 17,
   "metadata": {},
   "outputs": [],
   "source": [
    "from sklearn.metrics.pairwise import pairwise_distances\n",
    "from sklearn.neighbors import KNeighborsClassifier\n",
    "from fastdtw import *"
   ]
  },
  {
   "cell_type": "code",
   "execution_count": 18,
   "metadata": {},
   "outputs": [],
   "source": [
    "def get_fastdtw(x, y):\n",
    "    return fastdtw(x, y)[0]"
   ]
  },
  {
   "cell_type": "code",
   "execution_count": 27,
   "metadata": {},
   "outputs": [],
   "source": [
    "vm_data_crit['activity'] = criterion"
   ]
  },
  {
   "cell_type": "code",
   "execution_count": 11,
   "metadata": {},
   "outputs": [],
   "source": [
    "vm_data_crit = vm_data_crit.sample(frac=1)\n",
    "\n",
    "vm_criterion = vm_data_crit['activity'].copy(deep=True)\n",
    "\n",
    "vm_criterion[vm_data_crit['activity'] != 'active'] = 0\n",
    "vm_criterion[vm_data_crit['activity'] == 'active'] = 1"
   ]
  },
  {
   "cell_type": "code",
   "execution_count": 14,
   "metadata": {},
   "outputs": [
    {
     "data": {
      "text/plain": [
       "array([1, 0], dtype=object)"
      ]
     },
     "execution_count": 14,
     "metadata": {},
     "output_type": "execute_result"
    }
   ],
   "source": [
    "vm_criterion.unique()"
   ]
  },
  {
   "cell_type": "code",
   "execution_count": 12,
   "metadata": {},
   "outputs": [],
   "source": [
    "n = int(0.75 * len(data))\n",
    "\n",
    "trainX = vm_data_crit.iloc[:n, :80]\n",
    "testX = vm_data_crit.iloc[n:, :80]\n",
    "\n",
    "trainY = vm_criterion[:n].values.reshape(n,).astype('float')\n",
    "testY = vm_criterion[n:].values.reshape((len(data) -n),).astype('float')"
   ]
  },
  {
   "cell_type": "code",
   "execution_count": 13,
   "metadata": {},
   "outputs": [],
   "source": [
    "dtw = KNeighborsClassifier(n_neighbors = 10, metric=get_fastdtw)"
   ]
  },
  {
   "cell_type": "code",
   "execution_count": null,
   "metadata": {},
   "outputs": [
    {
     "data": {
      "text/plain": [
       "KNeighborsClassifier(algorithm='auto', leaf_size=30,\n",
       "           metric=<function get_fastdtw at 0x000001D579A44F28>,\n",
       "           metric_params=None, n_jobs=1, n_neighbors=10, p=2,\n",
       "           weights='uniform')"
      ]
     },
     "execution_count": 14,
     "metadata": {},
     "output_type": "execute_result"
    }
   ],
   "source": [
    "dtw.fit(trainX, trainY)"
   ]
  },
  {
   "cell_type": "code",
   "execution_count": null,
   "metadata": {},
   "outputs": [],
   "source": [
    "dtw_results = dtw.predict(testX)\n",
    "dtw_results.to_csv(\"dtw_results.csv\")"
   ]
  },
  {
   "cell_type": "code",
   "execution_count": null,
   "metadata": {},
   "outputs": [],
   "source": [
    "dtw_results"
   ]
  }
 ],
 "metadata": {
  "kernelspec": {
   "display_name": "Python 3",
   "language": "python",
   "name": "python3"
  },
  "language_info": {
   "codemirror_mode": {
    "name": "ipython",
    "version": 3
   },
   "file_extension": ".py",
   "mimetype": "text/x-python",
   "name": "python",
   "nbconvert_exporter": "python",
   "pygments_lexer": "ipython3",
   "version": "3.6.3"
  }
 },
 "nbformat": 4,
 "nbformat_minor": 2
}
