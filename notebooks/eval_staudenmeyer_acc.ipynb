{
 "cells": [
  {
   "cell_type": "code",
   "execution_count": 1,
   "metadata": {},
   "outputs": [],
   "source": [
    "import pandas as pd\n",
    "import json\n",
    "import sklearn.svm as svm\n",
    "import numpy as np\n",
    "from sklearn.utils import shuffle"
   ]
  },
  {
   "cell_type": "code",
   "execution_count": 2,
   "metadata": {},
   "outputs": [],
   "source": [
    "import os,sys,inspect\n",
    "currentdir = os.path.dirname(os.path.abspath(inspect.getfile(inspect.currentframe())))\n",
    "parentdir = os.path.dirname(currentdir)\n",
    "sys.path.insert(0,parentdir)"
   ]
  },
  {
   "cell_type": "code",
   "execution_count": 3,
   "metadata": {},
   "outputs": [],
   "source": [
    "import script as sc"
   ]
  },
  {
   "cell_type": "code",
   "execution_count": 8,
   "metadata": {},
   "outputs": [],
   "source": [
    "def load_Data(user, filename):\n",
    "   data = json.load(open('../dir.json'))\n",
    "   return (data[user] + filename)"
   ]
  },
  {
   "cell_type": "code",
   "execution_count": 3,
   "metadata": {},
   "outputs": [],
   "source": [
    "def load_struct():\n",
    "    data = json.load(open('../struct.json'))\n",
    "    return data"
   ]
  },
  {
   "cell_type": "code",
   "execution_count": 11,
   "metadata": {},
   "outputs": [],
   "source": [
    "filelist = load_struct()\n",
    "observedData = pd.DataFrame()\n",
    "user = \"AndrewStaudenmeyer\""
   ]
  },
  {
   "cell_type": "code",
   "execution_count": 13,
   "metadata": {},
   "outputs": [],
   "source": [
    "files = filelist[\"1\"]"
   ]
  },
  {
   "cell_type": "code",
   "execution_count": 16,
   "metadata": {},
   "outputs": [],
   "source": [
    "data = pd.read_csv(load_Data(user, files[\"AG\"]), header=0)\n",
    "gt1 = pd.read_csv(load_Data(user, files[\"GT1\"]), header=0)\n",
    "type1 = files[\"GT1\"][2]\n",
    "start1 = files[\"StartTime1\"]\n",
    "end1 = files[\"EndTime1\"]"
   ]
  },
  {
   "cell_type": "code",
   "execution_count": 17,
   "metadata": {},
   "outputs": [
    {
     "data": {
      "text/html": [
       "<div>\n",
       "<style scoped>\n",
       "    .dataframe tbody tr th:only-of-type {\n",
       "        vertical-align: middle;\n",
       "    }\n",
       "\n",
       "    .dataframe tbody tr th {\n",
       "        vertical-align: top;\n",
       "    }\n",
       "\n",
       "    .dataframe thead th {\n",
       "        text-align: right;\n",
       "    }\n",
       "</style>\n",
       "<table border=\"1\" class=\"dataframe\">\n",
       "  <thead>\n",
       "    <tr style=\"text-align: right;\">\n",
       "      <th></th>\n",
       "      <th>Unnamed: 0</th>\n",
       "      <th>mean.vm</th>\n",
       "      <th>sd.vm</th>\n",
       "      <th>mean.ang</th>\n",
       "      <th>sd.ang</th>\n",
       "      <th>p625</th>\n",
       "      <th>dfreq</th>\n",
       "      <th>ratio.df</th>\n",
       "      <th>sed.rf</th>\n",
       "      <th>start.time</th>\n",
       "    </tr>\n",
       "  </thead>\n",
       "  <tbody>\n",
       "    <tr>\n",
       "      <th>0</th>\n",
       "      <td>1</td>\n",
       "      <td>1.008720</td>\n",
       "      <td>0.005388</td>\n",
       "      <td>14.405906</td>\n",
       "      <td>0.178485</td>\n",
       "      <td>0.073094</td>\n",
       "      <td>6.153846</td>\n",
       "      <td>0.079059</td>\n",
       "      <td>sedentary</td>\n",
       "      <td>2017-10-02 10:15:00</td>\n",
       "    </tr>\n",
       "    <tr>\n",
       "      <th>1</th>\n",
       "      <td>2</td>\n",
       "      <td>1.008625</td>\n",
       "      <td>0.006601</td>\n",
       "      <td>14.444647</td>\n",
       "      <td>0.234531</td>\n",
       "      <td>0.074642</td>\n",
       "      <td>4.102564</td>\n",
       "      <td>0.174183</td>\n",
       "      <td>sedentary</td>\n",
       "      <td>2017-10-02 10:15:01</td>\n",
       "    </tr>\n",
       "    <tr>\n",
       "      <th>2</th>\n",
       "      <td>3</td>\n",
       "      <td>1.018935</td>\n",
       "      <td>0.023567</td>\n",
       "      <td>12.862005</td>\n",
       "      <td>2.996361</td>\n",
       "      <td>0.309095</td>\n",
       "      <td>1.025641</td>\n",
       "      <td>0.158892</td>\n",
       "      <td>sedentary</td>\n",
       "      <td>2017-10-02 10:15:02</td>\n",
       "    </tr>\n",
       "    <tr>\n",
       "      <th>3</th>\n",
       "      <td>4</td>\n",
       "      <td>1.019761</td>\n",
       "      <td>0.066683</td>\n",
       "      <td>-1.952166</td>\n",
       "      <td>12.679718</td>\n",
       "      <td>0.114479</td>\n",
       "      <td>2.051282</td>\n",
       "      <td>0.101853</td>\n",
       "      <td>sedentary</td>\n",
       "      <td>2017-10-02 10:15:03</td>\n",
       "    </tr>\n",
       "    <tr>\n",
       "      <th>4</th>\n",
       "      <td>5</td>\n",
       "      <td>1.043682</td>\n",
       "      <td>0.056193</td>\n",
       "      <td>-16.001678</td>\n",
       "      <td>5.775647</td>\n",
       "      <td>0.217691</td>\n",
       "      <td>1.025641</td>\n",
       "      <td>0.149609</td>\n",
       "      <td>sedentary</td>\n",
       "      <td>2017-10-02 10:15:04</td>\n",
       "    </tr>\n",
       "  </tbody>\n",
       "</table>\n",
       "</div>"
      ],
      "text/plain": [
       "   Unnamed: 0   mean.vm     sd.vm   mean.ang     sd.ang      p625     dfreq  \\\n",
       "0           1  1.008720  0.005388  14.405906   0.178485  0.073094  6.153846   \n",
       "1           2  1.008625  0.006601  14.444647   0.234531  0.074642  4.102564   \n",
       "2           3  1.018935  0.023567  12.862005   2.996361  0.309095  1.025641   \n",
       "3           4  1.019761  0.066683  -1.952166  12.679718  0.114479  2.051282   \n",
       "4           5  1.043682  0.056193 -16.001678   5.775647  0.217691  1.025641   \n",
       "\n",
       "   ratio.df     sed.rf           start.time  \n",
       "0  0.079059  sedentary  2017-10-02 10:15:00  \n",
       "1  0.174183  sedentary  2017-10-02 10:15:01  \n",
       "2  0.158892  sedentary  2017-10-02 10:15:02  \n",
       "3  0.101853  sedentary  2017-10-02 10:15:03  \n",
       "4  0.149609  sedentary  2017-10-02 10:15:04  "
      ]
     },
     "execution_count": 17,
     "metadata": {},
     "output_type": "execute_result"
    }
   ],
   "source": [
    "data.head()"
   ]
  },
  {
   "cell_type": "code",
   "execution_count": 18,
   "metadata": {},
   "outputs": [
    {
     "ename": "NameError",
     "evalue": "name 'useable_Data' is not defined",
     "output_type": "error",
     "traceback": [
      "\u001b[1;31m---------------------------------------------------------------------------\u001b[0m",
      "\u001b[1;31mNameError\u001b[0m                                 Traceback (most recent call last)",
      "\u001b[1;32m<ipython-input-18-e6ee97340afd>\u001b[0m in \u001b[0;36m<module>\u001b[1;34m()\u001b[0m\n\u001b[1;32m----> 1\u001b[1;33m \u001b[0mobservedData\u001b[0m \u001b[1;33m=\u001b[0m \u001b[0mpd\u001b[0m\u001b[1;33m.\u001b[0m\u001b[0mDataFrame\u001b[0m\u001b[1;33m(\u001b[0m\u001b[0museable_Data\u001b[0m\u001b[1;33m(\u001b[0m\u001b[0mdata\u001b[0m\u001b[1;33m,\u001b[0m \u001b[0mgt1\u001b[0m\u001b[1;33m,\u001b[0m \u001b[0mstart1\u001b[0m\u001b[1;33m,\u001b[0m \u001b[0mend1\u001b[0m\u001b[1;33m)\u001b[0m\u001b[1;33m)\u001b[0m\u001b[1;33m\u001b[0m\u001b[0m\n\u001b[0m\u001b[0;32m      2\u001b[0m \u001b[1;33m\u001b[0m\u001b[0m\n\u001b[0;32m      3\u001b[0m \u001b[0mobservedData\u001b[0m\u001b[1;33m[\u001b[0m\u001b[1;34m'type'\u001b[0m\u001b[1;33m]\u001b[0m \u001b[1;33m=\u001b[0m \u001b[0mtype1\u001b[0m \u001b[1;33m+\u001b[0m \u001b[1;34m'-'\u001b[0m \u001b[1;33m+\u001b[0m \u001b[0mstr\u001b[0m\u001b[1;33m(\u001b[0m\u001b[0msubject\u001b[0m\u001b[1;33m)\u001b[0m\u001b[1;33m\u001b[0m\u001b[0m\n\u001b[0;32m      4\u001b[0m \u001b[1;33m\u001b[0m\u001b[0m\n\u001b[0;32m      5\u001b[0m \u001b[1;32mif\u001b[0m\u001b[1;33m(\u001b[0m\u001b[1;34m\"GT2\"\u001b[0m \u001b[1;32min\u001b[0m \u001b[0mfiles\u001b[0m\u001b[1;33m)\u001b[0m\u001b[1;33m:\u001b[0m\u001b[1;33m\u001b[0m\u001b[0m\n",
      "\u001b[1;31mNameError\u001b[0m: name 'useable_Data' is not defined"
     ]
    }
   ],
   "source": [
    "observedData = pd.DataFrame(useable_Data(data, gt1, start1, end1))\n",
    "\n",
    "observedData['type'] = type1 + '-' + str(subject)\n",
    "\n",
    "if(\"GT2\" in files):\n",
    "    gt2 = pd.read_csv(load_Data(user, files[\"GT2\"]), header=0)\n",
    "    type2 = files[\"GT2\"][2]\n",
    "    start2 = files[\"StartTime2\"]\n",
    "    end2 = files[\"EndTime2\"]\n",
    "    observedData1 = pd.DataFrame(useable_Data(data, gt2, start2, end2))\n",
    "    observedData1['type'] = type2 + '-' + str(subject)\n",
    "    observedData = pd.concat([observedData, observedData1])"
   ]
  },
  {
   "cell_type": "code",
   "execution_count": null,
   "metadata": {},
   "outputs": [],
   "source": [
    "observedData1 = get_observed_data_for_subject(user, i, files[str(1)])\n",
    "observedData = pd.concat([observedData, observedData1]) "
   ]
  },
  {
   "cell_type": "code",
   "execution_count": 4,
   "metadata": {},
   "outputs": [
    {
     "name": "stderr",
     "output_type": "stream",
     "text": [
      "C:\\Users\\Andrew\\Documents\\CalPoly\\DataCapstone\\KineseItUp\\script.py:23: SettingWithCopyWarning: \n",
      "A value is trying to be set on a copy of a slice from a DataFrame.\n",
      "Try using .loc[row_indexer,col_indexer] = value instead\n",
      "\n",
      "See the caveats in the documentation: http://pandas.pydata.org/pandas-docs/stable/indexing.html#indexing-view-versus-copy\n",
      "  observedData['index'] = range(len(observedData))\n"
     ]
    }
   ],
   "source": [
    "sc.update_staudenmeyer_complete(\"AndrewStaudenmeyer\")"
   ]
  },
  {
   "cell_type": "code",
   "execution_count": 5,
   "metadata": {},
   "outputs": [],
   "source": [
    "staudenmeyer_data = sc.get_staudenmeyer_complete(\"AndrewStaudenmeyer\")"
   ]
  },
  {
   "cell_type": "code",
   "execution_count": 6,
   "metadata": {},
   "outputs": [
    {
     "data": {
      "text/html": [
       "<div>\n",
       "<style scoped>\n",
       "    .dataframe tbody tr th:only-of-type {\n",
       "        vertical-align: middle;\n",
       "    }\n",
       "\n",
       "    .dataframe tbody tr th {\n",
       "        vertical-align: top;\n",
       "    }\n",
       "\n",
       "    .dataframe thead th {\n",
       "        text-align: right;\n",
       "    }\n",
       "</style>\n",
       "<table border=\"1\" class=\"dataframe\">\n",
       "  <thead>\n",
       "    <tr style=\"text-align: right;\">\n",
       "      <th></th>\n",
       "      <th>Unnamed: 0</th>\n",
       "      <th>Unnamed: 0.1</th>\n",
       "      <th>mean.vm</th>\n",
       "      <th>sd.vm</th>\n",
       "      <th>mean.ang</th>\n",
       "      <th>sd.ang</th>\n",
       "      <th>p625</th>\n",
       "      <th>dfreq</th>\n",
       "      <th>ratio.df</th>\n",
       "      <th>sed.rf</th>\n",
       "      <th>start.time</th>\n",
       "      <th>index</th>\n",
       "      <th>activity</th>\n",
       "      <th>coding</th>\n",
       "      <th>type</th>\n",
       "    </tr>\n",
       "  </thead>\n",
       "  <tbody>\n",
       "    <tr>\n",
       "      <th>0</th>\n",
       "      <td>0</td>\n",
       "      <td>368947</td>\n",
       "      <td>1.027036</td>\n",
       "      <td>0.065807</td>\n",
       "      <td>-32.179828</td>\n",
       "      <td>8.090852</td>\n",
       "      <td>0.188766</td>\n",
       "      <td>4.102564</td>\n",
       "      <td>0.126940</td>\n",
       "      <td>non-sedentary</td>\n",
       "      <td>2017-10-06 16:44:06</td>\n",
       "      <td>0</td>\n",
       "      <td>active</td>\n",
       "      <td>non-sedentary</td>\n",
       "      <td>H-1</td>\n",
       "    </tr>\n",
       "    <tr>\n",
       "      <th>1</th>\n",
       "      <td>1</td>\n",
       "      <td>368948</td>\n",
       "      <td>1.029727</td>\n",
       "      <td>0.136367</td>\n",
       "      <td>-32.955579</td>\n",
       "      <td>8.908046</td>\n",
       "      <td>0.222211</td>\n",
       "      <td>3.076923</td>\n",
       "      <td>0.174922</td>\n",
       "      <td>non-sedentary</td>\n",
       "      <td>2017-10-06 16:44:07</td>\n",
       "      <td>1</td>\n",
       "      <td>active</td>\n",
       "      <td>non-sedentary</td>\n",
       "      <td>H-1</td>\n",
       "    </tr>\n",
       "    <tr>\n",
       "      <th>2</th>\n",
       "      <td>2</td>\n",
       "      <td>368949</td>\n",
       "      <td>1.003435</td>\n",
       "      <td>0.056664</td>\n",
       "      <td>-47.568056</td>\n",
       "      <td>6.244429</td>\n",
       "      <td>0.235925</td>\n",
       "      <td>3.076923</td>\n",
       "      <td>0.245706</td>\n",
       "      <td>non-sedentary</td>\n",
       "      <td>2017-10-06 16:44:08</td>\n",
       "      <td>2</td>\n",
       "      <td>active</td>\n",
       "      <td>non-sedentary</td>\n",
       "      <td>H-1</td>\n",
       "    </tr>\n",
       "    <tr>\n",
       "      <th>3</th>\n",
       "      <td>3</td>\n",
       "      <td>368950</td>\n",
       "      <td>1.020198</td>\n",
       "      <td>0.070674</td>\n",
       "      <td>-54.486552</td>\n",
       "      <td>4.062847</td>\n",
       "      <td>0.479812</td>\n",
       "      <td>2.051282</td>\n",
       "      <td>0.241239</td>\n",
       "      <td>non-sedentary</td>\n",
       "      <td>2017-10-06 16:44:09</td>\n",
       "      <td>3</td>\n",
       "      <td>active</td>\n",
       "      <td>non-sedentary</td>\n",
       "      <td>H-1</td>\n",
       "    </tr>\n",
       "    <tr>\n",
       "      <th>4</th>\n",
       "      <td>4</td>\n",
       "      <td>368951</td>\n",
       "      <td>1.003209</td>\n",
       "      <td>0.031647</td>\n",
       "      <td>-52.630436</td>\n",
       "      <td>2.084940</td>\n",
       "      <td>0.443848</td>\n",
       "      <td>2.051282</td>\n",
       "      <td>0.291673</td>\n",
       "      <td>sedentary</td>\n",
       "      <td>2017-10-06 16:44:10</td>\n",
       "      <td>4</td>\n",
       "      <td>active</td>\n",
       "      <td>non-sedentary</td>\n",
       "      <td>H-1</td>\n",
       "    </tr>\n",
       "  </tbody>\n",
       "</table>\n",
       "</div>"
      ],
      "text/plain": [
       "   Unnamed: 0  Unnamed: 0.1   mean.vm     sd.vm   mean.ang    sd.ang  \\\n",
       "0           0        368947  1.027036  0.065807 -32.179828  8.090852   \n",
       "1           1        368948  1.029727  0.136367 -32.955579  8.908046   \n",
       "2           2        368949  1.003435  0.056664 -47.568056  6.244429   \n",
       "3           3        368950  1.020198  0.070674 -54.486552  4.062847   \n",
       "4           4        368951  1.003209  0.031647 -52.630436  2.084940   \n",
       "\n",
       "       p625     dfreq  ratio.df         sed.rf           start.time  index  \\\n",
       "0  0.188766  4.102564  0.126940  non-sedentary  2017-10-06 16:44:06      0   \n",
       "1  0.222211  3.076923  0.174922  non-sedentary  2017-10-06 16:44:07      1   \n",
       "2  0.235925  3.076923  0.245706  non-sedentary  2017-10-06 16:44:08      2   \n",
       "3  0.479812  2.051282  0.241239  non-sedentary  2017-10-06 16:44:09      3   \n",
       "4  0.443848  2.051282  0.291673      sedentary  2017-10-06 16:44:10      4   \n",
       "\n",
       "  activity         coding type  \n",
       "0   active  non-sedentary  H-1  \n",
       "1   active  non-sedentary  H-1  \n",
       "2   active  non-sedentary  H-1  \n",
       "3   active  non-sedentary  H-1  \n",
       "4   active  non-sedentary  H-1  "
      ]
     },
     "execution_count": 6,
     "metadata": {},
     "output_type": "execute_result"
    }
   ],
   "source": [
    "staudenmeyer_data.head()"
   ]
  },
  {
   "cell_type": "code",
   "execution_count": 7,
   "metadata": {},
   "outputs": [],
   "source": [
    "correct = staudenmeyer_data['sed.rf'] == staudenmeyer_data['coding']"
   ]
  },
  {
   "cell_type": "code",
   "execution_count": 8,
   "metadata": {},
   "outputs": [],
   "source": [
    "correct[correct] = 1"
   ]
  },
  {
   "cell_type": "code",
   "execution_count": 9,
   "metadata": {},
   "outputs": [
    {
     "data": {
      "text/plain": [
       "0.696641116719636"
      ]
     },
     "execution_count": 9,
     "metadata": {},
     "output_type": "execute_result"
    }
   ],
   "source": [
    "sum(correct) / len(correct)"
   ]
  },
  {
   "cell_type": "code",
   "execution_count": 14,
   "metadata": {},
   "outputs": [],
   "source": [
    "staudenmeyer_data.loc[staudenmeyer_data['sed.rf'] != 'sedentary', 'sed.rf'] = 0\n",
    "staudenmeyer_data.loc[staudenmeyer_data['sed.rf'] == 'sedentary', 'sed.rf'] = 1"
   ]
  },
  {
   "cell_type": "code",
   "execution_count": 15,
   "metadata": {},
   "outputs": [
    {
     "data": {
      "text/plain": [
       "type\n",
       "A-13    2699\n",
       "A-4     1996\n",
       "A-6     2604\n",
       "A-8     2752\n",
       "E-14    4465\n",
       "E-6     4443\n",
       "E-7     4543\n",
       "E-8     4450\n",
       "H-1     4009\n",
       "H-3     4903\n",
       "H-7     4061\n",
       "L-1     6258\n",
       "L-3     6293\n",
       "L-5     6186\n",
       "W-13    6103\n",
       "W-15    5862\n",
       "W-4     3106\n",
       "W-9     4842\n",
       "Name: sed.rf, dtype: int64"
      ]
     },
     "execution_count": 15,
     "metadata": {},
     "output_type": "execute_result"
    }
   ],
   "source": [
    "staudenmeyer_data.groupby(staudenmeyer_data['type'])['sed.rf'].sum()"
   ]
  }
 ],
 "metadata": {
  "kernelspec": {
   "display_name": "Python 3",
   "language": "python",
   "name": "python3"
  },
  "language_info": {
   "codemirror_mode": {
    "name": "ipython",
    "version": 3
   },
   "file_extension": ".py",
   "mimetype": "text/x-python",
   "name": "python",
   "nbconvert_exporter": "python",
   "pygments_lexer": "ipython3",
   "version": "3.6.3"
  }
 },
 "nbformat": 4,
 "nbformat_minor": 2
}
