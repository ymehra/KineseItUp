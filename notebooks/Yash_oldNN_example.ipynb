{
 "cells": [
  {
   "cell_type": "code",
   "execution_count": 1,
   "metadata": {},
   "outputs": [],
   "source": [
    "import pandas as pd\n",
    "import json\n",
    "import sklearn.svm as svm\n",
    "from sklearn.linear_model import Lasso, LassoCV\n",
    "from sklearn.feature_selection import SelectFromModel\n",
    "import numpy as np\n",
    "from sklearn.neural_network import MLPClassifier\n",
    "import script as sc\n",
    "from sklearn import preprocessing\n",
    "from sklearn.metrics import confusion_matrix\n",
    "from sklearn.metrics import f1_score"
   ]
  },
  {
   "cell_type": "code",
   "execution_count": 2,
   "metadata": {},
   "outputs": [],
   "source": [
    "## Change the name to get your path\n",
    "user = 'Yash'"
   ]
  },
  {
   "cell_type": "markdown",
   "metadata": {},
   "source": [
    "## Build test and train Datasets"
   ]
  },
  {
   "cell_type": "code",
   "execution_count": 3,
   "metadata": {},
   "outputs": [
    {
     "name": "stderr",
     "output_type": "stream",
     "text": [
      "/Users/yashmehra/Google Drive/DATA 451/KineseItUp/script.py:24: SettingWithCopyWarning: \n",
      "A value is trying to be set on a copy of a slice from a DataFrame.\n",
      "Try using .loc[row_indexer,col_indexer] = value instead\n",
      "\n",
      "See the caveats in the documentation: http://pandas.pydata.org/pandas-docs/stable/indexing.html#indexing-view-versus-copy\n",
      "  observedData['index'] = range(len(observedData))\n"
     ]
    }
   ],
   "source": [
    "sc.update_complete(user)\n",
    "data = pd.DataFrame(sc.get_complete(user))"
   ]
  },
  {
   "cell_type": "code",
   "execution_count": 4,
   "metadata": {},
   "outputs": [
    {
     "data": {
      "text/html": [
       "<div>\n",
       "<style scoped>\n",
       "    .dataframe tbody tr th:only-of-type {\n",
       "        vertical-align: middle;\n",
       "    }\n",
       "\n",
       "    .dataframe tbody tr th {\n",
       "        vertical-align: top;\n",
       "    }\n",
       "\n",
       "    .dataframe thead th {\n",
       "        text-align: right;\n",
       "    }\n",
       "</style>\n",
       "<table border=\"1\" class=\"dataframe\">\n",
       "  <thead>\n",
       "    <tr style=\"text-align: right;\">\n",
       "      <th></th>\n",
       "      <th>Unnamed: 0</th>\n",
       "      <th>Unnamed: 0.1</th>\n",
       "      <th>mean.vm</th>\n",
       "      <th>sd.vm</th>\n",
       "      <th>mean.ang</th>\n",
       "      <th>sd.ang</th>\n",
       "      <th>p625</th>\n",
       "      <th>dfreq</th>\n",
       "      <th>ratio.df</th>\n",
       "      <th>start.time</th>\n",
       "      <th>index</th>\n",
       "      <th>activity</th>\n",
       "      <th>coding</th>\n",
       "      <th>type</th>\n",
       "    </tr>\n",
       "  </thead>\n",
       "  <tbody>\n",
       "    <tr>\n",
       "      <th>0</th>\n",
       "      <td>0</td>\n",
       "      <td>368941</td>\n",
       "      <td>1.025459</td>\n",
       "      <td>0.052283</td>\n",
       "      <td>-13.663296</td>\n",
       "      <td>3.477743</td>\n",
       "      <td>0.072835</td>\n",
       "      <td>12.307692</td>\n",
       "      <td>0.072342</td>\n",
       "      <td>2017-10-06 16:44:00</td>\n",
       "      <td>0</td>\n",
       "      <td>active</td>\n",
       "      <td>non-sedentary</td>\n",
       "      <td>H-1</td>\n",
       "    </tr>\n",
       "    <tr>\n",
       "      <th>1</th>\n",
       "      <td>1</td>\n",
       "      <td>368942</td>\n",
       "      <td>1.019744</td>\n",
       "      <td>0.028089</td>\n",
       "      <td>-16.673945</td>\n",
       "      <td>2.361258</td>\n",
       "      <td>0.059919</td>\n",
       "      <td>9.230769</td>\n",
       "      <td>0.095085</td>\n",
       "      <td>2017-10-06 16:44:01</td>\n",
       "      <td>1</td>\n",
       "      <td>active</td>\n",
       "      <td>non-sedentary</td>\n",
       "      <td>H-1</td>\n",
       "    </tr>\n",
       "    <tr>\n",
       "      <th>2</th>\n",
       "      <td>2</td>\n",
       "      <td>368943</td>\n",
       "      <td>1.027147</td>\n",
       "      <td>0.026020</td>\n",
       "      <td>-6.451596</td>\n",
       "      <td>5.413729</td>\n",
       "      <td>0.216824</td>\n",
       "      <td>2.051282</td>\n",
       "      <td>0.179074</td>\n",
       "      <td>2017-10-06 16:44:02</td>\n",
       "      <td>2</td>\n",
       "      <td>active</td>\n",
       "      <td>non-sedentary</td>\n",
       "      <td>H-1</td>\n",
       "    </tr>\n",
       "    <tr>\n",
       "      <th>3</th>\n",
       "      <td>3</td>\n",
       "      <td>368944</td>\n",
       "      <td>1.049957</td>\n",
       "      <td>0.119535</td>\n",
       "      <td>-21.404693</td>\n",
       "      <td>23.206850</td>\n",
       "      <td>0.299554</td>\n",
       "      <td>2.051282</td>\n",
       "      <td>0.172340</td>\n",
       "      <td>2017-10-06 16:44:03</td>\n",
       "      <td>3</td>\n",
       "      <td>active</td>\n",
       "      <td>non-sedentary</td>\n",
       "      <td>H-1</td>\n",
       "    </tr>\n",
       "    <tr>\n",
       "      <th>4</th>\n",
       "      <td>4</td>\n",
       "      <td>368945</td>\n",
       "      <td>1.028554</td>\n",
       "      <td>0.049378</td>\n",
       "      <td>-69.353741</td>\n",
       "      <td>1.962348</td>\n",
       "      <td>0.130182</td>\n",
       "      <td>4.102564</td>\n",
       "      <td>0.067698</td>\n",
       "      <td>2017-10-06 16:44:04</td>\n",
       "      <td>4</td>\n",
       "      <td>active</td>\n",
       "      <td>non-sedentary</td>\n",
       "      <td>H-1</td>\n",
       "    </tr>\n",
       "  </tbody>\n",
       "</table>\n",
       "</div>"
      ],
      "text/plain": [
       "   Unnamed: 0  Unnamed: 0.1   mean.vm     sd.vm   mean.ang     sd.ang  \\\n",
       "0           0        368941  1.025459  0.052283 -13.663296   3.477743   \n",
       "1           1        368942  1.019744  0.028089 -16.673945   2.361258   \n",
       "2           2        368943  1.027147  0.026020  -6.451596   5.413729   \n",
       "3           3        368944  1.049957  0.119535 -21.404693  23.206850   \n",
       "4           4        368945  1.028554  0.049378 -69.353741   1.962348   \n",
       "\n",
       "       p625      dfreq  ratio.df           start.time  index activity  \\\n",
       "0  0.072835  12.307692  0.072342  2017-10-06 16:44:00      0   active   \n",
       "1  0.059919   9.230769  0.095085  2017-10-06 16:44:01      1   active   \n",
       "2  0.216824   2.051282  0.179074  2017-10-06 16:44:02      2   active   \n",
       "3  0.299554   2.051282  0.172340  2017-10-06 16:44:03      3   active   \n",
       "4  0.130182   4.102564  0.067698  2017-10-06 16:44:04      4   active   \n",
       "\n",
       "          coding type  \n",
       "0  non-sedentary  H-1  \n",
       "1  non-sedentary  H-1  \n",
       "2  non-sedentary  H-1  \n",
       "3  non-sedentary  H-1  \n",
       "4  non-sedentary  H-1  "
      ]
     },
     "execution_count": 4,
     "metadata": {},
     "output_type": "execute_result"
    }
   ],
   "source": [
    "data.head()"
   ]
  },
  {
   "cell_type": "code",
   "execution_count": 26,
   "metadata": {},
   "outputs": [],
   "source": [
    "data = sc.get_lags(data, 1)"
   ]
  },
  {
   "cell_type": "code",
   "execution_count": 27,
   "metadata": {},
   "outputs": [
    {
     "data": {
      "text/plain": [
       "Unnamed: 0                          50\n",
       "Unnamed: 0.1                    368991\n",
       "mean.vm                        1.18615\n",
       "sd.vm                         0.358591\n",
       "mean.ang                      -48.4927\n",
       "sd.ang                         8.80442\n",
       "p625                          0.462083\n",
       "dfreq                          1.02564\n",
       "ratio.df                      0.268204\n",
       "start.time         2017-10-06 16:44:50\n",
       "index                               50\n",
       "coding                   non-sedentary\n",
       "type                               H-1\n",
       "last.1.mean.vm                0.984337\n",
       "last.1.sd.vm                 0.0740087\n",
       "last.1.mean.ang               -50.4869\n",
       "last.1.sd.ang                  3.89695\n",
       "last.1.p625                    0.13056\n",
       "last.1.dfreq                   3.07692\n",
       "last.1.ratio.df               0.146597\n",
       "Name: 50, dtype: object"
      ]
     },
     "execution_count": 27,
     "metadata": {},
     "output_type": "execute_result"
    }
   ],
   "source": [
    "data.iloc[50,:]"
   ]
  },
  {
   "cell_type": "code",
   "execution_count": 29,
   "metadata": {},
   "outputs": [],
   "source": [
    "trainX, trainY, testX, testY = sc.get_test_train(data, 1)"
   ]
  },
  {
   "cell_type": "code",
   "execution_count": 30,
   "metadata": {},
   "outputs": [
    {
     "data": {
      "text/plain": [
       "0"
      ]
     },
     "execution_count": 30,
     "metadata": {},
     "output_type": "execute_result"
    }
   ],
   "source": [
    "data.isnull().sum().sum()"
   ]
  },
  {
   "cell_type": "markdown",
   "metadata": {},
   "source": [
    "## SVM"
   ]
  },
  {
   "cell_type": "code",
   "execution_count": 305,
   "metadata": {},
   "outputs": [
    {
     "data": {
      "text/plain": [
       "SVC(C=1.0, cache_size=7000, class_weight=None, coef0=0.0,\n",
       "  decision_function_shape='ovr', degree=3, gamma='auto', kernel='rbf',\n",
       "  max_iter=-1, probability=False, random_state=None, shrinking=True,\n",
       "  tol=0.001, verbose=False)"
      ]
     },
     "execution_count": 305,
     "metadata": {},
     "output_type": "execute_result"
    }
   ],
   "source": [
    "clf = svm.SVC(cache_size=7000)\n",
    "clf.fit(trainX, trainY)"
   ]
  },
  {
   "cell_type": "code",
   "execution_count": 306,
   "metadata": {},
   "outputs": [
    {
     "data": {
      "text/plain": [
       "0.7878451505480782"
      ]
     },
     "execution_count": 306,
     "metadata": {},
     "output_type": "execute_result"
    }
   ],
   "source": [
    "clf.score(testX,testY)"
   ]
  },
  {
   "cell_type": "markdown",
   "metadata": {},
   "source": [
    "## Neural Network"
   ]
  },
  {
   "cell_type": "code",
   "execution_count": 6,
   "metadata": {},
   "outputs": [
    {
     "data": {
      "text/plain": [
       "MLPClassifier(activation='relu', alpha=1e-05, batch_size='auto', beta_1=0.9,\n",
       "       beta_2=0.999, early_stopping=False, epsilon=1e-08,\n",
       "       hidden_layer_sizes=(2000, 1000), learning_rate='constant',\n",
       "       learning_rate_init=0.001, max_iter=200, momentum=0.9,\n",
       "       nesterovs_momentum=True, power_t=0.5, random_state=1, shuffle=True,\n",
       "       solver='lbfgs', tol=0.0001, validation_fraction=0.1, verbose=True,\n",
       "       warm_start=False)"
      ]
     },
     "execution_count": 6,
     "metadata": {},
     "output_type": "execute_result"
    }
   ],
   "source": [
    "n_net = MLPClassifier(solver='lbfgs', alpha=1e-5,hidden_layer_sizes=(2000, 1000), random_state=1, verbose = True)\n",
    "n_net.fit(trainX,trainY)"
   ]
  },
  {
   "cell_type": "code",
   "execution_count": 7,
   "metadata": {},
   "outputs": [
    {
     "data": {
      "text/plain": [
       "0.8119491377808744"
      ]
     },
     "execution_count": 7,
     "metadata": {},
     "output_type": "execute_result"
    }
   ],
   "source": [
    "np.sum(n_net.predict(testX) == testY) / len(testX)"
   ]
  },
  {
   "cell_type": "code",
   "execution_count": 8,
   "metadata": {},
   "outputs": [
    {
     "name": "stdout",
     "output_type": "stream",
     "text": [
      "[[ 9444  3302]\n",
      " [ 2096 13863]]\n"
     ]
    },
    {
     "data": {
      "text/plain": [
       "0.777732026682039"
      ]
     },
     "execution_count": 8,
     "metadata": {},
     "output_type": "execute_result"
    }
   ],
   "source": [
    "predictedVals = n_net.predict(testX)\n",
    "print (confusion_matrix(testY,predictedVals,labels = ['sedentary','non-sedentary']))\n",
    "f1_score(testY == 'sedentary', predictedVals == 'sedentary',labels = ['sedentary','non-sedentary'])"
   ]
  },
  {
   "cell_type": "code",
   "execution_count": 13,
   "metadata": {},
   "outputs": [
    {
     "data": {
      "text/plain": [
       "(86112, 20)"
      ]
     },
     "execution_count": 13,
     "metadata": {},
     "output_type": "execute_result"
    }
   ],
   "source": [
    "train.shape"
   ]
  }
 ],
 "metadata": {
  "kernelspec": {
   "display_name": "Python 3",
   "language": "python",
   "name": "python3"
  },
  "language_info": {
   "codemirror_mode": {
    "name": "ipython",
    "version": 3
   },
   "file_extension": ".py",
   "mimetype": "text/x-python",
   "name": "python",
   "nbconvert_exporter": "python",
   "pygments_lexer": "ipython3",
   "version": "3.6.4"
  }
 },
 "nbformat": 4,
 "nbformat_minor": 2
}
