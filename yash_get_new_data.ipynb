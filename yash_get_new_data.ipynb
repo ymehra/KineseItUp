{
 "cells": [
  {
   "cell_type": "code",
   "execution_count": 3,
   "metadata": {},
   "outputs": [],
   "source": [
    "import pandas as pd\n",
    "import json\n",
    "import sklearn.svm as svm\n",
    "from sklearn.linear_model import Lasso, LassoCV\n",
    "from sklearn.feature_selection import SelectFromModel\n",
    "import numpy as np\n",
    "from sklearn.neural_network import MLPClassifier\n",
    "import script as sc\n",
    "from sklearn import preprocessing\n",
    "from sklearn.metrics import confusion_matrix\n",
    "from sklearn.metrics import f1_score"
   ]
  },
  {
   "cell_type": "code",
   "execution_count": 36,
   "metadata": {},
   "outputs": [],
   "source": [
    "user = \"Yash\""
   ]
  },
  {
   "cell_type": "code",
   "execution_count": 64,
   "metadata": {},
   "outputs": [
    {
     "data": {
      "text/plain": [
       "'GTH01-01.csv'"
      ]
     },
     "execution_count": 64,
     "metadata": {},
     "output_type": "execute_result"
    }
   ],
   "source": [
    "files[\"1\"][\"GT\" + str(1)]"
   ]
  },
  {
   "cell_type": "code",
   "execution_count": 82,
   "metadata": {},
   "outputs": [
    {
     "name": "stdout",
     "output_type": "stream",
     "text": [
      "(7200, 248) (7200, 242) (7265, 6)\n",
      "(7200, 248) (7200, 242) (7336, 6)\n",
      "(7141, 248) (7141, 242) (7149, 6)\n",
      "(7261, 248) (7261, 242) (7267, 6)\n",
      "(7200, 248) (7200, 242) (7206, 6)\n",
      "(7261, 248) (7261, 242) (7266, 6)\n",
      "(7241, 248) (7400, 242) (7241, 6)\n",
      "(7242, 248) (7400, 242) (7242, 6)\n",
      "(7201, 248) (7201, 242) (7212, 6)\n",
      "(7300, 248) (7320, 242) (7300, 6)\n",
      "(7200, 248) (7200, 242) (7231, 6)\n",
      "(6556, 248) (6556, 242) (7427, 6)\n",
      "(7201, 248) (7201, 242) (7265, 6)\n",
      "(7201, 248) (7201, 242) (7259, 6)\n",
      "(100405, 248)\n"
     ]
    }
   ],
   "source": [
    "wide_data = pd.DataFrame()\n",
    "loc = json.load(open('dir.json'))[\"AGG-Yash\"]\n",
    "wide = json.load(open('wide.json'))\n",
    "files = sc.load_struct()\n",
    "for i in wide:\n",
    "    data = pd.read_csv(loc + wide[i])\n",
    "    subject = int(wide[i][7] + wide[i][8])\n",
    "    session = int(wide[i][10] + wide[i][11])\n",
    "    data = data.dropna()\n",
    "    gt = pd.read_csv(sc.load_Data(\"Yash\", files[str(subject)][\"GT\" + str(session)]), header=0)\n",
    "    new_data = pd.concat([data, gt], axis=1).dropna()\n",
    "    wide_data = pd.concat([wide_data, new_data])\n",
    "    print(new_data.shape, data.shape, gt.shape)\n",
    "    \n",
    "print(wide_data.shape)"
   ]
  },
  {
   "cell_type": "code",
   "execution_count": 84,
   "metadata": {},
   "outputs": [],
   "source": [
    "wide_data.to_csv(loc+'complete_wide.csv')"
   ]
  },
  {
   "cell_type": "code",
   "execution_count": 69,
   "metadata": {},
   "outputs": [],
   "source": [
    "def get_wide_data(user, data, subject, files):\n",
    "    gt1 = pd.read_csv(sc.load_Data(user, files[\"GT1\"]), header=0)\n",
    "    type1 = files[\"GT1\"][2]\n",
    "    start1 = files[\"StartTime1\"]\n",
    "    end1 = files[\"EndTime1\"]\n",
    "    observedData = pd.concat([data, gt1])\n",
    "    observedData['type'] = type1 + '-' + str(subject)\n",
    "\n",
    "    if(\"GT2\" in files):\n",
    "        gt2 = pd.read_csv(sc.load_Data(user, files[\"GT2\"]), header=0)\n",
    "        type2 = files[\"GT2\"][2]\n",
    "        start2 = files[\"StartTime2\"]\n",
    "        end2 = files[\"EndTime2\"]\n",
    "        observedData1 = pd.DataFrame(sc.useable_Data(data, gt2, start2, end2))\n",
    "        observedData1['type'] = type2 + '-' + str(subject)\n",
    "        observedData = pd.concat([observedData, observedData1])\n",
    "        \n",
    "    return observedData"
   ]
  },
  {
   "cell_type": "code",
   "execution_count": 42,
   "metadata": {},
   "outputs": [],
   "source": [
    "def get_all_wide(user, files):  \n",
    "    observedData = pd.DataFrame()\n",
    "    \n",
    "    for i in files:\n",
    "        data = pd.read_csv(loc + wide[i])\n",
    "        observedData1 = get_wide_data(user, data, i, files[str(i)])\n",
    "        observedData = pd.concat([observedData, observedData1])    \n",
    "    return observedData"
   ]
  },
  {
   "cell_type": "code",
   "execution_count": 70,
   "metadata": {},
   "outputs": [],
   "source": [
    "# data = get_all_wide(user, files)"
   ]
  },
  {
   "cell_type": "code",
   "execution_count": null,
   "metadata": {},
   "outputs": [],
   "source": []
  }
 ],
 "metadata": {
  "kernelspec": {
   "display_name": "Python 3",
   "language": "python",
   "name": "python3"
  },
  "language_info": {
   "codemirror_mode": {
    "name": "ipython",
    "version": 3
   },
   "file_extension": ".py",
   "mimetype": "text/x-python",
   "name": "python",
   "nbconvert_exporter": "python",
   "pygments_lexer": "ipython3",
   "version": "3.6.4"
  }
 },
 "nbformat": 4,
 "nbformat_minor": 2
}
