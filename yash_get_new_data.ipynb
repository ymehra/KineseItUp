{
 "cells": [
  {
   "cell_type": "code",
   "execution_count": 3,
   "metadata": {},
   "outputs": [],
   "source": [
    "import pandas as pd\n",
    "import json\n",
    "import sklearn.svm as svm\n",
    "from sklearn.linear_model import Lasso, LassoCV\n",
    "from sklearn.feature_selection import SelectFromModel\n",
    "import numpy as np\n",
    "from sklearn.neural_network import MLPClassifier\n",
    "import script as sc\n",
    "from sklearn import preprocessing\n",
    "from sklearn.metrics import confusion_matrix\n",
    "from sklearn.metrics import f1_score"
   ]
  },
  {
   "cell_type": "code",
   "execution_count": 10,
   "metadata": {},
   "outputs": [],
   "source": [
    "user = \"Yash\""
   ]
  },
  {
   "cell_type": "code",
   "execution_count": 11,
   "metadata": {},
   "outputs": [],
   "source": [
    "files = sc.load_struct()\n",
    "loc = json.load(open('dir.json'))[user]"
   ]
  },
  {
   "cell_type": "code",
   "execution_count": 13,
   "metadata": {},
   "outputs": [],
   "source": [
    "def get_wide_data(user, subject, files):\n",
    "    data = pd.read_csv(sc.load_Data(user, files[\"WIDE\"]), header=0)\n",
    "    gt1 = pd.read_csv(load_Data(user, files[\"GT1\"]), header=0)\n",
    "    type1 = files[\"GT1\"][2]\n",
    "    start1 = files[\"StartTime1\"]\n",
    "    end1 = files[\"EndTime1\"]\n",
    "    observedData = pd.DataFrame(useable_Data(data, gt1, start1, end1))\n",
    "    observedData['type'] = type1 + '-' + str(subject)\n",
    "\n",
    "    if(\"GT2\" in files):\n",
    "        gt2 = pd.read_csv(load_Data(user, files[\"GT2\"]), header=0)\n",
    "        type2 = files[\"GT2\"][2]\n",
    "        start2 = files[\"StartTime2\"]\n",
    "        end2 = files[\"EndTime2\"]\n",
    "        observedData1 = pd.DataFrame(useable_Data(data, gt2, start2, end2))\n",
    "        observedData1['type'] = type2 + '-' + str(subject)\n",
    "        observedData = pd.concat([observedData, observedData1])\n",
    "        \n",
    "    return observedData"
   ]
  },
  {
   "cell_type": "code",
   "execution_count": 14,
   "metadata": {},
   "outputs": [],
   "source": [
    "def get_all_wide(user, files):  \n",
    "    observedData = pd.DataFrame()\n",
    "    for i in files:\n",
    "        observedData1 = get_wide_data(user, i, files[str(i)])\n",
    "        observedData = pd.concat([observedData, observedData1])    \n",
    "    return observedData"
   ]
  },
  {
   "cell_type": "code",
   "execution_count": null,
   "metadata": {},
   "outputs": [],
   "source": [
    "data = get_all_wide(user, files)"
   ]
  }
 ],
 "metadata": {
  "kernelspec": {
   "display_name": "Python 3",
   "language": "python",
   "name": "python3"
  },
  "language_info": {
   "codemirror_mode": {
    "name": "ipython",
    "version": 3
   },
   "file_extension": ".py",
   "mimetype": "text/x-python",
   "name": "python",
   "nbconvert_exporter": "python",
   "pygments_lexer": "ipython3",
   "version": "3.6.4"
  }
 },
 "nbformat": 4,
 "nbformat_minor": 2
}
